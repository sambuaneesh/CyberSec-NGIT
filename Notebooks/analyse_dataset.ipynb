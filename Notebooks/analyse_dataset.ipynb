{
 "cells": [
  {
   "cell_type": "code",
   "execution_count": 17,
   "metadata": {},
   "outputs": [
    {
     "ename": "KeyboardInterrupt",
     "evalue": "",
     "output_type": "error",
     "traceback": [
      "\u001b[1;31m---------------------------------------------------------------------------\u001b[0m",
      "\u001b[1;31mKeyboardInterrupt\u001b[0m                         Traceback (most recent call last)",
      "Cell \u001b[1;32mIn[17], line 4\u001b[0m\n\u001b[0;32m      1\u001b[0m \u001b[39mimport\u001b[39;00m \u001b[39mpandas\u001b[39;00m \u001b[39mas\u001b[39;00m \u001b[39mpd\u001b[39;00m\n\u001b[0;32m      3\u001b[0m \u001b[39m# Load the dataset into a Pandas DataFrame\u001b[39;00m\n\u001b[1;32m----> 4\u001b[0m df \u001b[39m=\u001b[39m pd\u001b[39m.\u001b[39;49mread_csv(\u001b[39mr\u001b[39;49m\u001b[39m\"\u001b[39;49m\u001b[39mD:\u001b[39;49m\u001b[39m\\\u001b[39;49m\u001b[39mStuff\u001b[39;49m\u001b[39m\\\u001b[39;49m\u001b[39mCyberSec\u001b[39;49m\u001b[39m\\\u001b[39;49m\u001b[39mDatasets\u001b[39;49m\u001b[39m\\\u001b[39;49m\u001b[39mIDS2018\u001b[39;49m\u001b[39m\\\u001b[39;49m\u001b[39m02-23-2018.csv\u001b[39;49m\u001b[39m\"\u001b[39;49m)\n\u001b[0;32m      6\u001b[0m \u001b[39m# Access the label column and get unique values\u001b[39;00m\n\u001b[0;32m      7\u001b[0m label_values \u001b[39m=\u001b[39m df\u001b[39m.\u001b[39miloc[:, \u001b[39m-\u001b[39m\u001b[39m1\u001b[39m]\u001b[39m.\u001b[39munique()\n",
      "File \u001b[1;32mc:\\Users\\Aneesh\\.conda\\envs\\cyber\\lib\\site-packages\\pandas\\util\\_decorators.py:211\u001b[0m, in \u001b[0;36mdeprecate_kwarg.<locals>._deprecate_kwarg.<locals>.wrapper\u001b[1;34m(*args, **kwargs)\u001b[0m\n\u001b[0;32m    209\u001b[0m     \u001b[39melse\u001b[39;00m:\n\u001b[0;32m    210\u001b[0m         kwargs[new_arg_name] \u001b[39m=\u001b[39m new_arg_value\n\u001b[1;32m--> 211\u001b[0m \u001b[39mreturn\u001b[39;00m func(\u001b[39m*\u001b[39margs, \u001b[39m*\u001b[39m\u001b[39m*\u001b[39mkwargs)\n",
      "File \u001b[1;32mc:\\Users\\Aneesh\\.conda\\envs\\cyber\\lib\\site-packages\\pandas\\util\\_decorators.py:331\u001b[0m, in \u001b[0;36mdeprecate_nonkeyword_arguments.<locals>.decorate.<locals>.wrapper\u001b[1;34m(*args, **kwargs)\u001b[0m\n\u001b[0;32m    325\u001b[0m \u001b[39mif\u001b[39;00m \u001b[39mlen\u001b[39m(args) \u001b[39m>\u001b[39m num_allow_args:\n\u001b[0;32m    326\u001b[0m     warnings\u001b[39m.\u001b[39mwarn(\n\u001b[0;32m    327\u001b[0m         msg\u001b[39m.\u001b[39mformat(arguments\u001b[39m=\u001b[39m_format_argument_list(allow_args)),\n\u001b[0;32m    328\u001b[0m         \u001b[39mFutureWarning\u001b[39;00m,\n\u001b[0;32m    329\u001b[0m         stacklevel\u001b[39m=\u001b[39mfind_stack_level(),\n\u001b[0;32m    330\u001b[0m     )\n\u001b[1;32m--> 331\u001b[0m \u001b[39mreturn\u001b[39;00m func(\u001b[39m*\u001b[39margs, \u001b[39m*\u001b[39m\u001b[39m*\u001b[39mkwargs)\n",
      "File \u001b[1;32mc:\\Users\\Aneesh\\.conda\\envs\\cyber\\lib\\site-packages\\pandas\\io\\parsers\\readers.py:950\u001b[0m, in \u001b[0;36mread_csv\u001b[1;34m(filepath_or_buffer, sep, delimiter, header, names, index_col, usecols, squeeze, prefix, mangle_dupe_cols, dtype, engine, converters, true_values, false_values, skipinitialspace, skiprows, skipfooter, nrows, na_values, keep_default_na, na_filter, verbose, skip_blank_lines, parse_dates, infer_datetime_format, keep_date_col, date_parser, dayfirst, cache_dates, iterator, chunksize, compression, thousands, decimal, lineterminator, quotechar, quoting, doublequote, escapechar, comment, encoding, encoding_errors, dialect, error_bad_lines, warn_bad_lines, on_bad_lines, delim_whitespace, low_memory, memory_map, float_precision, storage_options)\u001b[0m\n\u001b[0;32m    935\u001b[0m kwds_defaults \u001b[39m=\u001b[39m _refine_defaults_read(\n\u001b[0;32m    936\u001b[0m     dialect,\n\u001b[0;32m    937\u001b[0m     delimiter,\n\u001b[1;32m   (...)\u001b[0m\n\u001b[0;32m    946\u001b[0m     defaults\u001b[39m=\u001b[39m{\u001b[39m\"\u001b[39m\u001b[39mdelimiter\u001b[39m\u001b[39m\"\u001b[39m: \u001b[39m\"\u001b[39m\u001b[39m,\u001b[39m\u001b[39m\"\u001b[39m},\n\u001b[0;32m    947\u001b[0m )\n\u001b[0;32m    948\u001b[0m kwds\u001b[39m.\u001b[39mupdate(kwds_defaults)\n\u001b[1;32m--> 950\u001b[0m \u001b[39mreturn\u001b[39;00m _read(filepath_or_buffer, kwds)\n",
      "File \u001b[1;32mc:\\Users\\Aneesh\\.conda\\envs\\cyber\\lib\\site-packages\\pandas\\io\\parsers\\readers.py:611\u001b[0m, in \u001b[0;36m_read\u001b[1;34m(filepath_or_buffer, kwds)\u001b[0m\n\u001b[0;32m    608\u001b[0m     \u001b[39mreturn\u001b[39;00m parser\n\u001b[0;32m    610\u001b[0m \u001b[39mwith\u001b[39;00m parser:\n\u001b[1;32m--> 611\u001b[0m     \u001b[39mreturn\u001b[39;00m parser\u001b[39m.\u001b[39;49mread(nrows)\n",
      "File \u001b[1;32mc:\\Users\\Aneesh\\.conda\\envs\\cyber\\lib\\site-packages\\pandas\\io\\parsers\\readers.py:1778\u001b[0m, in \u001b[0;36mTextFileReader.read\u001b[1;34m(self, nrows)\u001b[0m\n\u001b[0;32m   1771\u001b[0m nrows \u001b[39m=\u001b[39m validate_integer(\u001b[39m\"\u001b[39m\u001b[39mnrows\u001b[39m\u001b[39m\"\u001b[39m, nrows)\n\u001b[0;32m   1772\u001b[0m \u001b[39mtry\u001b[39;00m:\n\u001b[0;32m   1773\u001b[0m     \u001b[39m# error: \"ParserBase\" has no attribute \"read\"\u001b[39;00m\n\u001b[0;32m   1774\u001b[0m     (\n\u001b[0;32m   1775\u001b[0m         index,\n\u001b[0;32m   1776\u001b[0m         columns,\n\u001b[0;32m   1777\u001b[0m         col_dict,\n\u001b[1;32m-> 1778\u001b[0m     ) \u001b[39m=\u001b[39m \u001b[39mself\u001b[39;49m\u001b[39m.\u001b[39;49m_engine\u001b[39m.\u001b[39;49mread(  \u001b[39m# type: ignore[attr-defined]\u001b[39;49;00m\n\u001b[0;32m   1779\u001b[0m         nrows\n\u001b[0;32m   1780\u001b[0m     )\n\u001b[0;32m   1781\u001b[0m \u001b[39mexcept\u001b[39;00m \u001b[39mException\u001b[39;00m:\n\u001b[0;32m   1782\u001b[0m     \u001b[39mself\u001b[39m\u001b[39m.\u001b[39mclose()\n",
      "File \u001b[1;32mc:\\Users\\Aneesh\\.conda\\envs\\cyber\\lib\\site-packages\\pandas\\io\\parsers\\c_parser_wrapper.py:230\u001b[0m, in \u001b[0;36mCParserWrapper.read\u001b[1;34m(self, nrows)\u001b[0m\n\u001b[0;32m    228\u001b[0m \u001b[39mtry\u001b[39;00m:\n\u001b[0;32m    229\u001b[0m     \u001b[39mif\u001b[39;00m \u001b[39mself\u001b[39m\u001b[39m.\u001b[39mlow_memory:\n\u001b[1;32m--> 230\u001b[0m         chunks \u001b[39m=\u001b[39m \u001b[39mself\u001b[39;49m\u001b[39m.\u001b[39;49m_reader\u001b[39m.\u001b[39;49mread_low_memory(nrows)\n\u001b[0;32m    231\u001b[0m         \u001b[39m# destructive to chunks\u001b[39;00m\n\u001b[0;32m    232\u001b[0m         data \u001b[39m=\u001b[39m _concatenate_chunks(chunks)\n",
      "File \u001b[1;32mc:\\Users\\Aneesh\\.conda\\envs\\cyber\\lib\\site-packages\\pandas\\_libs\\parsers.pyx:808\u001b[0m, in \u001b[0;36mpandas._libs.parsers.TextReader.read_low_memory\u001b[1;34m()\u001b[0m\n",
      "File \u001b[1;32mc:\\Users\\Aneesh\\.conda\\envs\\cyber\\lib\\site-packages\\pandas\\_libs\\parsers.pyx:890\u001b[0m, in \u001b[0;36mpandas._libs.parsers.TextReader._read_rows\u001b[1;34m()\u001b[0m\n",
      "File \u001b[1;32mc:\\Users\\Aneesh\\.conda\\envs\\cyber\\lib\\site-packages\\pandas\\_libs\\parsers.pyx:1037\u001b[0m, in \u001b[0;36mpandas._libs.parsers.TextReader._convert_column_data\u001b[1;34m()\u001b[0m\n",
      "File \u001b[1;32mc:\\Users\\Aneesh\\.conda\\envs\\cyber\\lib\\site-packages\\pandas\\_libs\\parsers.pyx:1083\u001b[0m, in \u001b[0;36mpandas._libs.parsers.TextReader._convert_tokens\u001b[1;34m()\u001b[0m\n",
      "File \u001b[1;32mc:\\Users\\Aneesh\\.conda\\envs\\cyber\\lib\\site-packages\\pandas\\_libs\\parsers.pyx:1158\u001b[0m, in \u001b[0;36mpandas._libs.parsers.TextReader._convert_with_dtype\u001b[1;34m()\u001b[0m\n",
      "File \u001b[1;32mc:\\Users\\Aneesh\\.conda\\envs\\cyber\\lib\\site-packages\\pandas\\core\\dtypes\\common.py:1433\u001b[0m, in \u001b[0;36mis_extension_array_dtype\u001b[1;34m(arr_or_dtype)\u001b[0m\n\u001b[0;32m   1424\u001b[0m     \u001b[39m# Note: if other EA dtypes are ever held in HybridBlock, exclude those\u001b[39;00m\n\u001b[0;32m   1425\u001b[0m     \u001b[39m#  here too.\u001b[39;00m\n\u001b[0;32m   1426\u001b[0m     \u001b[39m# NB: need to check DatetimeTZDtype and not is_datetime64tz_dtype\u001b[39;00m\n\u001b[0;32m   1427\u001b[0m     \u001b[39m#  to exclude ArrowTimestampUSDtype\u001b[39;00m\n\u001b[0;32m   1428\u001b[0m     \u001b[39mreturn\u001b[39;00m \u001b[39misinstance\u001b[39m(dtype, ExtensionDtype) \u001b[39mand\u001b[39;00m \u001b[39mnot\u001b[39;00m \u001b[39misinstance\u001b[39m(\n\u001b[0;32m   1429\u001b[0m         dtype, (DatetimeTZDtype, PeriodDtype)\n\u001b[0;32m   1430\u001b[0m     )\n\u001b[1;32m-> 1433\u001b[0m \u001b[39mdef\u001b[39;00m \u001b[39mis_extension_array_dtype\u001b[39m(arr_or_dtype) \u001b[39m-\u001b[39m\u001b[39m>\u001b[39m \u001b[39mbool\u001b[39m:\n\u001b[0;32m   1434\u001b[0m \u001b[39m    \u001b[39m\u001b[39m\"\"\"\u001b[39;00m\n\u001b[0;32m   1435\u001b[0m \u001b[39m    Check if an object is a pandas extension array type.\u001b[39;00m\n\u001b[0;32m   1436\u001b[0m \n\u001b[1;32m   (...)\u001b[0m\n\u001b[0;32m   1476\u001b[0m \u001b[39m    False\u001b[39;00m\n\u001b[0;32m   1477\u001b[0m \u001b[39m    \"\"\"\u001b[39;00m\n\u001b[0;32m   1478\u001b[0m     dtype \u001b[39m=\u001b[39m \u001b[39mgetattr\u001b[39m(arr_or_dtype, \u001b[39m\"\u001b[39m\u001b[39mdtype\u001b[39m\u001b[39m\"\u001b[39m, arr_or_dtype)\n",
      "\u001b[1;31mKeyboardInterrupt\u001b[0m: "
     ]
    }
   ],
   "source": [
    "import pandas as pd\n",
    "\n",
    "# Load the dataset into a Pandas DataFrame\n",
    "df = pd.read_csv(r\"D:\\Stuff\\CyberSec\\Datasets\\IDS2018\\02-23-2018.csv\")\n",
    "\n",
    "# Access the label column and get unique values\n",
    "label_values = df.iloc[:, -1].unique()\n",
    "\n",
    "# Sort the unique values alphabetically\n",
    "label_values = sorted(label_values)\n",
    "\n",
    "# Print the unique label values\n",
    "print(label_values)\n"
   ]
  },
  {
   "cell_type": "code",
   "execution_count": null,
   "metadata": {},
   "outputs": [
    {
     "name": "stdout",
     "output_type": "stream",
     "text": [
      "Benign    72.706673\n",
      "Bot       27.293327\n",
      "Name: Label, dtype: float64\n"
     ]
    }
   ],
   "source": [
    "import pandas as pd\n",
    "\n",
    "# Load the dataset into a Pandas DataFrame\n",
    "df = pd.read_csv(r\"D:\\Stuff\\CyberSec\\Datasets\\IDS2018\\03-02-2018.csv\")\n",
    "\n",
    "# Calculate the percentage of each label in the dataset\n",
    "label_percentages = df.iloc[:, -1].value_counts() / df.shape[0] * 100\n",
    "\n",
    "# Print the label percentages\n",
    "print(label_percentages)\n"
   ]
  },
  {
   "cell_type": "code",
   "execution_count": null,
   "metadata": {},
   "outputs": [],
   "source": [
    "import pandas as pd\n",
    "\n",
    "# Load the dataset into a Pandas DataFrame\n",
    "df = pd.read_csv(r\"D:\\Stuff\\CyberSec\\Datasets\\IDS2018\\02-14-2018.csv\")\n",
    "\n",
    "# Replace old labels with new ones\n",
    "df['new_label'] = df['old_label'].replace({'label1': 'new_label1', 'label2': 'new_label2'})\n",
    "\n",
    "# Export the updated dataset to a new CSV file\n",
    "df.to_csv('new_dataset.csv', index=False)\n"
   ]
  },
  {
   "cell_type": "code",
   "execution_count": null,
   "metadata": {},
   "outputs": [],
   "source": [
    "import pandas as pd\n",
    "\n",
    "# Load the dataset into a Pandas DataFrame\n",
    "df = pd.read_csv(r\"D:\\Stuff\\CyberSec\\Datasets\\IDS2018\\02-14-2018.csv\")\n",
    "\n",
    "# Combine all labels except \"Benign\" into a single label \"Bruteforce\"\n",
    "df.iloc[:, -1] = df.iloc[:, -1].apply(lambda x: 'Bruteforce' if x != 'Benign' else x)\n",
    "\n",
    "# Export the updated dataset to a new CSV file\n",
    "# df[df['new_label'] != 'Benign'].to_csv('new_dataset.csv', index=False)\n",
    "df[df['new_label'] != 'Benign'].sample(n=10000).to_csv('random_dataset.csv', index=False)\n",
    "\n",
    "# Export a random sample of 1000 rows to a new CSV file\n",
    "# df[df['new_label'] != 'Benign'].sample(n=10000).to_csv('random_sample.csv', index=False)\n"
   ]
  },
  {
   "cell_type": "code",
   "execution_count": null,
   "metadata": {},
   "outputs": [],
   "source": [
    "import pandas as pd\n",
    "\n",
    "# Load the dataset into a Pandas DataFrame\n",
    "df = pd.read_csv(r\"D:\\Stuff\\CyberSec\\Datasets\\IDS2018\\02-14-2018.csv\")\n",
    "\n",
    "# Replace all labels except \"Benign\" with \"Bruteforce\"\n",
    "df.iloc[:, -1] = df.iloc[:, -1].apply(lambda x: 'Bruteforce' if x != 'Benign' else x)\n",
    "\n",
    "# Filter the dataset to exclude \"Benign\" samples\n",
    "df_filtered = df[df.iloc[:, -1] != 'Benign']\n",
    "\n",
    "# Export the updated dataset to a new CSV file, overwriting the original dataset\n",
    "df_filtered.to_csv('your_dataset.csv', index=False)\n",
    "\n",
    "\n",
    "# import pandas as pd\n",
    "\n",
    "# # Load the dataset into a Pandas DataFrame\n",
    "# df = pd.read_csv(r\"D:\\Stuff\\CyberSec\\Datasets\\IDS2018\\02-14-2018.csv\")\n",
    "\n",
    "# # Replace all labels except \"Benign\" with \"Bruteforce\"\n",
    "# df.iloc[:, -1] = df.iloc[:, -1].apply(lambda x: 'Bruteforce' if x != 'Benign' else x)\n",
    "\n",
    "# # Filter the dataset to exclude \"Benign\" samples\n",
    "# df_filtered = df[df.iloc[:, -1] != 'Benign']\n",
    "\n",
    "# # Randomly sample 1000 rows from the filtered DataFrame\n",
    "# df_sampled = df_filtered.sample(n=1000, random_state=42)\n",
    "\n",
    "# # Export the sampled dataset to a new CSV file\n",
    "# df_sampled.to_csv('random_sample.csv', index=False)\n"
   ]
  },
  {
   "cell_type": "code",
   "execution_count": 14,
   "metadata": {},
   "outputs": [
    {
     "name": "stderr",
     "output_type": "stream",
     "text": [
      "C:\\Users\\Aneesh\\AppData\\Local\\Temp\\ipykernel_4452\\1012484695.py:14: SettingWithCopyWarning: \n",
      "A value is trying to be set on a copy of a slice from a DataFrame.\n",
      "Try using .loc[row_indexer,col_indexer] = value instead\n",
      "\n",
      "See the caveats in the documentation: https://pandas.pydata.org/pandas-docs/stable/user_guide/indexing.html#returning-a-view-versus-a-copy\n",
      "  rest_df.iloc[:,last_col_idx] = 'Bot'\n"
     ]
    }
   ],
   "source": [
    "import pandas as pd\n",
    "\n",
    "# Read in the dataset\n",
    "df = pd.read_csv(r\"D:\\Stuff\\CyberSec\\Datasets\\IDS2018\\03-02-2018.csv\")\n",
    "\n",
    "# Get the index of the last column\n",
    "last_col_idx = len(df.columns) - 1\n",
    "\n",
    "# Separate benign labels from rest of labels\n",
    "benign_df = df[df.iloc[:,last_col_idx] == 'Benign']\n",
    "rest_df = df[df.iloc[:,last_col_idx] != 'Benign']\n",
    "\n",
    "# Rename rest labels as a single unit\n",
    "rest_df.iloc[:,last_col_idx] = 'Bot'\n",
    "\n",
    "# Write the new datasets to csv files\n",
    "benign_df.to_csv(\"benign_10.csv\", index=False)\n",
    "rest_df.to_csv(\"bot.csv\", index=False)\n"
   ]
  },
  {
   "cell_type": "code",
   "execution_count": 13,
   "metadata": {},
   "outputs": [
    {
     "name": "stdout",
     "output_type": "stream",
     "text": [
      "Benign    72.706673\n",
      "Bot       27.293327\n",
      "Name: Label, dtype: float64\n"
     ]
    }
   ],
   "source": [
    "import pandas as pd\n",
    "\n",
    "# Load the dataset into a Pandas DataFrame\n",
    "df = pd.read_csv(r\"D:\\Stuff\\CyberSec\\Datasets\\IDS2018\\03-02-2018.csv\")\n",
    "\n",
    "# Calculate the percentage of each label in the dataset\n",
    "label_percentages = df.iloc[:, -1].value_counts() / df.shape[0] * 100\n",
    "\n",
    "# Print the label percentages\n",
    "print(label_percentages)\n"
   ]
  },
  {
   "cell_type": "code",
   "execution_count": 9,
   "metadata": {},
   "outputs": [],
   "source": [
    "import pandas as pd\n",
    "\n",
    "# Read in the dataset\n",
    "df = pd.read_csv(r\"D:\\Stuff\\CyberSec\\Datasets\\IDS2018\\02-21-2018.csv\")\n",
    "\n",
    "# Separate benign labels from rest of labels and rename rest labels\n",
    "df.loc[df.iloc[:, -1] == 'Benign', :].to_csv(\"benign_05.csv\", index=False)\n",
    "df.loc[df.iloc[:, -1] != 'Benign', -1] = 'DDoS'\n",
    "df.to_csv(\"ddos2.csv\", index=False, header=False)\n"
   ]
  },
  {
   "cell_type": "code",
   "execution_count": 3,
   "metadata": {},
   "outputs": [
    {
     "name": "stderr",
     "output_type": "stream",
     "text": [
      "C:\\Users\\Aneesh\\AppData\\Local\\Temp\\ipykernel_7952\\2679716573.py:11: DtypeWarning: Columns (0,1,3,4,5,6,7,8,9,10,11,12,13,14,15,16,17,18,19,20,21,22,23,24,25,26,27,28,29,30,31,32,33,34,35,36,37,38,39,40,41,42,43,44,45,46,47,48,49,50,51,52,53,54,55,56,57,58,59,60,61,62,63,64,65,66,67,68,69,70,71,72,73,74,75,76,77,78) have mixed types. Specify dtype option on import or set low_memory=False.\n",
      "  df = pd.concat([pd.read_csv(f) for f in csv_files], ignore_index=True)\n",
      "C:\\Users\\Aneesh\\AppData\\Local\\Temp\\ipykernel_7952\\2679716573.py:11: DtypeWarning: Columns (0,1,3,4,5,6,7,8,9,10,11,12,13,14,15,16,17,18,19,20,21,22,23,24,25,26,27,28,29,30,31,32,33,34,35,36,37,38,39,40,41,42,43,44,45,46,47,48,49,50,51,52,53,54,55,56,57,58,59,60,61,62,63,64,65,66,67,68,69,70,71,72,73,74,75,76,77,78) have mixed types. Specify dtype option on import or set low_memory=False.\n",
      "  df = pd.concat([pd.read_csv(f) for f in csv_files], ignore_index=True)\n"
     ]
    }
   ],
   "source": [
    "import os\n",
    "import pandas as pd\n",
    "\n",
    "# Path to the directory containing the CSV files\n",
    "csv_dir = r\"D:\\Stuff\\CyberSec\\Datasets\\IDS2018_extract\\infilteration\"\n",
    "\n",
    "# Get a list of all CSV files in the directory\n",
    "csv_files = [os.path.join(csv_dir, f) for f in os.listdir(csv_dir) if f.endswith('.csv')]\n",
    "\n",
    "# Combine all CSV files into a single DataFrame\n",
    "df = pd.concat([pd.read_csv(f) for f in csv_files], ignore_index=True)\n",
    "\n",
    "# Write the combined DataFrame to a CSV file\n",
    "df.to_csv(r\"D:\\Stuff\\CyberSec\\Datasets\\IDS2018_extract\\infilteration.csv\", index=False)\n"
   ]
  },
  {
   "cell_type": "code",
   "execution_count": 1,
   "metadata": {},
   "outputs": [
    {
     "name": "stderr",
     "output_type": "stream",
     "text": [
      "c:\\Users\\Aneesh\\.conda\\envs\\cyber\\lib\\site-packages\\dask\\dataframe\\io\\csv.py:193: DtypeWarning: Columns (0,1,3,4,5,6,7,8,9,10,11,12,13,14,15,16,17,18,19,20,21,22,23,24,25,26,27,28,29,30,31,32,33,34,35,36,37,38,39,40,41,42,43,44,45,46,47,48,49,50,51,52,53,54,55,56,57,58,59,60,61,62,63,64,65,66,67,68,69,70,71,72,73,74,75,76,77,78) have mixed types. Specify dtype option on import or set low_memory=False.\n",
      "  df = reader(bio, **kwargs)\n"
     ]
    },
    {
     "ename": "ValueError",
     "evalue": "Mismatched dtypes found in `pd.read_csv`/`pd.read_table`.\n\n+-------------------+--------+----------+\n| Column            | Found  | Expected |\n+-------------------+--------+----------+\n| ACK Flag Cnt      | object | int64    |\n| Active Max        | object | int64    |\n| Active Mean       | object | float64  |\n| Active Min        | object | int64    |\n| Active Std        | object | float64  |\n| Bwd Blk Rate Avg  | object | int64    |\n| Bwd Byts/b Avg    | object | int64    |\n| Bwd Header Len    | object | int64    |\n| Bwd IAT Max       | object | int64    |\n| Bwd IAT Mean      | object | float64  |\n| Bwd IAT Min       | object | int64    |\n| Bwd IAT Std       | object | float64  |\n| Bwd IAT Tot       | object | int64    |\n| Bwd PSH Flags     | object | int64    |\n| Bwd Pkt Len Max   | object | int64    |\n| Bwd Pkt Len Mean  | object | float64  |\n| Bwd Pkt Len Min   | object | int64    |\n| Bwd Pkt Len Std   | object | float64  |\n| Bwd Pkts/b Avg    | object | int64    |\n| Bwd Pkts/s        | object | float64  |\n| Bwd Seg Size Avg  | object | float64  |\n| Bwd URG Flags     | object | int64    |\n| CWE Flag Count    | object | int64    |\n| Down/Up Ratio     | object | int64    |\n| Dst Port          | object | int64    |\n| ECE Flag Cnt      | object | int64    |\n| FIN Flag Cnt      | object | int64    |\n| Flow Byts/s       | object | float64  |\n| Flow Duration     | object | int64    |\n| Flow IAT Max      | object | int64    |\n| Flow IAT Mean     | object | float64  |\n| Flow IAT Min      | object | int64    |\n| Flow IAT Std      | object | float64  |\n| Flow Pkts/s       | object | float64  |\n| Fwd Act Data Pkts | object | int64    |\n| Fwd Blk Rate Avg  | object | int64    |\n| Fwd Byts/b Avg    | object | int64    |\n| Fwd Header Len    | object | int64    |\n| Fwd IAT Max       | object | int64    |\n| Fwd IAT Mean      | object | float64  |\n| Fwd IAT Min       | object | int64    |\n| Fwd IAT Std       | object | float64  |\n| Fwd IAT Tot       | object | int64    |\n| Fwd PSH Flags     | object | int64    |\n| Fwd Pkt Len Max   | object | int64    |\n| Fwd Pkt Len Mean  | object | float64  |\n| Fwd Pkt Len Min   | object | int64    |\n| Fwd Pkt Len Std   | object | float64  |\n| Fwd Pkts/b Avg    | object | int64    |\n| Fwd Pkts/s        | object | float64  |\n| Fwd Seg Size Avg  | object | float64  |\n| Fwd Seg Size Min  | object | int64    |\n| Fwd URG Flags     | object | int64    |\n| Idle Max          | object | int64    |\n| Idle Mean         | object | float64  |\n| Idle Min          | object | int64    |\n| Idle Std          | object | float64  |\n| Init Bwd Win Byts | object | int64    |\n| Init Fwd Win Byts | object | int64    |\n| PSH Flag Cnt      | object | int64    |\n| Pkt Len Max       | object | int64    |\n| Pkt Len Mean      | object | float64  |\n| Pkt Len Min       | object | int64    |\n| Pkt Len Std       | object | float64  |\n| Pkt Len Var       | object | float64  |\n| Pkt Size Avg      | object | float64  |\n| Protocol          | object | int64    |\n| RST Flag Cnt      | object | int64    |\n| SYN Flag Cnt      | object | int64    |\n| Subflow Bwd Byts  | object | int64    |\n| Subflow Bwd Pkts  | object | int64    |\n| Subflow Fwd Byts  | object | int64    |\n| Subflow Fwd Pkts  | object | int64    |\n| Tot Bwd Pkts      | object | int64    |\n| Tot Fwd Pkts      | object | int64    |\n| TotLen Bwd Pkts   | object | int64    |\n| TotLen Fwd Pkts   | object | int64    |\n| URG Flag Cnt      | object | int64    |\n+-------------------+--------+----------+\n\nThe following columns also raised exceptions on conversion:\n\n- ACK Flag Cnt\n  ValueError(\"invalid literal for int() with base 10: 'ACK Flag Cnt'\")\n- Active Max\n  ValueError(\"invalid literal for int() with base 10: 'Active Max'\")\n- Active Mean\n  ValueError(\"could not convert string to float: 'Active Mean'\")\n- Active Min\n  ValueError(\"invalid literal for int() with base 10: 'Active Min'\")\n- Active Std\n  ValueError(\"could not convert string to float: 'Active Std'\")\n- Bwd Blk Rate Avg\n  ValueError(\"invalid literal for int() with base 10: 'Bwd Blk Rate Avg'\")\n- Bwd Byts/b Avg\n  ValueError(\"invalid literal for int() with base 10: 'Bwd Byts/b Avg'\")\n- Bwd Header Len\n  ValueError(\"invalid literal for int() with base 10: 'Bwd Header Len'\")\n- Bwd IAT Max\n  ValueError(\"invalid literal for int() with base 10: 'Bwd IAT Max'\")\n- Bwd IAT Mean\n  ValueError(\"could not convert string to float: 'Bwd IAT Mean'\")\n- Bwd IAT Min\n  ValueError(\"invalid literal for int() with base 10: 'Bwd IAT Min'\")\n- Bwd IAT Std\n  ValueError(\"could not convert string to float: 'Bwd IAT Std'\")\n- Bwd IAT Tot\n  ValueError(\"invalid literal for int() with base 10: 'Bwd IAT Tot'\")\n- Bwd PSH Flags\n  ValueError(\"invalid literal for int() with base 10: 'Bwd PSH Flags'\")\n- Bwd Pkt Len Max\n  ValueError(\"invalid literal for int() with base 10: 'Bwd Pkt Len Max'\")\n- Bwd Pkt Len Mean\n  ValueError(\"could not convert string to float: 'Bwd Pkt Len Mean'\")\n- Bwd Pkt Len Min\n  ValueError(\"invalid literal for int() with base 10: 'Bwd Pkt Len Min'\")\n- Bwd Pkt Len Std\n  ValueError(\"could not convert string to float: 'Bwd Pkt Len Std'\")\n- Bwd Pkts/b Avg\n  ValueError(\"invalid literal for int() with base 10: 'Bwd Pkts/b Avg'\")\n- Bwd Pkts/s\n  ValueError(\"could not convert string to float: 'Bwd Pkts/s'\")\n- Bwd Seg Size Avg\n  ValueError(\"could not convert string to float: 'Bwd Seg Size Avg'\")\n- Bwd URG Flags\n  ValueError(\"invalid literal for int() with base 10: 'Bwd URG Flags'\")\n- CWE Flag Count\n  ValueError(\"invalid literal for int() with base 10: 'CWE Flag Count'\")\n- Down/Up Ratio\n  ValueError(\"invalid literal for int() with base 10: 'Down/Up Ratio'\")\n- Dst Port\n  ValueError(\"invalid literal for int() with base 10: 'Dst Port'\")\n- ECE Flag Cnt\n  ValueError(\"invalid literal for int() with base 10: 'ECE Flag Cnt'\")\n- FIN Flag Cnt\n  ValueError(\"invalid literal for int() with base 10: 'FIN Flag Cnt'\")\n- Flow Byts/s\n  ValueError(\"could not convert string to float: 'Flow Byts/s'\")\n- Flow Duration\n  ValueError(\"invalid literal for int() with base 10: 'Flow Duration'\")\n- Flow IAT Max\n  ValueError(\"invalid literal for int() with base 10: 'Flow IAT Max'\")\n- Flow IAT Mean\n  ValueError(\"could not convert string to float: 'Flow IAT Mean'\")\n- Flow IAT Min\n  ValueError(\"invalid literal for int() with base 10: 'Flow IAT Min'\")\n- Flow IAT Std\n  ValueError(\"could not convert string to float: 'Flow IAT Std'\")\n- Flow Pkts/s\n  ValueError(\"could not convert string to float: 'Flow Pkts/s'\")\n- Fwd Act Data Pkts\n  ValueError(\"invalid literal for int() with base 10: 'Fwd Act Data Pkts'\")\n- Fwd Blk Rate Avg\n  ValueError(\"invalid literal for int() with base 10: 'Fwd Blk Rate Avg'\")\n- Fwd Byts/b Avg\n  ValueError(\"invalid literal for int() with base 10: 'Fwd Byts/b Avg'\")\n- Fwd Header Len\n  ValueError(\"invalid literal for int() with base 10: 'Fwd Header Len'\")\n- Fwd IAT Max\n  ValueError(\"invalid literal for int() with base 10: 'Fwd IAT Max'\")\n- Fwd IAT Mean\n  ValueError(\"could not convert string to float: 'Fwd IAT Mean'\")\n- Fwd IAT Min\n  ValueError(\"invalid literal for int() with base 10: 'Fwd IAT Min'\")\n- Fwd IAT Std\n  ValueError(\"could not convert string to float: 'Fwd IAT Std'\")\n- Fwd IAT Tot\n  ValueError(\"invalid literal for int() with base 10: 'Fwd IAT Tot'\")\n- Fwd PSH Flags\n  ValueError(\"invalid literal for int() with base 10: 'Fwd PSH Flags'\")\n- Fwd Pkt Len Max\n  ValueError(\"invalid literal for int() with base 10: 'Fwd Pkt Len Max'\")\n- Fwd Pkt Len Mean\n  ValueError(\"could not convert string to float: 'Fwd Pkt Len Mean'\")\n- Fwd Pkt Len Min\n  ValueError(\"invalid literal for int() with base 10: 'Fwd Pkt Len Min'\")\n- Fwd Pkt Len Std\n  ValueError(\"could not convert string to float: 'Fwd Pkt Len Std'\")\n- Fwd Pkts/b Avg\n  ValueError(\"invalid literal for int() with base 10: 'Fwd Pkts/b Avg'\")\n- Fwd Pkts/s\n  ValueError(\"could not convert string to float: 'Fwd Pkts/s'\")\n- Fwd Seg Size Avg\n  ValueError(\"could not convert string to float: 'Fwd Seg Size Avg'\")\n- Fwd Seg Size Min\n  ValueError(\"invalid literal for int() with base 10: 'Fwd Seg Size Min'\")\n- Fwd URG Flags\n  ValueError(\"invalid literal for int() with base 10: 'Fwd URG Flags'\")\n- Idle Max\n  ValueError(\"invalid literal for int() with base 10: 'Idle Max'\")\n- Idle Mean\n  ValueError(\"could not convert string to float: 'Idle Mean'\")\n- Idle Min\n  ValueError(\"invalid literal for int() with base 10: 'Idle Min'\")\n- Idle Std\n  ValueError(\"could not convert string to float: 'Idle Std'\")\n- Init Bwd Win Byts\n  ValueError(\"invalid literal for int() with base 10: 'Init Bwd Win Byts'\")\n- Init Fwd Win Byts\n  ValueError(\"invalid literal for int() with base 10: 'Init Fwd Win Byts'\")\n- PSH Flag Cnt\n  ValueError(\"invalid literal for int() with base 10: 'PSH Flag Cnt'\")\n- Pkt Len Max\n  ValueError(\"invalid literal for int() with base 10: 'Pkt Len Max'\")\n- Pkt Len Mean\n  ValueError(\"could not convert string to float: 'Pkt Len Mean'\")\n- Pkt Len Min\n  ValueError(\"invalid literal for int() with base 10: 'Pkt Len Min'\")\n- Pkt Len Std\n  ValueError(\"could not convert string to float: 'Pkt Len Std'\")\n- Pkt Len Var\n  ValueError(\"could not convert string to float: 'Pkt Len Var'\")\n- Pkt Size Avg\n  ValueError(\"could not convert string to float: 'Pkt Size Avg'\")\n- Protocol\n  ValueError(\"invalid literal for int() with base 10: 'Protocol'\")\n- RST Flag Cnt\n  ValueError(\"invalid literal for int() with base 10: 'RST Flag Cnt'\")\n- SYN Flag Cnt\n  ValueError(\"invalid literal for int() with base 10: 'SYN Flag Cnt'\")\n- Subflow Bwd Byts\n  ValueError(\"invalid literal for int() with base 10: 'Subflow Bwd Byts'\")\n- Subflow Bwd Pkts\n  ValueError(\"invalid literal for int() with base 10: 'Subflow Bwd Pkts'\")\n- Subflow Fwd Byts\n  ValueError(\"invalid literal for int() with base 10: 'Subflow Fwd Byts'\")\n- Subflow Fwd Pkts\n  ValueError(\"invalid literal for int() with base 10: 'Subflow Fwd Pkts'\")\n- Tot Bwd Pkts\n  ValueError(\"invalid literal for int() with base 10: 'Tot Bwd Pkts'\")\n- Tot Fwd Pkts\n  ValueError(\"invalid literal for int() with base 10: 'Tot Fwd Pkts'\")\n- TotLen Bwd Pkts\n  ValueError(\"invalid literal for int() with base 10: 'TotLen Bwd Pkts'\")\n- TotLen Fwd Pkts\n  ValueError(\"invalid literal for int() with base 10: 'TotLen Fwd Pkts'\")\n- URG Flag Cnt\n  ValueError(\"invalid literal for int() with base 10: 'URG Flag Cnt'\")\n\nUsually this is due to dask's dtype inference failing, and\n*may* be fixed by specifying dtypes manually by adding:\n\ndtype={'ACK Flag Cnt': 'object',\n       'Active Max': 'object',\n       'Active Mean': 'object',\n       'Active Min': 'object',\n       'Active Std': 'object',\n       'Bwd Blk Rate Avg': 'object',\n       'Bwd Byts/b Avg': 'object',\n       'Bwd Header Len': 'object',\n       'Bwd IAT Max': 'object',\n       'Bwd IAT Mean': 'object',\n       'Bwd IAT Min': 'object',\n       'Bwd IAT Std': 'object',\n       'Bwd IAT Tot': 'object',\n       'Bwd PSH Flags': 'object',\n       'Bwd Pkt Len Max': 'object',\n       'Bwd Pkt Len Mean': 'object',\n       'Bwd Pkt Len Min': 'object',\n       'Bwd Pkt Len Std': 'object',\n       'Bwd Pkts/b Avg': 'object',\n       'Bwd Pkts/s': 'object',\n       'Bwd Seg Size Avg': 'object',\n       'Bwd URG Flags': 'object',\n       'CWE Flag Count': 'object',\n       'Down/Up Ratio': 'object',\n       'Dst Port': 'object',\n       'ECE Flag Cnt': 'object',\n       'FIN Flag Cnt': 'object',\n       'Flow Byts/s': 'object',\n       'Flow Duration': 'object',\n       'Flow IAT Max': 'object',\n       'Flow IAT Mean': 'object',\n       'Flow IAT Min': 'object',\n       'Flow IAT Std': 'object',\n       'Flow Pkts/s': 'object',\n       'Fwd Act Data Pkts': 'object',\n       'Fwd Blk Rate Avg': 'object',\n       'Fwd Byts/b Avg': 'object',\n       'Fwd Header Len': 'object',\n       'Fwd IAT Max': 'object',\n       'Fwd IAT Mean': 'object',\n       'Fwd IAT Min': 'object',\n       'Fwd IAT Std': 'object',\n       'Fwd IAT Tot': 'object',\n       'Fwd PSH Flags': 'object',\n       'Fwd Pkt Len Max': 'object',\n       'Fwd Pkt Len Mean': 'object',\n       'Fwd Pkt Len Min': 'object',\n       'Fwd Pkt Len Std': 'object',\n       'Fwd Pkts/b Avg': 'object',\n       'Fwd Pkts/s': 'object',\n       'Fwd Seg Size Avg': 'object',\n       'Fwd Seg Size Min': 'object',\n       'Fwd URG Flags': 'object',\n       'Idle Max': 'object',\n       'Idle Mean': 'object',\n       'Idle Min': 'object',\n       'Idle Std': 'object',\n       'Init Bwd Win Byts': 'object',\n       'Init Fwd Win Byts': 'object',\n       'PSH Flag Cnt': 'object',\n       'Pkt Len Max': 'object',\n       'Pkt Len Mean': 'object',\n       'Pkt Len Min': 'object',\n       'Pkt Len Std': 'object',\n       'Pkt Len Var': 'object',\n       'Pkt Size Avg': 'object',\n       'Protocol': 'object',\n       'RST Flag Cnt': 'object',\n       'SYN Flag Cnt': 'object',\n       'Subflow Bwd Byts': 'object',\n       'Subflow Bwd Pkts': 'object',\n       'Subflow Fwd Byts': 'object',\n       'Subflow Fwd Pkts': 'object',\n       'Tot Bwd Pkts': 'object',\n       'Tot Fwd Pkts': 'object',\n       'TotLen Bwd Pkts': 'object',\n       'TotLen Fwd Pkts': 'object',\n       'URG Flag Cnt': 'object'}\n\nto the call to `read_csv`/`read_table`.",
     "output_type": "error",
     "traceback": [
      "\u001b[1;31m---------------------------------------------------------------------------\u001b[0m",
      "\u001b[1;31mValueError\u001b[0m                                Traceback (most recent call last)",
      "Cell \u001b[1;32mIn[1], line 14\u001b[0m\n\u001b[0;32m     11\u001b[0m df \u001b[39m=\u001b[39m dd\u001b[39m.\u001b[39mread_csv(csv_files)\n\u001b[0;32m     13\u001b[0m \u001b[39m# Write the combined dask DataFrame to a CSV file\u001b[39;00m\n\u001b[1;32m---> 14\u001b[0m df\u001b[39m.\u001b[39;49mto_csv(\u001b[39mr\u001b[39;49m\u001b[39m\"\u001b[39;49m\u001b[39mD:\u001b[39;49m\u001b[39m\\\u001b[39;49m\u001b[39mStuff\u001b[39;49m\u001b[39m\\\u001b[39;49m\u001b[39mCyberSec\u001b[39;49m\u001b[39m\\\u001b[39;49m\u001b[39mDatasets\u001b[39;49m\u001b[39m\\\u001b[39;49m\u001b[39mIDS2018_extract\u001b[39;49m\u001b[39m\\\u001b[39;49m\u001b[39mdos.csv\u001b[39;49m\u001b[39m\"\u001b[39;49m, index\u001b[39m=\u001b[39;49m\u001b[39mFalse\u001b[39;49;00m, single_file\u001b[39m=\u001b[39;49m\u001b[39mTrue\u001b[39;49;00m)\n",
      "File \u001b[1;32mc:\\Users\\Aneesh\\.conda\\envs\\cyber\\lib\\site-packages\\dask\\dataframe\\core.py:1832\u001b[0m, in \u001b[0;36m_Frame.to_csv\u001b[1;34m(self, filename, **kwargs)\u001b[0m\n\u001b[0;32m   1829\u001b[0m \u001b[39m\u001b[39m\u001b[39m\"\"\"See dd.to_csv docstring for more information\"\"\"\u001b[39;00m\n\u001b[0;32m   1830\u001b[0m \u001b[39mfrom\u001b[39;00m \u001b[39mdask\u001b[39;00m\u001b[39m.\u001b[39;00m\u001b[39mdataframe\u001b[39;00m\u001b[39m.\u001b[39;00m\u001b[39mio\u001b[39;00m \u001b[39mimport\u001b[39;00m to_csv\n\u001b[1;32m-> 1832\u001b[0m \u001b[39mreturn\u001b[39;00m to_csv(\u001b[39mself\u001b[39m, filename, \u001b[39m*\u001b[39m\u001b[39m*\u001b[39mkwargs)\n",
      "File \u001b[1;32mc:\\Users\\Aneesh\\.conda\\envs\\cyber\\lib\\site-packages\\dask\\dataframe\\io\\csv.py:988\u001b[0m, in \u001b[0;36mto_csv\u001b[1;34m(df, filename, single_file, encoding, mode, name_function, compression, compute, scheduler, storage_options, header_first_partition_only, compute_kwargs, **kwargs)\u001b[0m\n\u001b[0;32m    984\u001b[0m         compute_kwargs[\u001b[39m\"\u001b[39m\u001b[39mscheduler\u001b[39m\u001b[39m\"\u001b[39m] \u001b[39m=\u001b[39m scheduler\n\u001b[0;32m    986\u001b[0m     \u001b[39mimport\u001b[39;00m \u001b[39mdask\u001b[39;00m\n\u001b[1;32m--> 988\u001b[0m     \u001b[39mreturn\u001b[39;00m \u001b[39mlist\u001b[39m(dask\u001b[39m.\u001b[39mcompute(\u001b[39m*\u001b[39mvalues, \u001b[39m*\u001b[39m\u001b[39m*\u001b[39mcompute_kwargs))\n\u001b[0;32m    989\u001b[0m \u001b[39melse\u001b[39;00m:\n\u001b[0;32m    990\u001b[0m     \u001b[39mreturn\u001b[39;00m values\n",
      "File \u001b[1;32mc:\\Users\\Aneesh\\.conda\\envs\\cyber\\lib\\site-packages\\dask\\base.py:599\u001b[0m, in \u001b[0;36mcompute\u001b[1;34m(traverse, optimize_graph, scheduler, get, *args, **kwargs)\u001b[0m\n\u001b[0;32m    596\u001b[0m     keys\u001b[39m.\u001b[39mappend(x\u001b[39m.\u001b[39m__dask_keys__())\n\u001b[0;32m    597\u001b[0m     postcomputes\u001b[39m.\u001b[39mappend(x\u001b[39m.\u001b[39m__dask_postcompute__())\n\u001b[1;32m--> 599\u001b[0m results \u001b[39m=\u001b[39m schedule(dsk, keys, \u001b[39m*\u001b[39m\u001b[39m*\u001b[39mkwargs)\n\u001b[0;32m    600\u001b[0m \u001b[39mreturn\u001b[39;00m repack([f(r, \u001b[39m*\u001b[39ma) \u001b[39mfor\u001b[39;00m r, (f, a) \u001b[39min\u001b[39;00m \u001b[39mzip\u001b[39m(results, postcomputes)])\n",
      "File \u001b[1;32mc:\\Users\\Aneesh\\.conda\\envs\\cyber\\lib\\site-packages\\dask\\threaded.py:89\u001b[0m, in \u001b[0;36mget\u001b[1;34m(dsk, keys, cache, num_workers, pool, **kwargs)\u001b[0m\n\u001b[0;32m     86\u001b[0m     \u001b[39melif\u001b[39;00m \u001b[39misinstance\u001b[39m(pool, multiprocessing\u001b[39m.\u001b[39mpool\u001b[39m.\u001b[39mPool):\n\u001b[0;32m     87\u001b[0m         pool \u001b[39m=\u001b[39m MultiprocessingPoolExecutor(pool)\n\u001b[1;32m---> 89\u001b[0m results \u001b[39m=\u001b[39m get_async(\n\u001b[0;32m     90\u001b[0m     pool\u001b[39m.\u001b[39msubmit,\n\u001b[0;32m     91\u001b[0m     pool\u001b[39m.\u001b[39m_max_workers,\n\u001b[0;32m     92\u001b[0m     dsk,\n\u001b[0;32m     93\u001b[0m     keys,\n\u001b[0;32m     94\u001b[0m     cache\u001b[39m=\u001b[39mcache,\n\u001b[0;32m     95\u001b[0m     get_id\u001b[39m=\u001b[39m_thread_get_id,\n\u001b[0;32m     96\u001b[0m     pack_exception\u001b[39m=\u001b[39mpack_exception,\n\u001b[0;32m     97\u001b[0m     \u001b[39m*\u001b[39m\u001b[39m*\u001b[39mkwargs,\n\u001b[0;32m     98\u001b[0m )\n\u001b[0;32m    100\u001b[0m \u001b[39m# Cleanup pools associated to dead threads\u001b[39;00m\n\u001b[0;32m    101\u001b[0m \u001b[39mwith\u001b[39;00m pools_lock:\n",
      "File \u001b[1;32mc:\\Users\\Aneesh\\.conda\\envs\\cyber\\lib\\site-packages\\dask\\local.py:511\u001b[0m, in \u001b[0;36mget_async\u001b[1;34m(submit, num_workers, dsk, result, cache, get_id, rerun_exceptions_locally, pack_exception, raise_exception, callbacks, dumps, loads, chunksize, **kwargs)\u001b[0m\n\u001b[0;32m    509\u001b[0m         _execute_task(task, data)  \u001b[39m# Re-execute locally\u001b[39;00m\n\u001b[0;32m    510\u001b[0m     \u001b[39melse\u001b[39;00m:\n\u001b[1;32m--> 511\u001b[0m         raise_exception(exc, tb)\n\u001b[0;32m    512\u001b[0m res, worker_id \u001b[39m=\u001b[39m loads(res_info)\n\u001b[0;32m    513\u001b[0m state[\u001b[39m\"\u001b[39m\u001b[39mcache\u001b[39m\u001b[39m\"\u001b[39m][key] \u001b[39m=\u001b[39m res\n",
      "File \u001b[1;32mc:\\Users\\Aneesh\\.conda\\envs\\cyber\\lib\\site-packages\\dask\\local.py:319\u001b[0m, in \u001b[0;36mreraise\u001b[1;34m(exc, tb)\u001b[0m\n\u001b[0;32m    317\u001b[0m \u001b[39mif\u001b[39;00m exc\u001b[39m.\u001b[39m__traceback__ \u001b[39mis\u001b[39;00m \u001b[39mnot\u001b[39;00m tb:\n\u001b[0;32m    318\u001b[0m     \u001b[39mraise\u001b[39;00m exc\u001b[39m.\u001b[39mwith_traceback(tb)\n\u001b[1;32m--> 319\u001b[0m \u001b[39mraise\u001b[39;00m exc\n",
      "File \u001b[1;32mc:\\Users\\Aneesh\\.conda\\envs\\cyber\\lib\\site-packages\\dask\\local.py:224\u001b[0m, in \u001b[0;36mexecute_task\u001b[1;34m(key, task_info, dumps, loads, get_id, pack_exception)\u001b[0m\n\u001b[0;32m    222\u001b[0m \u001b[39mtry\u001b[39;00m:\n\u001b[0;32m    223\u001b[0m     task, data \u001b[39m=\u001b[39m loads(task_info)\n\u001b[1;32m--> 224\u001b[0m     result \u001b[39m=\u001b[39m _execute_task(task, data)\n\u001b[0;32m    225\u001b[0m     \u001b[39mid\u001b[39m \u001b[39m=\u001b[39m get_id()\n\u001b[0;32m    226\u001b[0m     result \u001b[39m=\u001b[39m dumps((result, \u001b[39mid\u001b[39m))\n",
      "File \u001b[1;32mc:\\Users\\Aneesh\\.conda\\envs\\cyber\\lib\\site-packages\\dask\\core.py:119\u001b[0m, in \u001b[0;36m_execute_task\u001b[1;34m(arg, cache, dsk)\u001b[0m\n\u001b[0;32m    115\u001b[0m     func, args \u001b[39m=\u001b[39m arg[\u001b[39m0\u001b[39m], arg[\u001b[39m1\u001b[39m:]\n\u001b[0;32m    116\u001b[0m     \u001b[39m# Note: Don't assign the subtask results to a variable. numpy detects\u001b[39;00m\n\u001b[0;32m    117\u001b[0m     \u001b[39m# temporaries by their reference count and can execute certain\u001b[39;00m\n\u001b[0;32m    118\u001b[0m     \u001b[39m# operations in-place.\u001b[39;00m\n\u001b[1;32m--> 119\u001b[0m     \u001b[39mreturn\u001b[39;00m func(\u001b[39m*\u001b[39;49m(_execute_task(a, cache) \u001b[39mfor\u001b[39;49;00m a \u001b[39min\u001b[39;49;00m args))\n\u001b[0;32m    120\u001b[0m \u001b[39melif\u001b[39;00m \u001b[39mnot\u001b[39;00m ishashable(arg):\n\u001b[0;32m    121\u001b[0m     \u001b[39mreturn\u001b[39;00m arg\n",
      "File \u001b[1;32mc:\\Users\\Aneesh\\.conda\\envs\\cyber\\lib\\site-packages\\dask\\optimization.py:990\u001b[0m, in \u001b[0;36mSubgraphCallable.__call__\u001b[1;34m(self, *args)\u001b[0m\n\u001b[0;32m    988\u001b[0m \u001b[39mif\u001b[39;00m \u001b[39mnot\u001b[39;00m \u001b[39mlen\u001b[39m(args) \u001b[39m==\u001b[39m \u001b[39mlen\u001b[39m(\u001b[39mself\u001b[39m\u001b[39m.\u001b[39minkeys):\n\u001b[0;32m    989\u001b[0m     \u001b[39mraise\u001b[39;00m \u001b[39mValueError\u001b[39;00m(\u001b[39m\"\u001b[39m\u001b[39mExpected \u001b[39m\u001b[39m%d\u001b[39;00m\u001b[39m args, got \u001b[39m\u001b[39m%d\u001b[39;00m\u001b[39m\"\u001b[39m \u001b[39m%\u001b[39m (\u001b[39mlen\u001b[39m(\u001b[39mself\u001b[39m\u001b[39m.\u001b[39minkeys), \u001b[39mlen\u001b[39m(args)))\n\u001b[1;32m--> 990\u001b[0m \u001b[39mreturn\u001b[39;00m core\u001b[39m.\u001b[39;49mget(\u001b[39mself\u001b[39;49m\u001b[39m.\u001b[39;49mdsk, \u001b[39mself\u001b[39;49m\u001b[39m.\u001b[39;49moutkey, \u001b[39mdict\u001b[39;49m(\u001b[39mzip\u001b[39;49m(\u001b[39mself\u001b[39;49m\u001b[39m.\u001b[39;49minkeys, args)))\n",
      "File \u001b[1;32mc:\\Users\\Aneesh\\.conda\\envs\\cyber\\lib\\site-packages\\dask\\core.py:149\u001b[0m, in \u001b[0;36mget\u001b[1;34m(dsk, out, cache)\u001b[0m\n\u001b[0;32m    147\u001b[0m \u001b[39mfor\u001b[39;00m key \u001b[39min\u001b[39;00m toposort(dsk):\n\u001b[0;32m    148\u001b[0m     task \u001b[39m=\u001b[39m dsk[key]\n\u001b[1;32m--> 149\u001b[0m     result \u001b[39m=\u001b[39m _execute_task(task, cache)\n\u001b[0;32m    150\u001b[0m     cache[key] \u001b[39m=\u001b[39m result\n\u001b[0;32m    151\u001b[0m result \u001b[39m=\u001b[39m _execute_task(out, cache)\n",
      "File \u001b[1;32mc:\\Users\\Aneesh\\.conda\\envs\\cyber\\lib\\site-packages\\dask\\core.py:119\u001b[0m, in \u001b[0;36m_execute_task\u001b[1;34m(arg, cache, dsk)\u001b[0m\n\u001b[0;32m    115\u001b[0m     func, args \u001b[39m=\u001b[39m arg[\u001b[39m0\u001b[39m], arg[\u001b[39m1\u001b[39m:]\n\u001b[0;32m    116\u001b[0m     \u001b[39m# Note: Don't assign the subtask results to a variable. numpy detects\u001b[39;00m\n\u001b[0;32m    117\u001b[0m     \u001b[39m# temporaries by their reference count and can execute certain\u001b[39;00m\n\u001b[0;32m    118\u001b[0m     \u001b[39m# operations in-place.\u001b[39;00m\n\u001b[1;32m--> 119\u001b[0m     \u001b[39mreturn\u001b[39;00m func(\u001b[39m*\u001b[39;49m(_execute_task(a, cache) \u001b[39mfor\u001b[39;49;00m a \u001b[39min\u001b[39;49;00m args))\n\u001b[0;32m    120\u001b[0m \u001b[39melif\u001b[39;00m \u001b[39mnot\u001b[39;00m ishashable(arg):\n\u001b[0;32m    121\u001b[0m     \u001b[39mreturn\u001b[39;00m arg\n",
      "File \u001b[1;32mc:\\Users\\Aneesh\\.conda\\envs\\cyber\\lib\\site-packages\\dask\\dataframe\\io\\csv.py:140\u001b[0m, in \u001b[0;36mCSVFunctionWrapper.__call__\u001b[1;34m(self, part)\u001b[0m\n\u001b[0;32m    137\u001b[0m         rest_kwargs[\u001b[39m\"\u001b[39m\u001b[39musecols\u001b[39m\u001b[39m\"\u001b[39m] \u001b[39m=\u001b[39m columns\n\u001b[0;32m    139\u001b[0m \u001b[39m# Call `pandas_read_text`\u001b[39;00m\n\u001b[1;32m--> 140\u001b[0m df \u001b[39m=\u001b[39m pandas_read_text(\n\u001b[0;32m    141\u001b[0m     \u001b[39mself\u001b[39;49m\u001b[39m.\u001b[39;49mreader,\n\u001b[0;32m    142\u001b[0m     block,\n\u001b[0;32m    143\u001b[0m     \u001b[39mself\u001b[39;49m\u001b[39m.\u001b[39;49mheader,\n\u001b[0;32m    144\u001b[0m     rest_kwargs,\n\u001b[0;32m    145\u001b[0m     \u001b[39mself\u001b[39;49m\u001b[39m.\u001b[39;49mdtypes,\n\u001b[0;32m    146\u001b[0m     columns,\n\u001b[0;32m    147\u001b[0m     write_header,\n\u001b[0;32m    148\u001b[0m     \u001b[39mself\u001b[39;49m\u001b[39m.\u001b[39;49menforce,\n\u001b[0;32m    149\u001b[0m     path_info,\n\u001b[0;32m    150\u001b[0m )\n\u001b[0;32m    151\u001b[0m \u001b[39mif\u001b[39;00m project_after_read:\n\u001b[0;32m    152\u001b[0m     \u001b[39mreturn\u001b[39;00m df[\u001b[39mself\u001b[39m\u001b[39m.\u001b[39mcolumns]\n",
      "File \u001b[1;32mc:\\Users\\Aneesh\\.conda\\envs\\cyber\\lib\\site-packages\\dask\\dataframe\\io\\csv.py:195\u001b[0m, in \u001b[0;36mpandas_read_text\u001b[1;34m(reader, b, header, kwargs, dtypes, columns, write_header, enforce, path)\u001b[0m\n\u001b[0;32m    193\u001b[0m df \u001b[39m=\u001b[39m reader(bio, \u001b[39m*\u001b[39m\u001b[39m*\u001b[39mkwargs)\n\u001b[0;32m    194\u001b[0m \u001b[39mif\u001b[39;00m dtypes:\n\u001b[1;32m--> 195\u001b[0m     coerce_dtypes(df, dtypes)\n\u001b[0;32m    197\u001b[0m \u001b[39mif\u001b[39;00m enforce \u001b[39mand\u001b[39;00m columns \u001b[39mand\u001b[39;00m (\u001b[39mlist\u001b[39m(df\u001b[39m.\u001b[39mcolumns) \u001b[39m!=\u001b[39m \u001b[39mlist\u001b[39m(columns)):\n\u001b[0;32m    198\u001b[0m     \u001b[39mraise\u001b[39;00m \u001b[39mValueError\u001b[39;00m(\u001b[39m\"\u001b[39m\u001b[39mColumns do not match\u001b[39m\u001b[39m\"\u001b[39m, df\u001b[39m.\u001b[39mcolumns, columns)\n",
      "File \u001b[1;32mc:\\Users\\Aneesh\\.conda\\envs\\cyber\\lib\\site-packages\\dask\\dataframe\\io\\csv.py:296\u001b[0m, in \u001b[0;36mcoerce_dtypes\u001b[1;34m(df, dtypes)\u001b[0m\n\u001b[0;32m    292\u001b[0m rule \u001b[39m=\u001b[39m \u001b[39m\"\u001b[39m\u001b[39m\\n\u001b[39;00m\u001b[39m\\n\u001b[39;00m\u001b[39m%s\u001b[39;00m\u001b[39m\\n\u001b[39;00m\u001b[39m\\n\u001b[39;00m\u001b[39m\"\u001b[39m \u001b[39m%\u001b[39m (\u001b[39m\"\u001b[39m\u001b[39m-\u001b[39m\u001b[39m\"\u001b[39m \u001b[39m*\u001b[39m \u001b[39m61\u001b[39m)\n\u001b[0;32m    293\u001b[0m msg \u001b[39m=\u001b[39m \u001b[39m\"\u001b[39m\u001b[39mMismatched dtypes found in `pd.read_csv`/`pd.read_table`.\u001b[39m\u001b[39m\\n\u001b[39;00m\u001b[39m\\n\u001b[39;00m\u001b[39m%s\u001b[39;00m\u001b[39m\"\u001b[39m \u001b[39m%\u001b[39m (\n\u001b[0;32m    294\u001b[0m     rule\u001b[39m.\u001b[39mjoin(\u001b[39mfilter\u001b[39m(\u001b[39mNone\u001b[39;00m, [dtype_msg, date_msg]))\n\u001b[0;32m    295\u001b[0m )\n\u001b[1;32m--> 296\u001b[0m \u001b[39mraise\u001b[39;00m \u001b[39mValueError\u001b[39;00m(msg)\n",
      "\u001b[1;31mValueError\u001b[0m: Mismatched dtypes found in `pd.read_csv`/`pd.read_table`.\n\n+-------------------+--------+----------+\n| Column            | Found  | Expected |\n+-------------------+--------+----------+\n| ACK Flag Cnt      | object | int64    |\n| Active Max        | object | int64    |\n| Active Mean       | object | float64  |\n| Active Min        | object | int64    |\n| Active Std        | object | float64  |\n| Bwd Blk Rate Avg  | object | int64    |\n| Bwd Byts/b Avg    | object | int64    |\n| Bwd Header Len    | object | int64    |\n| Bwd IAT Max       | object | int64    |\n| Bwd IAT Mean      | object | float64  |\n| Bwd IAT Min       | object | int64    |\n| Bwd IAT Std       | object | float64  |\n| Bwd IAT Tot       | object | int64    |\n| Bwd PSH Flags     | object | int64    |\n| Bwd Pkt Len Max   | object | int64    |\n| Bwd Pkt Len Mean  | object | float64  |\n| Bwd Pkt Len Min   | object | int64    |\n| Bwd Pkt Len Std   | object | float64  |\n| Bwd Pkts/b Avg    | object | int64    |\n| Bwd Pkts/s        | object | float64  |\n| Bwd Seg Size Avg  | object | float64  |\n| Bwd URG Flags     | object | int64    |\n| CWE Flag Count    | object | int64    |\n| Down/Up Ratio     | object | int64    |\n| Dst Port          | object | int64    |\n| ECE Flag Cnt      | object | int64    |\n| FIN Flag Cnt      | object | int64    |\n| Flow Byts/s       | object | float64  |\n| Flow Duration     | object | int64    |\n| Flow IAT Max      | object | int64    |\n| Flow IAT Mean     | object | float64  |\n| Flow IAT Min      | object | int64    |\n| Flow IAT Std      | object | float64  |\n| Flow Pkts/s       | object | float64  |\n| Fwd Act Data Pkts | object | int64    |\n| Fwd Blk Rate Avg  | object | int64    |\n| Fwd Byts/b Avg    | object | int64    |\n| Fwd Header Len    | object | int64    |\n| Fwd IAT Max       | object | int64    |\n| Fwd IAT Mean      | object | float64  |\n| Fwd IAT Min       | object | int64    |\n| Fwd IAT Std       | object | float64  |\n| Fwd IAT Tot       | object | int64    |\n| Fwd PSH Flags     | object | int64    |\n| Fwd Pkt Len Max   | object | int64    |\n| Fwd Pkt Len Mean  | object | float64  |\n| Fwd Pkt Len Min   | object | int64    |\n| Fwd Pkt Len Std   | object | float64  |\n| Fwd Pkts/b Avg    | object | int64    |\n| Fwd Pkts/s        | object | float64  |\n| Fwd Seg Size Avg  | object | float64  |\n| Fwd Seg Size Min  | object | int64    |\n| Fwd URG Flags     | object | int64    |\n| Idle Max          | object | int64    |\n| Idle Mean         | object | float64  |\n| Idle Min          | object | int64    |\n| Idle Std          | object | float64  |\n| Init Bwd Win Byts | object | int64    |\n| Init Fwd Win Byts | object | int64    |\n| PSH Flag Cnt      | object | int64    |\n| Pkt Len Max       | object | int64    |\n| Pkt Len Mean      | object | float64  |\n| Pkt Len Min       | object | int64    |\n| Pkt Len Std       | object | float64  |\n| Pkt Len Var       | object | float64  |\n| Pkt Size Avg      | object | float64  |\n| Protocol          | object | int64    |\n| RST Flag Cnt      | object | int64    |\n| SYN Flag Cnt      | object | int64    |\n| Subflow Bwd Byts  | object | int64    |\n| Subflow Bwd Pkts  | object | int64    |\n| Subflow Fwd Byts  | object | int64    |\n| Subflow Fwd Pkts  | object | int64    |\n| Tot Bwd Pkts      | object | int64    |\n| Tot Fwd Pkts      | object | int64    |\n| TotLen Bwd Pkts   | object | int64    |\n| TotLen Fwd Pkts   | object | int64    |\n| URG Flag Cnt      | object | int64    |\n+-------------------+--------+----------+\n\nThe following columns also raised exceptions on conversion:\n\n- ACK Flag Cnt\n  ValueError(\"invalid literal for int() with base 10: 'ACK Flag Cnt'\")\n- Active Max\n  ValueError(\"invalid literal for int() with base 10: 'Active Max'\")\n- Active Mean\n  ValueError(\"could not convert string to float: 'Active Mean'\")\n- Active Min\n  ValueError(\"invalid literal for int() with base 10: 'Active Min'\")\n- Active Std\n  ValueError(\"could not convert string to float: 'Active Std'\")\n- Bwd Blk Rate Avg\n  ValueError(\"invalid literal for int() with base 10: 'Bwd Blk Rate Avg'\")\n- Bwd Byts/b Avg\n  ValueError(\"invalid literal for int() with base 10: 'Bwd Byts/b Avg'\")\n- Bwd Header Len\n  ValueError(\"invalid literal for int() with base 10: 'Bwd Header Len'\")\n- Bwd IAT Max\n  ValueError(\"invalid literal for int() with base 10: 'Bwd IAT Max'\")\n- Bwd IAT Mean\n  ValueError(\"could not convert string to float: 'Bwd IAT Mean'\")\n- Bwd IAT Min\n  ValueError(\"invalid literal for int() with base 10: 'Bwd IAT Min'\")\n- Bwd IAT Std\n  ValueError(\"could not convert string to float: 'Bwd IAT Std'\")\n- Bwd IAT Tot\n  ValueError(\"invalid literal for int() with base 10: 'Bwd IAT Tot'\")\n- Bwd PSH Flags\n  ValueError(\"invalid literal for int() with base 10: 'Bwd PSH Flags'\")\n- Bwd Pkt Len Max\n  ValueError(\"invalid literal for int() with base 10: 'Bwd Pkt Len Max'\")\n- Bwd Pkt Len Mean\n  ValueError(\"could not convert string to float: 'Bwd Pkt Len Mean'\")\n- Bwd Pkt Len Min\n  ValueError(\"invalid literal for int() with base 10: 'Bwd Pkt Len Min'\")\n- Bwd Pkt Len Std\n  ValueError(\"could not convert string to float: 'Bwd Pkt Len Std'\")\n- Bwd Pkts/b Avg\n  ValueError(\"invalid literal for int() with base 10: 'Bwd Pkts/b Avg'\")\n- Bwd Pkts/s\n  ValueError(\"could not convert string to float: 'Bwd Pkts/s'\")\n- Bwd Seg Size Avg\n  ValueError(\"could not convert string to float: 'Bwd Seg Size Avg'\")\n- Bwd URG Flags\n  ValueError(\"invalid literal for int() with base 10: 'Bwd URG Flags'\")\n- CWE Flag Count\n  ValueError(\"invalid literal for int() with base 10: 'CWE Flag Count'\")\n- Down/Up Ratio\n  ValueError(\"invalid literal for int() with base 10: 'Down/Up Ratio'\")\n- Dst Port\n  ValueError(\"invalid literal for int() with base 10: 'Dst Port'\")\n- ECE Flag Cnt\n  ValueError(\"invalid literal for int() with base 10: 'ECE Flag Cnt'\")\n- FIN Flag Cnt\n  ValueError(\"invalid literal for int() with base 10: 'FIN Flag Cnt'\")\n- Flow Byts/s\n  ValueError(\"could not convert string to float: 'Flow Byts/s'\")\n- Flow Duration\n  ValueError(\"invalid literal for int() with base 10: 'Flow Duration'\")\n- Flow IAT Max\n  ValueError(\"invalid literal for int() with base 10: 'Flow IAT Max'\")\n- Flow IAT Mean\n  ValueError(\"could not convert string to float: 'Flow IAT Mean'\")\n- Flow IAT Min\n  ValueError(\"invalid literal for int() with base 10: 'Flow IAT Min'\")\n- Flow IAT Std\n  ValueError(\"could not convert string to float: 'Flow IAT Std'\")\n- Flow Pkts/s\n  ValueError(\"could not convert string to float: 'Flow Pkts/s'\")\n- Fwd Act Data Pkts\n  ValueError(\"invalid literal for int() with base 10: 'Fwd Act Data Pkts'\")\n- Fwd Blk Rate Avg\n  ValueError(\"invalid literal for int() with base 10: 'Fwd Blk Rate Avg'\")\n- Fwd Byts/b Avg\n  ValueError(\"invalid literal for int() with base 10: 'Fwd Byts/b Avg'\")\n- Fwd Header Len\n  ValueError(\"invalid literal for int() with base 10: 'Fwd Header Len'\")\n- Fwd IAT Max\n  ValueError(\"invalid literal for int() with base 10: 'Fwd IAT Max'\")\n- Fwd IAT Mean\n  ValueError(\"could not convert string to float: 'Fwd IAT Mean'\")\n- Fwd IAT Min\n  ValueError(\"invalid literal for int() with base 10: 'Fwd IAT Min'\")\n- Fwd IAT Std\n  ValueError(\"could not convert string to float: 'Fwd IAT Std'\")\n- Fwd IAT Tot\n  ValueError(\"invalid literal for int() with base 10: 'Fwd IAT Tot'\")\n- Fwd PSH Flags\n  ValueError(\"invalid literal for int() with base 10: 'Fwd PSH Flags'\")\n- Fwd Pkt Len Max\n  ValueError(\"invalid literal for int() with base 10: 'Fwd Pkt Len Max'\")\n- Fwd Pkt Len Mean\n  ValueError(\"could not convert string to float: 'Fwd Pkt Len Mean'\")\n- Fwd Pkt Len Min\n  ValueError(\"invalid literal for int() with base 10: 'Fwd Pkt Len Min'\")\n- Fwd Pkt Len Std\n  ValueError(\"could not convert string to float: 'Fwd Pkt Len Std'\")\n- Fwd Pkts/b Avg\n  ValueError(\"invalid literal for int() with base 10: 'Fwd Pkts/b Avg'\")\n- Fwd Pkts/s\n  ValueError(\"could not convert string to float: 'Fwd Pkts/s'\")\n- Fwd Seg Size Avg\n  ValueError(\"could not convert string to float: 'Fwd Seg Size Avg'\")\n- Fwd Seg Size Min\n  ValueError(\"invalid literal for int() with base 10: 'Fwd Seg Size Min'\")\n- Fwd URG Flags\n  ValueError(\"invalid literal for int() with base 10: 'Fwd URG Flags'\")\n- Idle Max\n  ValueError(\"invalid literal for int() with base 10: 'Idle Max'\")\n- Idle Mean\n  ValueError(\"could not convert string to float: 'Idle Mean'\")\n- Idle Min\n  ValueError(\"invalid literal for int() with base 10: 'Idle Min'\")\n- Idle Std\n  ValueError(\"could not convert string to float: 'Idle Std'\")\n- Init Bwd Win Byts\n  ValueError(\"invalid literal for int() with base 10: 'Init Bwd Win Byts'\")\n- Init Fwd Win Byts\n  ValueError(\"invalid literal for int() with base 10: 'Init Fwd Win Byts'\")\n- PSH Flag Cnt\n  ValueError(\"invalid literal for int() with base 10: 'PSH Flag Cnt'\")\n- Pkt Len Max\n  ValueError(\"invalid literal for int() with base 10: 'Pkt Len Max'\")\n- Pkt Len Mean\n  ValueError(\"could not convert string to float: 'Pkt Len Mean'\")\n- Pkt Len Min\n  ValueError(\"invalid literal for int() with base 10: 'Pkt Len Min'\")\n- Pkt Len Std\n  ValueError(\"could not convert string to float: 'Pkt Len Std'\")\n- Pkt Len Var\n  ValueError(\"could not convert string to float: 'Pkt Len Var'\")\n- Pkt Size Avg\n  ValueError(\"could not convert string to float: 'Pkt Size Avg'\")\n- Protocol\n  ValueError(\"invalid literal for int() with base 10: 'Protocol'\")\n- RST Flag Cnt\n  ValueError(\"invalid literal for int() with base 10: 'RST Flag Cnt'\")\n- SYN Flag Cnt\n  ValueError(\"invalid literal for int() with base 10: 'SYN Flag Cnt'\")\n- Subflow Bwd Byts\n  ValueError(\"invalid literal for int() with base 10: 'Subflow Bwd Byts'\")\n- Subflow Bwd Pkts\n  ValueError(\"invalid literal for int() with base 10: 'Subflow Bwd Pkts'\")\n- Subflow Fwd Byts\n  ValueError(\"invalid literal for int() with base 10: 'Subflow Fwd Byts'\")\n- Subflow Fwd Pkts\n  ValueError(\"invalid literal for int() with base 10: 'Subflow Fwd Pkts'\")\n- Tot Bwd Pkts\n  ValueError(\"invalid literal for int() with base 10: 'Tot Bwd Pkts'\")\n- Tot Fwd Pkts\n  ValueError(\"invalid literal for int() with base 10: 'Tot Fwd Pkts'\")\n- TotLen Bwd Pkts\n  ValueError(\"invalid literal for int() with base 10: 'TotLen Bwd Pkts'\")\n- TotLen Fwd Pkts\n  ValueError(\"invalid literal for int() with base 10: 'TotLen Fwd Pkts'\")\n- URG Flag Cnt\n  ValueError(\"invalid literal for int() with base 10: 'URG Flag Cnt'\")\n\nUsually this is due to dask's dtype inference failing, and\n*may* be fixed by specifying dtypes manually by adding:\n\ndtype={'ACK Flag Cnt': 'object',\n       'Active Max': 'object',\n       'Active Mean': 'object',\n       'Active Min': 'object',\n       'Active Std': 'object',\n       'Bwd Blk Rate Avg': 'object',\n       'Bwd Byts/b Avg': 'object',\n       'Bwd Header Len': 'object',\n       'Bwd IAT Max': 'object',\n       'Bwd IAT Mean': 'object',\n       'Bwd IAT Min': 'object',\n       'Bwd IAT Std': 'object',\n       'Bwd IAT Tot': 'object',\n       'Bwd PSH Flags': 'object',\n       'Bwd Pkt Len Max': 'object',\n       'Bwd Pkt Len Mean': 'object',\n       'Bwd Pkt Len Min': 'object',\n       'Bwd Pkt Len Std': 'object',\n       'Bwd Pkts/b Avg': 'object',\n       'Bwd Pkts/s': 'object',\n       'Bwd Seg Size Avg': 'object',\n       'Bwd URG Flags': 'object',\n       'CWE Flag Count': 'object',\n       'Down/Up Ratio': 'object',\n       'Dst Port': 'object',\n       'ECE Flag Cnt': 'object',\n       'FIN Flag Cnt': 'object',\n       'Flow Byts/s': 'object',\n       'Flow Duration': 'object',\n       'Flow IAT Max': 'object',\n       'Flow IAT Mean': 'object',\n       'Flow IAT Min': 'object',\n       'Flow IAT Std': 'object',\n       'Flow Pkts/s': 'object',\n       'Fwd Act Data Pkts': 'object',\n       'Fwd Blk Rate Avg': 'object',\n       'Fwd Byts/b Avg': 'object',\n       'Fwd Header Len': 'object',\n       'Fwd IAT Max': 'object',\n       'Fwd IAT Mean': 'object',\n       'Fwd IAT Min': 'object',\n       'Fwd IAT Std': 'object',\n       'Fwd IAT Tot': 'object',\n       'Fwd PSH Flags': 'object',\n       'Fwd Pkt Len Max': 'object',\n       'Fwd Pkt Len Mean': 'object',\n       'Fwd Pkt Len Min': 'object',\n       'Fwd Pkt Len Std': 'object',\n       'Fwd Pkts/b Avg': 'object',\n       'Fwd Pkts/s': 'object',\n       'Fwd Seg Size Avg': 'object',\n       'Fwd Seg Size Min': 'object',\n       'Fwd URG Flags': 'object',\n       'Idle Max': 'object',\n       'Idle Mean': 'object',\n       'Idle Min': 'object',\n       'Idle Std': 'object',\n       'Init Bwd Win Byts': 'object',\n       'Init Fwd Win Byts': 'object',\n       'PSH Flag Cnt': 'object',\n       'Pkt Len Max': 'object',\n       'Pkt Len Mean': 'object',\n       'Pkt Len Min': 'object',\n       'Pkt Len Std': 'object',\n       'Pkt Len Var': 'object',\n       'Pkt Size Avg': 'object',\n       'Protocol': 'object',\n       'RST Flag Cnt': 'object',\n       'SYN Flag Cnt': 'object',\n       'Subflow Bwd Byts': 'object',\n       'Subflow Bwd Pkts': 'object',\n       'Subflow Fwd Byts': 'object',\n       'Subflow Fwd Pkts': 'object',\n       'Tot Bwd Pkts': 'object',\n       'Tot Fwd Pkts': 'object',\n       'TotLen Bwd Pkts': 'object',\n       'TotLen Fwd Pkts': 'object',\n       'URG Flag Cnt': 'object'}\n\nto the call to `read_csv`/`read_table`."
     ]
    }
   ],
   "source": [
    "import os\n",
    "import dask.dataframe as dd\n",
    "\n",
    "# Path to the directory containing the CSV files\n",
    "csv_dir = r\"D:\\Stuff\\CyberSec\\Datasets\\IDS2018_extract\\dos\"\n",
    "\n",
    "# Get a list of all CSV files in the directory\n",
    "csv_files = [os.path.join(csv_dir, f) for f in os.listdir(csv_dir) if f.endswith('.csv')]\n",
    "\n",
    "# Combine all CSV files into a single dask DataFrame\n",
    "df = dd.read_csv(csv_files)\n",
    "\n",
    "# Write the combined dask DataFrame to a CSV file\n",
    "df.to_csv(r\"D:\\Stuff\\CyberSec\\Datasets\\IDS2018_extract\\dos.csv\", index=False, single_file=True)\n"
   ]
  },
  {
   "cell_type": "code",
   "execution_count": 2,
   "metadata": {},
   "outputs": [
    {
     "name": "stdout",
     "output_type": "stream",
     "text": [
      "bot.csv: 286192 rows\n",
      "bruteforce.csv: 381878 rows\n",
      "ddos.csv: 8997322 rows\n",
      "dos.csv: 654302 rows\n",
      "infilteration.csv: 161993 rows\n"
     ]
    }
   ],
   "source": [
    "import os\n",
    "import csv\n",
    "\n",
    "# Path to the directory containing the CSV files\n",
    "csv_dir = r\"D:\\Stuff\\CyberSec\\Datasets\\IDS2018_extract\"\n",
    "\n",
    "# Loop through all CSV files in the directory and count rows\n",
    "for csv_file in os.listdir(csv_dir):\n",
    "    if csv_file.endswith('.csv'):\n",
    "        csv_path = os.path.join(csv_dir, csv_file)\n",
    "        with open(csv_path, 'r') as file:\n",
    "            reader = csv.reader(file)\n",
    "            num_rows = sum(1 for row in reader)\n",
    "        print(f\"{csv_file}: {num_rows} rows\")\n"
   ]
  },
  {
   "cell_type": "code",
   "execution_count": 10,
   "metadata": {},
   "outputs": [
    {
     "name": "stdout",
     "output_type": "stream",
     "text": [
      "Processing file: benign_01.csv\n"
     ]
    },
    {
     "name": "stderr",
     "output_type": "stream",
     "text": [
      "C:\\Users\\Aneesh\\AppData\\Local\\Temp\\ipykernel_14956\\3604864273.py:21: FutureWarning: The frame.append method is deprecated and will be removed from pandas in a future version. Use pandas.concat instead.\n",
      "  combined_df = combined_df.append(sample_df, ignore_index=True)\n",
      "C:\\Users\\Aneesh\\AppData\\Local\\Temp\\ipykernel_14956\\3604864273.py:21: FutureWarning: The frame.append method is deprecated and will be removed from pandas in a future version. Use pandas.concat instead.\n",
      "  combined_df = combined_df.append(sample_df, ignore_index=True)\n",
      "C:\\Users\\Aneesh\\AppData\\Local\\Temp\\ipykernel_14956\\3604864273.py:21: FutureWarning: The frame.append method is deprecated and will be removed from pandas in a future version. Use pandas.concat instead.\n",
      "  combined_df = combined_df.append(sample_df, ignore_index=True)\n",
      "C:\\Users\\Aneesh\\AppData\\Local\\Temp\\ipykernel_14956\\3604864273.py:21: FutureWarning: The frame.append method is deprecated and will be removed from pandas in a future version. Use pandas.concat instead.\n",
      "  combined_df = combined_df.append(sample_df, ignore_index=True)\n",
      "C:\\Users\\Aneesh\\AppData\\Local\\Temp\\ipykernel_14956\\3604864273.py:21: FutureWarning: The frame.append method is deprecated and will be removed from pandas in a future version. Use pandas.concat instead.\n",
      "  combined_df = combined_df.append(sample_df, ignore_index=True)\n",
      "C:\\Users\\Aneesh\\AppData\\Local\\Temp\\ipykernel_14956\\3604864273.py:21: FutureWarning: The frame.append method is deprecated and will be removed from pandas in a future version. Use pandas.concat instead.\n",
      "  combined_df = combined_df.append(sample_df, ignore_index=True)\n",
      "C:\\Users\\Aneesh\\AppData\\Local\\Temp\\ipykernel_14956\\3604864273.py:21: FutureWarning: The frame.append method is deprecated and will be removed from pandas in a future version. Use pandas.concat instead.\n",
      "  combined_df = combined_df.append(sample_df, ignore_index=True)\n",
      "C:\\Users\\Aneesh\\AppData\\Local\\Temp\\ipykernel_14956\\3604864273.py:21: FutureWarning: The frame.append method is deprecated and will be removed from pandas in a future version. Use pandas.concat instead.\n",
      "  combined_df = combined_df.append(sample_df, ignore_index=True)\n",
      "C:\\Users\\Aneesh\\AppData\\Local\\Temp\\ipykernel_14956\\3604864273.py:21: FutureWarning: The frame.append method is deprecated and will be removed from pandas in a future version. Use pandas.concat instead.\n",
      "  combined_df = combined_df.append(sample_df, ignore_index=True)\n",
      "C:\\Users\\Aneesh\\AppData\\Local\\Temp\\ipykernel_14956\\3604864273.py:21: FutureWarning: The frame.append method is deprecated and will be removed from pandas in a future version. Use pandas.concat instead.\n",
      "  combined_df = combined_df.append(sample_df, ignore_index=True)\n",
      "C:\\Users\\Aneesh\\AppData\\Local\\Temp\\ipykernel_14956\\3604864273.py:21: FutureWarning: The frame.append method is deprecated and will be removed from pandas in a future version. Use pandas.concat instead.\n",
      "  combined_df = combined_df.append(sample_df, ignore_index=True)\n",
      "C:\\Users\\Aneesh\\AppData\\Local\\Temp\\ipykernel_14956\\3604864273.py:21: FutureWarning: The frame.append method is deprecated and will be removed from pandas in a future version. Use pandas.concat instead.\n",
      "  combined_df = combined_df.append(sample_df, ignore_index=True)\n",
      "C:\\Users\\Aneesh\\AppData\\Local\\Temp\\ipykernel_14956\\3604864273.py:21: FutureWarning: The frame.append method is deprecated and will be removed from pandas in a future version. Use pandas.concat instead.\n",
      "  combined_df = combined_df.append(sample_df, ignore_index=True)\n",
      "C:\\Users\\Aneesh\\AppData\\Local\\Temp\\ipykernel_14956\\3604864273.py:21: FutureWarning: The frame.append method is deprecated and will be removed from pandas in a future version. Use pandas.concat instead.\n",
      "  combined_df = combined_df.append(sample_df, ignore_index=True)\n",
      "C:\\Users\\Aneesh\\AppData\\Local\\Temp\\ipykernel_14956\\3604864273.py:21: FutureWarning: The frame.append method is deprecated and will be removed from pandas in a future version. Use pandas.concat instead.\n",
      "  combined_df = combined_df.append(sample_df, ignore_index=True)\n",
      "C:\\Users\\Aneesh\\AppData\\Local\\Temp\\ipykernel_14956\\3604864273.py:21: FutureWarning: The frame.append method is deprecated and will be removed from pandas in a future version. Use pandas.concat instead.\n",
      "  combined_df = combined_df.append(sample_df, ignore_index=True)\n",
      "C:\\Users\\Aneesh\\AppData\\Local\\Temp\\ipykernel_14956\\3604864273.py:21: FutureWarning: The frame.append method is deprecated and will be removed from pandas in a future version. Use pandas.concat instead.\n",
      "  combined_df = combined_df.append(sample_df, ignore_index=True)\n",
      "C:\\Users\\Aneesh\\AppData\\Local\\Temp\\ipykernel_14956\\3604864273.py:21: FutureWarning: The frame.append method is deprecated and will be removed from pandas in a future version. Use pandas.concat instead.\n",
      "  combined_df = combined_df.append(sample_df, ignore_index=True)\n",
      "C:\\Users\\Aneesh\\AppData\\Local\\Temp\\ipykernel_14956\\3604864273.py:21: FutureWarning: The frame.append method is deprecated and will be removed from pandas in a future version. Use pandas.concat instead.\n",
      "  combined_df = combined_df.append(sample_df, ignore_index=True)\n",
      "C:\\Users\\Aneesh\\AppData\\Local\\Temp\\ipykernel_14956\\3604864273.py:21: FutureWarning: The frame.append method is deprecated and will be removed from pandas in a future version. Use pandas.concat instead.\n",
      "  combined_df = combined_df.append(sample_df, ignore_index=True)\n",
      "C:\\Users\\Aneesh\\AppData\\Local\\Temp\\ipykernel_14956\\3604864273.py:21: FutureWarning: The frame.append method is deprecated and will be removed from pandas in a future version. Use pandas.concat instead.\n",
      "  combined_df = combined_df.append(sample_df, ignore_index=True)\n",
      "C:\\Users\\Aneesh\\AppData\\Local\\Temp\\ipykernel_14956\\3604864273.py:21: FutureWarning: The frame.append method is deprecated and will be removed from pandas in a future version. Use pandas.concat instead.\n",
      "  combined_df = combined_df.append(sample_df, ignore_index=True)\n",
      "C:\\Users\\Aneesh\\AppData\\Local\\Temp\\ipykernel_14956\\3604864273.py:21: FutureWarning: The frame.append method is deprecated and will be removed from pandas in a future version. Use pandas.concat instead.\n",
      "  combined_df = combined_df.append(sample_df, ignore_index=True)\n",
      "C:\\Users\\Aneesh\\AppData\\Local\\Temp\\ipykernel_14956\\3604864273.py:21: FutureWarning: The frame.append method is deprecated and will be removed from pandas in a future version. Use pandas.concat instead.\n",
      "  combined_df = combined_df.append(sample_df, ignore_index=True)\n",
      "C:\\Users\\Aneesh\\AppData\\Local\\Temp\\ipykernel_14956\\3604864273.py:21: FutureWarning: The frame.append method is deprecated and will be removed from pandas in a future version. Use pandas.concat instead.\n",
      "  combined_df = combined_df.append(sample_df, ignore_index=True)\n",
      "C:\\Users\\Aneesh\\AppData\\Local\\Temp\\ipykernel_14956\\3604864273.py:21: FutureWarning: The frame.append method is deprecated and will be removed from pandas in a future version. Use pandas.concat instead.\n",
      "  combined_df = combined_df.append(sample_df, ignore_index=True)\n",
      "C:\\Users\\Aneesh\\AppData\\Local\\Temp\\ipykernel_14956\\3604864273.py:21: FutureWarning: The frame.append method is deprecated and will be removed from pandas in a future version. Use pandas.concat instead.\n",
      "  combined_df = combined_df.append(sample_df, ignore_index=True)\n",
      "C:\\Users\\Aneesh\\AppData\\Local\\Temp\\ipykernel_14956\\3604864273.py:21: FutureWarning: The frame.append method is deprecated and will be removed from pandas in a future version. Use pandas.concat instead.\n",
      "  combined_df = combined_df.append(sample_df, ignore_index=True)\n",
      "C:\\Users\\Aneesh\\AppData\\Local\\Temp\\ipykernel_14956\\3604864273.py:21: FutureWarning: The frame.append method is deprecated and will be removed from pandas in a future version. Use pandas.concat instead.\n",
      "  combined_df = combined_df.append(sample_df, ignore_index=True)\n",
      "C:\\Users\\Aneesh\\AppData\\Local\\Temp\\ipykernel_14956\\3604864273.py:21: FutureWarning: The frame.append method is deprecated and will be removed from pandas in a future version. Use pandas.concat instead.\n",
      "  combined_df = combined_df.append(sample_df, ignore_index=True)\n",
      "C:\\Users\\Aneesh\\AppData\\Local\\Temp\\ipykernel_14956\\3604864273.py:21: FutureWarning: The frame.append method is deprecated and will be removed from pandas in a future version. Use pandas.concat instead.\n",
      "  combined_df = combined_df.append(sample_df, ignore_index=True)\n",
      "C:\\Users\\Aneesh\\AppData\\Local\\Temp\\ipykernel_14956\\3604864273.py:21: FutureWarning: The frame.append method is deprecated and will be removed from pandas in a future version. Use pandas.concat instead.\n",
      "  combined_df = combined_df.append(sample_df, ignore_index=True)\n",
      "C:\\Users\\Aneesh\\AppData\\Local\\Temp\\ipykernel_14956\\3604864273.py:21: FutureWarning: The frame.append method is deprecated and will be removed from pandas in a future version. Use pandas.concat instead.\n",
      "  combined_df = combined_df.append(sample_df, ignore_index=True)\n",
      "C:\\Users\\Aneesh\\AppData\\Local\\Temp\\ipykernel_14956\\3604864273.py:21: FutureWarning: The frame.append method is deprecated and will be removed from pandas in a future version. Use pandas.concat instead.\n",
      "  combined_df = combined_df.append(sample_df, ignore_index=True)\n",
      "C:\\Users\\Aneesh\\AppData\\Local\\Temp\\ipykernel_14956\\3604864273.py:21: FutureWarning: The frame.append method is deprecated and will be removed from pandas in a future version. Use pandas.concat instead.\n",
      "  combined_df = combined_df.append(sample_df, ignore_index=True)\n",
      "C:\\Users\\Aneesh\\AppData\\Local\\Temp\\ipykernel_14956\\3604864273.py:21: FutureWarning: The frame.append method is deprecated and will be removed from pandas in a future version. Use pandas.concat instead.\n",
      "  combined_df = combined_df.append(sample_df, ignore_index=True)\n",
      "C:\\Users\\Aneesh\\AppData\\Local\\Temp\\ipykernel_14956\\3604864273.py:21: FutureWarning: The frame.append method is deprecated and will be removed from pandas in a future version. Use pandas.concat instead.\n",
      "  combined_df = combined_df.append(sample_df, ignore_index=True)\n",
      "C:\\Users\\Aneesh\\AppData\\Local\\Temp\\ipykernel_14956\\3604864273.py:21: FutureWarning: The frame.append method is deprecated and will be removed from pandas in a future version. Use pandas.concat instead.\n",
      "  combined_df = combined_df.append(sample_df, ignore_index=True)\n",
      "C:\\Users\\Aneesh\\AppData\\Local\\Temp\\ipykernel_14956\\3604864273.py:21: FutureWarning: The frame.append method is deprecated and will be removed from pandas in a future version. Use pandas.concat instead.\n",
      "  combined_df = combined_df.append(sample_df, ignore_index=True)\n",
      "C:\\Users\\Aneesh\\AppData\\Local\\Temp\\ipykernel_14956\\3604864273.py:21: FutureWarning: The frame.append method is deprecated and will be removed from pandas in a future version. Use pandas.concat instead.\n",
      "  combined_df = combined_df.append(sample_df, ignore_index=True)\n",
      "C:\\Users\\Aneesh\\AppData\\Local\\Temp\\ipykernel_14956\\3604864273.py:21: FutureWarning: The frame.append method is deprecated and will be removed from pandas in a future version. Use pandas.concat instead.\n",
      "  combined_df = combined_df.append(sample_df, ignore_index=True)\n",
      "C:\\Users\\Aneesh\\AppData\\Local\\Temp\\ipykernel_14956\\3604864273.py:21: FutureWarning: The frame.append method is deprecated and will be removed from pandas in a future version. Use pandas.concat instead.\n",
      "  combined_df = combined_df.append(sample_df, ignore_index=True)\n",
      "C:\\Users\\Aneesh\\AppData\\Local\\Temp\\ipykernel_14956\\3604864273.py:21: FutureWarning: The frame.append method is deprecated and will be removed from pandas in a future version. Use pandas.concat instead.\n",
      "  combined_df = combined_df.append(sample_df, ignore_index=True)\n",
      "C:\\Users\\Aneesh\\AppData\\Local\\Temp\\ipykernel_14956\\3604864273.py:21: FutureWarning: The frame.append method is deprecated and will be removed from pandas in a future version. Use pandas.concat instead.\n",
      "  combined_df = combined_df.append(sample_df, ignore_index=True)\n",
      "C:\\Users\\Aneesh\\AppData\\Local\\Temp\\ipykernel_14956\\3604864273.py:21: FutureWarning: The frame.append method is deprecated and will be removed from pandas in a future version. Use pandas.concat instead.\n",
      "  combined_df = combined_df.append(sample_df, ignore_index=True)\n",
      "C:\\Users\\Aneesh\\AppData\\Local\\Temp\\ipykernel_14956\\3604864273.py:21: FutureWarning: The frame.append method is deprecated and will be removed from pandas in a future version. Use pandas.concat instead.\n",
      "  combined_df = combined_df.append(sample_df, ignore_index=True)\n",
      "C:\\Users\\Aneesh\\AppData\\Local\\Temp\\ipykernel_14956\\3604864273.py:21: FutureWarning: The frame.append method is deprecated and will be removed from pandas in a future version. Use pandas.concat instead.\n",
      "  combined_df = combined_df.append(sample_df, ignore_index=True)\n",
      "C:\\Users\\Aneesh\\AppData\\Local\\Temp\\ipykernel_14956\\3604864273.py:21: FutureWarning: The frame.append method is deprecated and will be removed from pandas in a future version. Use pandas.concat instead.\n",
      "  combined_df = combined_df.append(sample_df, ignore_index=True)\n",
      "C:\\Users\\Aneesh\\AppData\\Local\\Temp\\ipykernel_14956\\3604864273.py:21: FutureWarning: The frame.append method is deprecated and will be removed from pandas in a future version. Use pandas.concat instead.\n",
      "  combined_df = combined_df.append(sample_df, ignore_index=True)\n",
      "C:\\Users\\Aneesh\\AppData\\Local\\Temp\\ipykernel_14956\\3604864273.py:21: FutureWarning: The frame.append method is deprecated and will be removed from pandas in a future version. Use pandas.concat instead.\n",
      "  combined_df = combined_df.append(sample_df, ignore_index=True)\n",
      "C:\\Users\\Aneesh\\AppData\\Local\\Temp\\ipykernel_14956\\3604864273.py:21: FutureWarning: The frame.append method is deprecated and will be removed from pandas in a future version. Use pandas.concat instead.\n",
      "  combined_df = combined_df.append(sample_df, ignore_index=True)\n",
      "C:\\Users\\Aneesh\\AppData\\Local\\Temp\\ipykernel_14956\\3604864273.py:21: FutureWarning: The frame.append method is deprecated and will be removed from pandas in a future version. Use pandas.concat instead.\n",
      "  combined_df = combined_df.append(sample_df, ignore_index=True)\n",
      "C:\\Users\\Aneesh\\AppData\\Local\\Temp\\ipykernel_14956\\3604864273.py:21: FutureWarning: The frame.append method is deprecated and will be removed from pandas in a future version. Use pandas.concat instead.\n",
      "  combined_df = combined_df.append(sample_df, ignore_index=True)\n",
      "C:\\Users\\Aneesh\\AppData\\Local\\Temp\\ipykernel_14956\\3604864273.py:21: FutureWarning: The frame.append method is deprecated and will be removed from pandas in a future version. Use pandas.concat instead.\n",
      "  combined_df = combined_df.append(sample_df, ignore_index=True)\n",
      "C:\\Users\\Aneesh\\AppData\\Local\\Temp\\ipykernel_14956\\3604864273.py:21: FutureWarning: The frame.append method is deprecated and will be removed from pandas in a future version. Use pandas.concat instead.\n",
      "  combined_df = combined_df.append(sample_df, ignore_index=True)\n",
      "C:\\Users\\Aneesh\\AppData\\Local\\Temp\\ipykernel_14956\\3604864273.py:21: FutureWarning: The frame.append method is deprecated and will be removed from pandas in a future version. Use pandas.concat instead.\n",
      "  combined_df = combined_df.append(sample_df, ignore_index=True)\n",
      "C:\\Users\\Aneesh\\AppData\\Local\\Temp\\ipykernel_14956\\3604864273.py:21: FutureWarning: The frame.append method is deprecated and will be removed from pandas in a future version. Use pandas.concat instead.\n",
      "  combined_df = combined_df.append(sample_df, ignore_index=True)\n",
      "C:\\Users\\Aneesh\\AppData\\Local\\Temp\\ipykernel_14956\\3604864273.py:21: FutureWarning: The frame.append method is deprecated and will be removed from pandas in a future version. Use pandas.concat instead.\n",
      "  combined_df = combined_df.append(sample_df, ignore_index=True)\n",
      "C:\\Users\\Aneesh\\AppData\\Local\\Temp\\ipykernel_14956\\3604864273.py:21: FutureWarning: The frame.append method is deprecated and will be removed from pandas in a future version. Use pandas.concat instead.\n",
      "  combined_df = combined_df.append(sample_df, ignore_index=True)\n",
      "C:\\Users\\Aneesh\\AppData\\Local\\Temp\\ipykernel_14956\\3604864273.py:21: FutureWarning: The frame.append method is deprecated and will be removed from pandas in a future version. Use pandas.concat instead.\n",
      "  combined_df = combined_df.append(sample_df, ignore_index=True)\n",
      "C:\\Users\\Aneesh\\AppData\\Local\\Temp\\ipykernel_14956\\3604864273.py:21: FutureWarning: The frame.append method is deprecated and will be removed from pandas in a future version. Use pandas.concat instead.\n",
      "  combined_df = combined_df.append(sample_df, ignore_index=True)\n",
      "C:\\Users\\Aneesh\\AppData\\Local\\Temp\\ipykernel_14956\\3604864273.py:21: FutureWarning: The frame.append method is deprecated and will be removed from pandas in a future version. Use pandas.concat instead.\n",
      "  combined_df = combined_df.append(sample_df, ignore_index=True)\n",
      "C:\\Users\\Aneesh\\AppData\\Local\\Temp\\ipykernel_14956\\3604864273.py:21: FutureWarning: The frame.append method is deprecated and will be removed from pandas in a future version. Use pandas.concat instead.\n",
      "  combined_df = combined_df.append(sample_df, ignore_index=True)\n",
      "C:\\Users\\Aneesh\\AppData\\Local\\Temp\\ipykernel_14956\\3604864273.py:21: FutureWarning: The frame.append method is deprecated and will be removed from pandas in a future version. Use pandas.concat instead.\n",
      "  combined_df = combined_df.append(sample_df, ignore_index=True)\n",
      "C:\\Users\\Aneesh\\AppData\\Local\\Temp\\ipykernel_14956\\3604864273.py:21: FutureWarning: The frame.append method is deprecated and will be removed from pandas in a future version. Use pandas.concat instead.\n",
      "  combined_df = combined_df.append(sample_df, ignore_index=True)\n",
      "C:\\Users\\Aneesh\\AppData\\Local\\Temp\\ipykernel_14956\\3604864273.py:21: FutureWarning: The frame.append method is deprecated and will be removed from pandas in a future version. Use pandas.concat instead.\n",
      "  combined_df = combined_df.append(sample_df, ignore_index=True)\n",
      "C:\\Users\\Aneesh\\AppData\\Local\\Temp\\ipykernel_14956\\3604864273.py:24: FutureWarning: The frame.append method is deprecated and will be removed from pandas in a future version. Use pandas.concat instead.\n",
      "  combined_df = combined_df.append(chunk, ignore_index=True)\n"
     ]
    },
    {
     "name": "stdout",
     "output_type": "stream",
     "text": [
      "Processing file: benign_03.csv\n"
     ]
    },
    {
     "name": "stderr",
     "output_type": "stream",
     "text": [
      "C:\\Users\\Aneesh\\AppData\\Local\\Temp\\ipykernel_14956\\3604864273.py:21: FutureWarning: The frame.append method is deprecated and will be removed from pandas in a future version. Use pandas.concat instead.\n",
      "  combined_df = combined_df.append(sample_df, ignore_index=True)\n",
      "C:\\Users\\Aneesh\\AppData\\Local\\Temp\\ipykernel_14956\\3604864273.py:21: FutureWarning: The frame.append method is deprecated and will be removed from pandas in a future version. Use pandas.concat instead.\n",
      "  combined_df = combined_df.append(sample_df, ignore_index=True)\n",
      "C:\\Users\\Aneesh\\AppData\\Local\\Temp\\ipykernel_14956\\3604864273.py:21: FutureWarning: The frame.append method is deprecated and will be removed from pandas in a future version. Use pandas.concat instead.\n",
      "  combined_df = combined_df.append(sample_df, ignore_index=True)\n",
      "C:\\Users\\Aneesh\\AppData\\Local\\Temp\\ipykernel_14956\\3604864273.py:21: FutureWarning: The frame.append method is deprecated and will be removed from pandas in a future version. Use pandas.concat instead.\n",
      "  combined_df = combined_df.append(sample_df, ignore_index=True)\n",
      "C:\\Users\\Aneesh\\AppData\\Local\\Temp\\ipykernel_14956\\3604864273.py:21: FutureWarning: The frame.append method is deprecated and will be removed from pandas in a future version. Use pandas.concat instead.\n",
      "  combined_df = combined_df.append(sample_df, ignore_index=True)\n",
      "C:\\Users\\Aneesh\\AppData\\Local\\Temp\\ipykernel_14956\\3604864273.py:21: FutureWarning: The frame.append method is deprecated and will be removed from pandas in a future version. Use pandas.concat instead.\n",
      "  combined_df = combined_df.append(sample_df, ignore_index=True)\n",
      "C:\\Users\\Aneesh\\AppData\\Local\\Temp\\ipykernel_14956\\3604864273.py:21: FutureWarning: The frame.append method is deprecated and will be removed from pandas in a future version. Use pandas.concat instead.\n",
      "  combined_df = combined_df.append(sample_df, ignore_index=True)\n",
      "C:\\Users\\Aneesh\\AppData\\Local\\Temp\\ipykernel_14956\\3604864273.py:21: FutureWarning: The frame.append method is deprecated and will be removed from pandas in a future version. Use pandas.concat instead.\n",
      "  combined_df = combined_df.append(sample_df, ignore_index=True)\n",
      "C:\\Users\\Aneesh\\AppData\\Local\\Temp\\ipykernel_14956\\3604864273.py:21: FutureWarning: The frame.append method is deprecated and will be removed from pandas in a future version. Use pandas.concat instead.\n",
      "  combined_df = combined_df.append(sample_df, ignore_index=True)\n",
      "C:\\Users\\Aneesh\\AppData\\Local\\Temp\\ipykernel_14956\\3604864273.py:21: FutureWarning: The frame.append method is deprecated and will be removed from pandas in a future version. Use pandas.concat instead.\n",
      "  combined_df = combined_df.append(sample_df, ignore_index=True)\n",
      "C:\\Users\\Aneesh\\AppData\\Local\\Temp\\ipykernel_14956\\3604864273.py:21: FutureWarning: The frame.append method is deprecated and will be removed from pandas in a future version. Use pandas.concat instead.\n",
      "  combined_df = combined_df.append(sample_df, ignore_index=True)\n",
      "C:\\Users\\Aneesh\\AppData\\Local\\Temp\\ipykernel_14956\\3604864273.py:21: FutureWarning: The frame.append method is deprecated and will be removed from pandas in a future version. Use pandas.concat instead.\n",
      "  combined_df = combined_df.append(sample_df, ignore_index=True)\n",
      "C:\\Users\\Aneesh\\AppData\\Local\\Temp\\ipykernel_14956\\3604864273.py:21: FutureWarning: The frame.append method is deprecated and will be removed from pandas in a future version. Use pandas.concat instead.\n",
      "  combined_df = combined_df.append(sample_df, ignore_index=True)\n",
      "C:\\Users\\Aneesh\\AppData\\Local\\Temp\\ipykernel_14956\\3604864273.py:21: FutureWarning: The frame.append method is deprecated and will be removed from pandas in a future version. Use pandas.concat instead.\n",
      "  combined_df = combined_df.append(sample_df, ignore_index=True)\n",
      "C:\\Users\\Aneesh\\AppData\\Local\\Temp\\ipykernel_14956\\3604864273.py:21: FutureWarning: The frame.append method is deprecated and will be removed from pandas in a future version. Use pandas.concat instead.\n",
      "  combined_df = combined_df.append(sample_df, ignore_index=True)\n",
      "C:\\Users\\Aneesh\\AppData\\Local\\Temp\\ipykernel_14956\\3604864273.py:21: FutureWarning: The frame.append method is deprecated and will be removed from pandas in a future version. Use pandas.concat instead.\n",
      "  combined_df = combined_df.append(sample_df, ignore_index=True)\n",
      "C:\\Users\\Aneesh\\AppData\\Local\\Temp\\ipykernel_14956\\3604864273.py:21: FutureWarning: The frame.append method is deprecated and will be removed from pandas in a future version. Use pandas.concat instead.\n",
      "  combined_df = combined_df.append(sample_df, ignore_index=True)\n",
      "C:\\Users\\Aneesh\\AppData\\Local\\Temp\\ipykernel_14956\\3604864273.py:21: FutureWarning: The frame.append method is deprecated and will be removed from pandas in a future version. Use pandas.concat instead.\n",
      "  combined_df = combined_df.append(sample_df, ignore_index=True)\n",
      "C:\\Users\\Aneesh\\AppData\\Local\\Temp\\ipykernel_14956\\3604864273.py:21: FutureWarning: The frame.append method is deprecated and will be removed from pandas in a future version. Use pandas.concat instead.\n",
      "  combined_df = combined_df.append(sample_df, ignore_index=True)\n",
      "C:\\Users\\Aneesh\\AppData\\Local\\Temp\\ipykernel_14956\\3604864273.py:21: FutureWarning: The frame.append method is deprecated and will be removed from pandas in a future version. Use pandas.concat instead.\n",
      "  combined_df = combined_df.append(sample_df, ignore_index=True)\n",
      "C:\\Users\\Aneesh\\AppData\\Local\\Temp\\ipykernel_14956\\3604864273.py:21: FutureWarning: The frame.append method is deprecated and will be removed from pandas in a future version. Use pandas.concat instead.\n",
      "  combined_df = combined_df.append(sample_df, ignore_index=True)\n",
      "C:\\Users\\Aneesh\\AppData\\Local\\Temp\\ipykernel_14956\\3604864273.py:21: FutureWarning: The frame.append method is deprecated and will be removed from pandas in a future version. Use pandas.concat instead.\n",
      "  combined_df = combined_df.append(sample_df, ignore_index=True)\n",
      "C:\\Users\\Aneesh\\AppData\\Local\\Temp\\ipykernel_14956\\3604864273.py:21: FutureWarning: The frame.append method is deprecated and will be removed from pandas in a future version. Use pandas.concat instead.\n",
      "  combined_df = combined_df.append(sample_df, ignore_index=True)\n",
      "C:\\Users\\Aneesh\\AppData\\Local\\Temp\\ipykernel_14956\\3604864273.py:21: FutureWarning: The frame.append method is deprecated and will be removed from pandas in a future version. Use pandas.concat instead.\n",
      "  combined_df = combined_df.append(sample_df, ignore_index=True)\n",
      "C:\\Users\\Aneesh\\AppData\\Local\\Temp\\ipykernel_14956\\3604864273.py:21: FutureWarning: The frame.append method is deprecated and will be removed from pandas in a future version. Use pandas.concat instead.\n",
      "  combined_df = combined_df.append(sample_df, ignore_index=True)\n",
      "C:\\Users\\Aneesh\\AppData\\Local\\Temp\\ipykernel_14956\\3604864273.py:21: FutureWarning: The frame.append method is deprecated and will be removed from pandas in a future version. Use pandas.concat instead.\n",
      "  combined_df = combined_df.append(sample_df, ignore_index=True)\n",
      "C:\\Users\\Aneesh\\AppData\\Local\\Temp\\ipykernel_14956\\3604864273.py:21: FutureWarning: The frame.append method is deprecated and will be removed from pandas in a future version. Use pandas.concat instead.\n",
      "  combined_df = combined_df.append(sample_df, ignore_index=True)\n",
      "C:\\Users\\Aneesh\\AppData\\Local\\Temp\\ipykernel_14956\\3604864273.py:21: FutureWarning: The frame.append method is deprecated and will be removed from pandas in a future version. Use pandas.concat instead.\n",
      "  combined_df = combined_df.append(sample_df, ignore_index=True)\n",
      "C:\\Users\\Aneesh\\AppData\\Local\\Temp\\ipykernel_14956\\3604864273.py:21: FutureWarning: The frame.append method is deprecated and will be removed from pandas in a future version. Use pandas.concat instead.\n",
      "  combined_df = combined_df.append(sample_df, ignore_index=True)\n",
      "C:\\Users\\Aneesh\\AppData\\Local\\Temp\\ipykernel_14956\\3604864273.py:21: FutureWarning: The frame.append method is deprecated and will be removed from pandas in a future version. Use pandas.concat instead.\n",
      "  combined_df = combined_df.append(sample_df, ignore_index=True)\n",
      "C:\\Users\\Aneesh\\AppData\\Local\\Temp\\ipykernel_14956\\3604864273.py:21: FutureWarning: The frame.append method is deprecated and will be removed from pandas in a future version. Use pandas.concat instead.\n",
      "  combined_df = combined_df.append(sample_df, ignore_index=True)\n",
      "C:\\Users\\Aneesh\\AppData\\Local\\Temp\\ipykernel_14956\\3604864273.py:21: FutureWarning: The frame.append method is deprecated and will be removed from pandas in a future version. Use pandas.concat instead.\n",
      "  combined_df = combined_df.append(sample_df, ignore_index=True)\n",
      "C:\\Users\\Aneesh\\AppData\\Local\\Temp\\ipykernel_14956\\3604864273.py:21: FutureWarning: The frame.append method is deprecated and will be removed from pandas in a future version. Use pandas.concat instead.\n",
      "  combined_df = combined_df.append(sample_df, ignore_index=True)\n",
      "C:\\Users\\Aneesh\\AppData\\Local\\Temp\\ipykernel_14956\\3604864273.py:21: FutureWarning: The frame.append method is deprecated and will be removed from pandas in a future version. Use pandas.concat instead.\n",
      "  combined_df = combined_df.append(sample_df, ignore_index=True)\n",
      "C:\\Users\\Aneesh\\AppData\\Local\\Temp\\ipykernel_14956\\3604864273.py:21: FutureWarning: The frame.append method is deprecated and will be removed from pandas in a future version. Use pandas.concat instead.\n",
      "  combined_df = combined_df.append(sample_df, ignore_index=True)\n",
      "C:\\Users\\Aneesh\\AppData\\Local\\Temp\\ipykernel_14956\\3604864273.py:21: FutureWarning: The frame.append method is deprecated and will be removed from pandas in a future version. Use pandas.concat instead.\n",
      "  combined_df = combined_df.append(sample_df, ignore_index=True)\n",
      "C:\\Users\\Aneesh\\AppData\\Local\\Temp\\ipykernel_14956\\3604864273.py:21: FutureWarning: The frame.append method is deprecated and will be removed from pandas in a future version. Use pandas.concat instead.\n",
      "  combined_df = combined_df.append(sample_df, ignore_index=True)\n",
      "C:\\Users\\Aneesh\\AppData\\Local\\Temp\\ipykernel_14956\\3604864273.py:21: FutureWarning: The frame.append method is deprecated and will be removed from pandas in a future version. Use pandas.concat instead.\n",
      "  combined_df = combined_df.append(sample_df, ignore_index=True)\n",
      "C:\\Users\\Aneesh\\AppData\\Local\\Temp\\ipykernel_14956\\3604864273.py:21: FutureWarning: The frame.append method is deprecated and will be removed from pandas in a future version. Use pandas.concat instead.\n",
      "  combined_df = combined_df.append(sample_df, ignore_index=True)\n",
      "C:\\Users\\Aneesh\\AppData\\Local\\Temp\\ipykernel_14956\\3604864273.py:21: FutureWarning: The frame.append method is deprecated and will be removed from pandas in a future version. Use pandas.concat instead.\n",
      "  combined_df = combined_df.append(sample_df, ignore_index=True)\n",
      "C:\\Users\\Aneesh\\AppData\\Local\\Temp\\ipykernel_14956\\3604864273.py:21: FutureWarning: The frame.append method is deprecated and will be removed from pandas in a future version. Use pandas.concat instead.\n",
      "  combined_df = combined_df.append(sample_df, ignore_index=True)\n",
      "C:\\Users\\Aneesh\\AppData\\Local\\Temp\\ipykernel_14956\\3604864273.py:21: FutureWarning: The frame.append method is deprecated and will be removed from pandas in a future version. Use pandas.concat instead.\n",
      "  combined_df = combined_df.append(sample_df, ignore_index=True)\n",
      "C:\\Users\\Aneesh\\AppData\\Local\\Temp\\ipykernel_14956\\3604864273.py:21: FutureWarning: The frame.append method is deprecated and will be removed from pandas in a future version. Use pandas.concat instead.\n",
      "  combined_df = combined_df.append(sample_df, ignore_index=True)\n",
      "C:\\Users\\Aneesh\\AppData\\Local\\Temp\\ipykernel_14956\\3604864273.py:21: FutureWarning: The frame.append method is deprecated and will be removed from pandas in a future version. Use pandas.concat instead.\n",
      "  combined_df = combined_df.append(sample_df, ignore_index=True)\n",
      "C:\\Users\\Aneesh\\AppData\\Local\\Temp\\ipykernel_14956\\3604864273.py:24: FutureWarning: The frame.append method is deprecated and will be removed from pandas in a future version. Use pandas.concat instead.\n",
      "  combined_df = combined_df.append(chunk, ignore_index=True)\n"
     ]
    },
    {
     "name": "stdout",
     "output_type": "stream",
     "text": [
      "Processing file: bot.csv\n"
     ]
    },
    {
     "name": "stderr",
     "output_type": "stream",
     "text": [
      "C:\\Users\\Aneesh\\AppData\\Local\\Temp\\ipykernel_14956\\3604864273.py:21: FutureWarning: The frame.append method is deprecated and will be removed from pandas in a future version. Use pandas.concat instead.\n",
      "  combined_df = combined_df.append(sample_df, ignore_index=True)\n",
      "C:\\Users\\Aneesh\\AppData\\Local\\Temp\\ipykernel_14956\\3604864273.py:21: FutureWarning: The frame.append method is deprecated and will be removed from pandas in a future version. Use pandas.concat instead.\n",
      "  combined_df = combined_df.append(sample_df, ignore_index=True)\n",
      "C:\\Users\\Aneesh\\AppData\\Local\\Temp\\ipykernel_14956\\3604864273.py:21: FutureWarning: The frame.append method is deprecated and will be removed from pandas in a future version. Use pandas.concat instead.\n",
      "  combined_df = combined_df.append(sample_df, ignore_index=True)\n",
      "C:\\Users\\Aneesh\\AppData\\Local\\Temp\\ipykernel_14956\\3604864273.py:21: FutureWarning: The frame.append method is deprecated and will be removed from pandas in a future version. Use pandas.concat instead.\n",
      "  combined_df = combined_df.append(sample_df, ignore_index=True)\n",
      "C:\\Users\\Aneesh\\AppData\\Local\\Temp\\ipykernel_14956\\3604864273.py:21: FutureWarning: The frame.append method is deprecated and will be removed from pandas in a future version. Use pandas.concat instead.\n",
      "  combined_df = combined_df.append(sample_df, ignore_index=True)\n",
      "C:\\Users\\Aneesh\\AppData\\Local\\Temp\\ipykernel_14956\\3604864273.py:21: FutureWarning: The frame.append method is deprecated and will be removed from pandas in a future version. Use pandas.concat instead.\n",
      "  combined_df = combined_df.append(sample_df, ignore_index=True)\n",
      "C:\\Users\\Aneesh\\AppData\\Local\\Temp\\ipykernel_14956\\3604864273.py:21: FutureWarning: The frame.append method is deprecated and will be removed from pandas in a future version. Use pandas.concat instead.\n",
      "  combined_df = combined_df.append(sample_df, ignore_index=True)\n",
      "C:\\Users\\Aneesh\\AppData\\Local\\Temp\\ipykernel_14956\\3604864273.py:21: FutureWarning: The frame.append method is deprecated and will be removed from pandas in a future version. Use pandas.concat instead.\n",
      "  combined_df = combined_df.append(sample_df, ignore_index=True)\n",
      "C:\\Users\\Aneesh\\AppData\\Local\\Temp\\ipykernel_14956\\3604864273.py:21: FutureWarning: The frame.append method is deprecated and will be removed from pandas in a future version. Use pandas.concat instead.\n",
      "  combined_df = combined_df.append(sample_df, ignore_index=True)\n",
      "C:\\Users\\Aneesh\\AppData\\Local\\Temp\\ipykernel_14956\\3604864273.py:21: FutureWarning: The frame.append method is deprecated and will be removed from pandas in a future version. Use pandas.concat instead.\n",
      "  combined_df = combined_df.append(sample_df, ignore_index=True)\n",
      "C:\\Users\\Aneesh\\AppData\\Local\\Temp\\ipykernel_14956\\3604864273.py:21: FutureWarning: The frame.append method is deprecated and will be removed from pandas in a future version. Use pandas.concat instead.\n",
      "  combined_df = combined_df.append(sample_df, ignore_index=True)\n",
      "C:\\Users\\Aneesh\\AppData\\Local\\Temp\\ipykernel_14956\\3604864273.py:21: FutureWarning: The frame.append method is deprecated and will be removed from pandas in a future version. Use pandas.concat instead.\n",
      "  combined_df = combined_df.append(sample_df, ignore_index=True)\n",
      "C:\\Users\\Aneesh\\AppData\\Local\\Temp\\ipykernel_14956\\3604864273.py:21: FutureWarning: The frame.append method is deprecated and will be removed from pandas in a future version. Use pandas.concat instead.\n",
      "  combined_df = combined_df.append(sample_df, ignore_index=True)\n",
      "C:\\Users\\Aneesh\\AppData\\Local\\Temp\\ipykernel_14956\\3604864273.py:21: FutureWarning: The frame.append method is deprecated and will be removed from pandas in a future version. Use pandas.concat instead.\n",
      "  combined_df = combined_df.append(sample_df, ignore_index=True)\n",
      "C:\\Users\\Aneesh\\AppData\\Local\\Temp\\ipykernel_14956\\3604864273.py:21: FutureWarning: The frame.append method is deprecated and will be removed from pandas in a future version. Use pandas.concat instead.\n",
      "  combined_df = combined_df.append(sample_df, ignore_index=True)\n",
      "C:\\Users\\Aneesh\\AppData\\Local\\Temp\\ipykernel_14956\\3604864273.py:21: FutureWarning: The frame.append method is deprecated and will be removed from pandas in a future version. Use pandas.concat instead.\n",
      "  combined_df = combined_df.append(sample_df, ignore_index=True)\n",
      "C:\\Users\\Aneesh\\AppData\\Local\\Temp\\ipykernel_14956\\3604864273.py:21: FutureWarning: The frame.append method is deprecated and will be removed from pandas in a future version. Use pandas.concat instead.\n",
      "  combined_df = combined_df.append(sample_df, ignore_index=True)\n",
      "C:\\Users\\Aneesh\\AppData\\Local\\Temp\\ipykernel_14956\\3604864273.py:21: FutureWarning: The frame.append method is deprecated and will be removed from pandas in a future version. Use pandas.concat instead.\n",
      "  combined_df = combined_df.append(sample_df, ignore_index=True)\n",
      "C:\\Users\\Aneesh\\AppData\\Local\\Temp\\ipykernel_14956\\3604864273.py:21: FutureWarning: The frame.append method is deprecated and will be removed from pandas in a future version. Use pandas.concat instead.\n",
      "  combined_df = combined_df.append(sample_df, ignore_index=True)\n",
      "C:\\Users\\Aneesh\\AppData\\Local\\Temp\\ipykernel_14956\\3604864273.py:21: FutureWarning: The frame.append method is deprecated and will be removed from pandas in a future version. Use pandas.concat instead.\n",
      "  combined_df = combined_df.append(sample_df, ignore_index=True)\n",
      "C:\\Users\\Aneesh\\AppData\\Local\\Temp\\ipykernel_14956\\3604864273.py:21: FutureWarning: The frame.append method is deprecated and will be removed from pandas in a future version. Use pandas.concat instead.\n",
      "  combined_df = combined_df.append(sample_df, ignore_index=True)\n",
      "C:\\Users\\Aneesh\\AppData\\Local\\Temp\\ipykernel_14956\\3604864273.py:21: FutureWarning: The frame.append method is deprecated and will be removed from pandas in a future version. Use pandas.concat instead.\n",
      "  combined_df = combined_df.append(sample_df, ignore_index=True)\n",
      "C:\\Users\\Aneesh\\AppData\\Local\\Temp\\ipykernel_14956\\3604864273.py:21: FutureWarning: The frame.append method is deprecated and will be removed from pandas in a future version. Use pandas.concat instead.\n",
      "  combined_df = combined_df.append(sample_df, ignore_index=True)\n",
      "C:\\Users\\Aneesh\\AppData\\Local\\Temp\\ipykernel_14956\\3604864273.py:21: FutureWarning: The frame.append method is deprecated and will be removed from pandas in a future version. Use pandas.concat instead.\n",
      "  combined_df = combined_df.append(sample_df, ignore_index=True)\n",
      "C:\\Users\\Aneesh\\AppData\\Local\\Temp\\ipykernel_14956\\3604864273.py:21: FutureWarning: The frame.append method is deprecated and will be removed from pandas in a future version. Use pandas.concat instead.\n",
      "  combined_df = combined_df.append(sample_df, ignore_index=True)\n",
      "C:\\Users\\Aneesh\\AppData\\Local\\Temp\\ipykernel_14956\\3604864273.py:21: FutureWarning: The frame.append method is deprecated and will be removed from pandas in a future version. Use pandas.concat instead.\n",
      "  combined_df = combined_df.append(sample_df, ignore_index=True)\n",
      "C:\\Users\\Aneesh\\AppData\\Local\\Temp\\ipykernel_14956\\3604864273.py:21: FutureWarning: The frame.append method is deprecated and will be removed from pandas in a future version. Use pandas.concat instead.\n",
      "  combined_df = combined_df.append(sample_df, ignore_index=True)\n",
      "C:\\Users\\Aneesh\\AppData\\Local\\Temp\\ipykernel_14956\\3604864273.py:21: FutureWarning: The frame.append method is deprecated and will be removed from pandas in a future version. Use pandas.concat instead.\n",
      "  combined_df = combined_df.append(sample_df, ignore_index=True)\n",
      "C:\\Users\\Aneesh\\AppData\\Local\\Temp\\ipykernel_14956\\3604864273.py:24: FutureWarning: The frame.append method is deprecated and will be removed from pandas in a future version. Use pandas.concat instead.\n",
      "  combined_df = combined_df.append(chunk, ignore_index=True)\n"
     ]
    },
    {
     "name": "stdout",
     "output_type": "stream",
     "text": [
      "Processing file: bruteforce.csv\n"
     ]
    },
    {
     "name": "stderr",
     "output_type": "stream",
     "text": [
      "C:\\Users\\Aneesh\\AppData\\Local\\Temp\\ipykernel_14956\\3604864273.py:21: FutureWarning: The frame.append method is deprecated and will be removed from pandas in a future version. Use pandas.concat instead.\n",
      "  combined_df = combined_df.append(sample_df, ignore_index=True)\n",
      "C:\\Users\\Aneesh\\AppData\\Local\\Temp\\ipykernel_14956\\3604864273.py:21: FutureWarning: The frame.append method is deprecated and will be removed from pandas in a future version. Use pandas.concat instead.\n",
      "  combined_df = combined_df.append(sample_df, ignore_index=True)\n",
      "C:\\Users\\Aneesh\\AppData\\Local\\Temp\\ipykernel_14956\\3604864273.py:21: FutureWarning: The frame.append method is deprecated and will be removed from pandas in a future version. Use pandas.concat instead.\n",
      "  combined_df = combined_df.append(sample_df, ignore_index=True)\n",
      "C:\\Users\\Aneesh\\AppData\\Local\\Temp\\ipykernel_14956\\3604864273.py:21: FutureWarning: The frame.append method is deprecated and will be removed from pandas in a future version. Use pandas.concat instead.\n",
      "  combined_df = combined_df.append(sample_df, ignore_index=True)\n",
      "C:\\Users\\Aneesh\\AppData\\Local\\Temp\\ipykernel_14956\\3604864273.py:21: FutureWarning: The frame.append method is deprecated and will be removed from pandas in a future version. Use pandas.concat instead.\n",
      "  combined_df = combined_df.append(sample_df, ignore_index=True)\n",
      "C:\\Users\\Aneesh\\AppData\\Local\\Temp\\ipykernel_14956\\3604864273.py:21: FutureWarning: The frame.append method is deprecated and will be removed from pandas in a future version. Use pandas.concat instead.\n",
      "  combined_df = combined_df.append(sample_df, ignore_index=True)\n",
      "C:\\Users\\Aneesh\\AppData\\Local\\Temp\\ipykernel_14956\\3604864273.py:21: FutureWarning: The frame.append method is deprecated and will be removed from pandas in a future version. Use pandas.concat instead.\n",
      "  combined_df = combined_df.append(sample_df, ignore_index=True)\n",
      "C:\\Users\\Aneesh\\AppData\\Local\\Temp\\ipykernel_14956\\3604864273.py:21: FutureWarning: The frame.append method is deprecated and will be removed from pandas in a future version. Use pandas.concat instead.\n",
      "  combined_df = combined_df.append(sample_df, ignore_index=True)\n",
      "C:\\Users\\Aneesh\\AppData\\Local\\Temp\\ipykernel_14956\\3604864273.py:21: FutureWarning: The frame.append method is deprecated and will be removed from pandas in a future version. Use pandas.concat instead.\n",
      "  combined_df = combined_df.append(sample_df, ignore_index=True)\n",
      "C:\\Users\\Aneesh\\AppData\\Local\\Temp\\ipykernel_14956\\3604864273.py:21: FutureWarning: The frame.append method is deprecated and will be removed from pandas in a future version. Use pandas.concat instead.\n",
      "  combined_df = combined_df.append(sample_df, ignore_index=True)\n",
      "C:\\Users\\Aneesh\\AppData\\Local\\Temp\\ipykernel_14956\\3604864273.py:21: FutureWarning: The frame.append method is deprecated and will be removed from pandas in a future version. Use pandas.concat instead.\n",
      "  combined_df = combined_df.append(sample_df, ignore_index=True)\n",
      "C:\\Users\\Aneesh\\AppData\\Local\\Temp\\ipykernel_14956\\3604864273.py:21: FutureWarning: The frame.append method is deprecated and will be removed from pandas in a future version. Use pandas.concat instead.\n",
      "  combined_df = combined_df.append(sample_df, ignore_index=True)\n",
      "C:\\Users\\Aneesh\\AppData\\Local\\Temp\\ipykernel_14956\\3604864273.py:21: FutureWarning: The frame.append method is deprecated and will be removed from pandas in a future version. Use pandas.concat instead.\n",
      "  combined_df = combined_df.append(sample_df, ignore_index=True)\n",
      "C:\\Users\\Aneesh\\AppData\\Local\\Temp\\ipykernel_14956\\3604864273.py:21: FutureWarning: The frame.append method is deprecated and will be removed from pandas in a future version. Use pandas.concat instead.\n",
      "  combined_df = combined_df.append(sample_df, ignore_index=True)\n",
      "C:\\Users\\Aneesh\\AppData\\Local\\Temp\\ipykernel_14956\\3604864273.py:21: FutureWarning: The frame.append method is deprecated and will be removed from pandas in a future version. Use pandas.concat instead.\n",
      "  combined_df = combined_df.append(sample_df, ignore_index=True)\n",
      "C:\\Users\\Aneesh\\AppData\\Local\\Temp\\ipykernel_14956\\3604864273.py:21: FutureWarning: The frame.append method is deprecated and will be removed from pandas in a future version. Use pandas.concat instead.\n",
      "  combined_df = combined_df.append(sample_df, ignore_index=True)\n",
      "C:\\Users\\Aneesh\\AppData\\Local\\Temp\\ipykernel_14956\\3604864273.py:21: FutureWarning: The frame.append method is deprecated and will be removed from pandas in a future version. Use pandas.concat instead.\n",
      "  combined_df = combined_df.append(sample_df, ignore_index=True)\n",
      "C:\\Users\\Aneesh\\AppData\\Local\\Temp\\ipykernel_14956\\3604864273.py:21: FutureWarning: The frame.append method is deprecated and will be removed from pandas in a future version. Use pandas.concat instead.\n",
      "  combined_df = combined_df.append(sample_df, ignore_index=True)\n",
      "C:\\Users\\Aneesh\\AppData\\Local\\Temp\\ipykernel_14956\\3604864273.py:21: FutureWarning: The frame.append method is deprecated and will be removed from pandas in a future version. Use pandas.concat instead.\n",
      "  combined_df = combined_df.append(sample_df, ignore_index=True)\n",
      "C:\\Users\\Aneesh\\AppData\\Local\\Temp\\ipykernel_14956\\3604864273.py:21: FutureWarning: The frame.append method is deprecated and will be removed from pandas in a future version. Use pandas.concat instead.\n",
      "  combined_df = combined_df.append(sample_df, ignore_index=True)\n",
      "C:\\Users\\Aneesh\\AppData\\Local\\Temp\\ipykernel_14956\\3604864273.py:21: FutureWarning: The frame.append method is deprecated and will be removed from pandas in a future version. Use pandas.concat instead.\n",
      "  combined_df = combined_df.append(sample_df, ignore_index=True)\n",
      "C:\\Users\\Aneesh\\AppData\\Local\\Temp\\ipykernel_14956\\3604864273.py:21: FutureWarning: The frame.append method is deprecated and will be removed from pandas in a future version. Use pandas.concat instead.\n",
      "  combined_df = combined_df.append(sample_df, ignore_index=True)\n",
      "C:\\Users\\Aneesh\\AppData\\Local\\Temp\\ipykernel_14956\\3604864273.py:21: FutureWarning: The frame.append method is deprecated and will be removed from pandas in a future version. Use pandas.concat instead.\n",
      "  combined_df = combined_df.append(sample_df, ignore_index=True)\n",
      "C:\\Users\\Aneesh\\AppData\\Local\\Temp\\ipykernel_14956\\3604864273.py:21: FutureWarning: The frame.append method is deprecated and will be removed from pandas in a future version. Use pandas.concat instead.\n",
      "  combined_df = combined_df.append(sample_df, ignore_index=True)\n",
      "C:\\Users\\Aneesh\\AppData\\Local\\Temp\\ipykernel_14956\\3604864273.py:21: FutureWarning: The frame.append method is deprecated and will be removed from pandas in a future version. Use pandas.concat instead.\n",
      "  combined_df = combined_df.append(sample_df, ignore_index=True)\n",
      "C:\\Users\\Aneesh\\AppData\\Local\\Temp\\ipykernel_14956\\3604864273.py:21: FutureWarning: The frame.append method is deprecated and will be removed from pandas in a future version. Use pandas.concat instead.\n",
      "  combined_df = combined_df.append(sample_df, ignore_index=True)\n",
      "C:\\Users\\Aneesh\\AppData\\Local\\Temp\\ipykernel_14956\\3604864273.py:21: FutureWarning: The frame.append method is deprecated and will be removed from pandas in a future version. Use pandas.concat instead.\n",
      "  combined_df = combined_df.append(sample_df, ignore_index=True)\n",
      "C:\\Users\\Aneesh\\AppData\\Local\\Temp\\ipykernel_14956\\3604864273.py:21: FutureWarning: The frame.append method is deprecated and will be removed from pandas in a future version. Use pandas.concat instead.\n",
      "  combined_df = combined_df.append(sample_df, ignore_index=True)\n",
      "C:\\Users\\Aneesh\\AppData\\Local\\Temp\\ipykernel_14956\\3604864273.py:21: FutureWarning: The frame.append method is deprecated and will be removed from pandas in a future version. Use pandas.concat instead.\n",
      "  combined_df = combined_df.append(sample_df, ignore_index=True)\n",
      "C:\\Users\\Aneesh\\AppData\\Local\\Temp\\ipykernel_14956\\3604864273.py:21: FutureWarning: The frame.append method is deprecated and will be removed from pandas in a future version. Use pandas.concat instead.\n",
      "  combined_df = combined_df.append(sample_df, ignore_index=True)\n",
      "C:\\Users\\Aneesh\\AppData\\Local\\Temp\\ipykernel_14956\\3604864273.py:21: FutureWarning: The frame.append method is deprecated and will be removed from pandas in a future version. Use pandas.concat instead.\n",
      "  combined_df = combined_df.append(sample_df, ignore_index=True)\n",
      "C:\\Users\\Aneesh\\AppData\\Local\\Temp\\ipykernel_14956\\3604864273.py:21: FutureWarning: The frame.append method is deprecated and will be removed from pandas in a future version. Use pandas.concat instead.\n",
      "  combined_df = combined_df.append(sample_df, ignore_index=True)\n",
      "C:\\Users\\Aneesh\\AppData\\Local\\Temp\\ipykernel_14956\\3604864273.py:21: FutureWarning: The frame.append method is deprecated and will be removed from pandas in a future version. Use pandas.concat instead.\n",
      "  combined_df = combined_df.append(sample_df, ignore_index=True)\n",
      "C:\\Users\\Aneesh\\AppData\\Local\\Temp\\ipykernel_14956\\3604864273.py:21: FutureWarning: The frame.append method is deprecated and will be removed from pandas in a future version. Use pandas.concat instead.\n",
      "  combined_df = combined_df.append(sample_df, ignore_index=True)\n",
      "C:\\Users\\Aneesh\\AppData\\Local\\Temp\\ipykernel_14956\\3604864273.py:21: FutureWarning: The frame.append method is deprecated and will be removed from pandas in a future version. Use pandas.concat instead.\n",
      "  combined_df = combined_df.append(sample_df, ignore_index=True)\n",
      "C:\\Users\\Aneesh\\AppData\\Local\\Temp\\ipykernel_14956\\3604864273.py:21: FutureWarning: The frame.append method is deprecated and will be removed from pandas in a future version. Use pandas.concat instead.\n",
      "  combined_df = combined_df.append(sample_df, ignore_index=True)\n",
      "C:\\Users\\Aneesh\\AppData\\Local\\Temp\\ipykernel_14956\\3604864273.py:21: FutureWarning: The frame.append method is deprecated and will be removed from pandas in a future version. Use pandas.concat instead.\n",
      "  combined_df = combined_df.append(sample_df, ignore_index=True)\n",
      "C:\\Users\\Aneesh\\AppData\\Local\\Temp\\ipykernel_14956\\3604864273.py:21: FutureWarning: The frame.append method is deprecated and will be removed from pandas in a future version. Use pandas.concat instead.\n",
      "  combined_df = combined_df.append(sample_df, ignore_index=True)\n",
      "C:\\Users\\Aneesh\\AppData\\Local\\Temp\\ipykernel_14956\\3604864273.py:24: FutureWarning: The frame.append method is deprecated and will be removed from pandas in a future version. Use pandas.concat instead.\n",
      "  combined_df = combined_df.append(chunk, ignore_index=True)\n"
     ]
    },
    {
     "name": "stdout",
     "output_type": "stream",
     "text": [
      "Processing file: ddos.csv\n"
     ]
    },
    {
     "name": "stderr",
     "output_type": "stream",
     "text": [
      "C:\\Users\\Aneesh\\AppData\\Local\\Temp\\ipykernel_14956\\3604864273.py:21: FutureWarning: The frame.append method is deprecated and will be removed from pandas in a future version. Use pandas.concat instead.\n",
      "  combined_df = combined_df.append(sample_df, ignore_index=True)\n",
      "C:\\Users\\Aneesh\\AppData\\Local\\Temp\\ipykernel_14956\\3604864273.py:21: FutureWarning: The frame.append method is deprecated and will be removed from pandas in a future version. Use pandas.concat instead.\n",
      "  combined_df = combined_df.append(sample_df, ignore_index=True)\n",
      "C:\\Users\\Aneesh\\AppData\\Local\\Temp\\ipykernel_14956\\3604864273.py:21: FutureWarning: The frame.append method is deprecated and will be removed from pandas in a future version. Use pandas.concat instead.\n",
      "  combined_df = combined_df.append(sample_df, ignore_index=True)\n",
      "C:\\Users\\Aneesh\\AppData\\Local\\Temp\\ipykernel_14956\\3604864273.py:21: FutureWarning: The frame.append method is deprecated and will be removed from pandas in a future version. Use pandas.concat instead.\n",
      "  combined_df = combined_df.append(sample_df, ignore_index=True)\n",
      "C:\\Users\\Aneesh\\AppData\\Local\\Temp\\ipykernel_14956\\3604864273.py:21: FutureWarning: The frame.append method is deprecated and will be removed from pandas in a future version. Use pandas.concat instead.\n",
      "  combined_df = combined_df.append(sample_df, ignore_index=True)\n",
      "C:\\Users\\Aneesh\\AppData\\Local\\Temp\\ipykernel_14956\\3604864273.py:21: FutureWarning: The frame.append method is deprecated and will be removed from pandas in a future version. Use pandas.concat instead.\n",
      "  combined_df = combined_df.append(sample_df, ignore_index=True)\n",
      "C:\\Users\\Aneesh\\AppData\\Local\\Temp\\ipykernel_14956\\3604864273.py:21: FutureWarning: The frame.append method is deprecated and will be removed from pandas in a future version. Use pandas.concat instead.\n",
      "  combined_df = combined_df.append(sample_df, ignore_index=True)\n",
      "C:\\Users\\Aneesh\\AppData\\Local\\Temp\\ipykernel_14956\\3604864273.py:21: FutureWarning: The frame.append method is deprecated and will be removed from pandas in a future version. Use pandas.concat instead.\n",
      "  combined_df = combined_df.append(sample_df, ignore_index=True)\n",
      "C:\\Users\\Aneesh\\AppData\\Local\\Temp\\ipykernel_14956\\3604864273.py:21: FutureWarning: The frame.append method is deprecated and will be removed from pandas in a future version. Use pandas.concat instead.\n",
      "  combined_df = combined_df.append(sample_df, ignore_index=True)\n",
      "C:\\Users\\Aneesh\\AppData\\Local\\Temp\\ipykernel_14956\\3604864273.py:21: FutureWarning: The frame.append method is deprecated and will be removed from pandas in a future version. Use pandas.concat instead.\n",
      "  combined_df = combined_df.append(sample_df, ignore_index=True)\n",
      "C:\\Users\\Aneesh\\AppData\\Local\\Temp\\ipykernel_14956\\3604864273.py:21: FutureWarning: The frame.append method is deprecated and will be removed from pandas in a future version. Use pandas.concat instead.\n",
      "  combined_df = combined_df.append(sample_df, ignore_index=True)\n",
      "C:\\Users\\Aneesh\\AppData\\Local\\Temp\\ipykernel_14956\\3604864273.py:21: FutureWarning: The frame.append method is deprecated and will be removed from pandas in a future version. Use pandas.concat instead.\n",
      "  combined_df = combined_df.append(sample_df, ignore_index=True)\n",
      "C:\\Users\\Aneesh\\AppData\\Local\\Temp\\ipykernel_14956\\3604864273.py:21: FutureWarning: The frame.append method is deprecated and will be removed from pandas in a future version. Use pandas.concat instead.\n",
      "  combined_df = combined_df.append(sample_df, ignore_index=True)\n",
      "C:\\Users\\Aneesh\\AppData\\Local\\Temp\\ipykernel_14956\\3604864273.py:21: FutureWarning: The frame.append method is deprecated and will be removed from pandas in a future version. Use pandas.concat instead.\n",
      "  combined_df = combined_df.append(sample_df, ignore_index=True)\n",
      "C:\\Users\\Aneesh\\AppData\\Local\\Temp\\ipykernel_14956\\3604864273.py:21: FutureWarning: The frame.append method is deprecated and will be removed from pandas in a future version. Use pandas.concat instead.\n",
      "  combined_df = combined_df.append(sample_df, ignore_index=True)\n",
      "C:\\Users\\Aneesh\\AppData\\Local\\Temp\\ipykernel_14956\\3604864273.py:21: FutureWarning: The frame.append method is deprecated and will be removed from pandas in a future version. Use pandas.concat instead.\n",
      "  combined_df = combined_df.append(sample_df, ignore_index=True)\n",
      "C:\\Users\\Aneesh\\AppData\\Local\\Temp\\ipykernel_14956\\3604864273.py:21: FutureWarning: The frame.append method is deprecated and will be removed from pandas in a future version. Use pandas.concat instead.\n",
      "  combined_df = combined_df.append(sample_df, ignore_index=True)\n",
      "C:\\Users\\Aneesh\\AppData\\Local\\Temp\\ipykernel_14956\\3604864273.py:21: FutureWarning: The frame.append method is deprecated and will be removed from pandas in a future version. Use pandas.concat instead.\n",
      "  combined_df = combined_df.append(sample_df, ignore_index=True)\n",
      "C:\\Users\\Aneesh\\AppData\\Local\\Temp\\ipykernel_14956\\3604864273.py:21: FutureWarning: The frame.append method is deprecated and will be removed from pandas in a future version. Use pandas.concat instead.\n",
      "  combined_df = combined_df.append(sample_df, ignore_index=True)\n",
      "C:\\Users\\Aneesh\\AppData\\Local\\Temp\\ipykernel_14956\\3604864273.py:21: FutureWarning: The frame.append method is deprecated and will be removed from pandas in a future version. Use pandas.concat instead.\n",
      "  combined_df = combined_df.append(sample_df, ignore_index=True)\n",
      "C:\\Users\\Aneesh\\AppData\\Local\\Temp\\ipykernel_14956\\3604864273.py:21: FutureWarning: The frame.append method is deprecated and will be removed from pandas in a future version. Use pandas.concat instead.\n",
      "  combined_df = combined_df.append(sample_df, ignore_index=True)\n",
      "C:\\Users\\Aneesh\\AppData\\Local\\Temp\\ipykernel_14956\\3604864273.py:21: FutureWarning: The frame.append method is deprecated and will be removed from pandas in a future version. Use pandas.concat instead.\n",
      "  combined_df = combined_df.append(sample_df, ignore_index=True)\n",
      "C:\\Users\\Aneesh\\AppData\\Local\\Temp\\ipykernel_14956\\3604864273.py:21: FutureWarning: The frame.append method is deprecated and will be removed from pandas in a future version. Use pandas.concat instead.\n",
      "  combined_df = combined_df.append(sample_df, ignore_index=True)\n",
      "C:\\Users\\Aneesh\\AppData\\Local\\Temp\\ipykernel_14956\\3604864273.py:21: FutureWarning: The frame.append method is deprecated and will be removed from pandas in a future version. Use pandas.concat instead.\n",
      "  combined_df = combined_df.append(sample_df, ignore_index=True)\n",
      "C:\\Users\\Aneesh\\AppData\\Local\\Temp\\ipykernel_14956\\3604864273.py:21: FutureWarning: The frame.append method is deprecated and will be removed from pandas in a future version. Use pandas.concat instead.\n",
      "  combined_df = combined_df.append(sample_df, ignore_index=True)\n",
      "C:\\Users\\Aneesh\\AppData\\Local\\Temp\\ipykernel_14956\\3604864273.py:21: FutureWarning: The frame.append method is deprecated and will be removed from pandas in a future version. Use pandas.concat instead.\n",
      "  combined_df = combined_df.append(sample_df, ignore_index=True)\n",
      "C:\\Users\\Aneesh\\AppData\\Local\\Temp\\ipykernel_14956\\3604864273.py:21: FutureWarning: The frame.append method is deprecated and will be removed from pandas in a future version. Use pandas.concat instead.\n",
      "  combined_df = combined_df.append(sample_df, ignore_index=True)\n",
      "C:\\Users\\Aneesh\\AppData\\Local\\Temp\\ipykernel_14956\\3604864273.py:21: FutureWarning: The frame.append method is deprecated and will be removed from pandas in a future version. Use pandas.concat instead.\n",
      "  combined_df = combined_df.append(sample_df, ignore_index=True)\n",
      "C:\\Users\\Aneesh\\AppData\\Local\\Temp\\ipykernel_14956\\3604864273.py:21: FutureWarning: The frame.append method is deprecated and will be removed from pandas in a future version. Use pandas.concat instead.\n",
      "  combined_df = combined_df.append(sample_df, ignore_index=True)\n",
      "C:\\Users\\Aneesh\\AppData\\Local\\Temp\\ipykernel_14956\\3604864273.py:21: FutureWarning: The frame.append method is deprecated and will be removed from pandas in a future version. Use pandas.concat instead.\n",
      "  combined_df = combined_df.append(sample_df, ignore_index=True)\n",
      "C:\\Users\\Aneesh\\AppData\\Local\\Temp\\ipykernel_14956\\3604864273.py:21: FutureWarning: The frame.append method is deprecated and will be removed from pandas in a future version. Use pandas.concat instead.\n",
      "  combined_df = combined_df.append(sample_df, ignore_index=True)\n",
      "C:\\Users\\Aneesh\\AppData\\Local\\Temp\\ipykernel_14956\\3604864273.py:21: FutureWarning: The frame.append method is deprecated and will be removed from pandas in a future version. Use pandas.concat instead.\n",
      "  combined_df = combined_df.append(sample_df, ignore_index=True)\n",
      "C:\\Users\\Aneesh\\AppData\\Local\\Temp\\ipykernel_14956\\3604864273.py:21: FutureWarning: The frame.append method is deprecated and will be removed from pandas in a future version. Use pandas.concat instead.\n",
      "  combined_df = combined_df.append(sample_df, ignore_index=True)\n",
      "C:\\Users\\Aneesh\\AppData\\Local\\Temp\\ipykernel_14956\\3604864273.py:21: FutureWarning: The frame.append method is deprecated and will be removed from pandas in a future version. Use pandas.concat instead.\n",
      "  combined_df = combined_df.append(sample_df, ignore_index=True)\n",
      "C:\\Users\\Aneesh\\AppData\\Local\\Temp\\ipykernel_14956\\3604864273.py:21: FutureWarning: The frame.append method is deprecated and will be removed from pandas in a future version. Use pandas.concat instead.\n",
      "  combined_df = combined_df.append(sample_df, ignore_index=True)\n",
      "C:\\Users\\Aneesh\\AppData\\Local\\Temp\\ipykernel_14956\\3604864273.py:21: FutureWarning: The frame.append method is deprecated and will be removed from pandas in a future version. Use pandas.concat instead.\n",
      "  combined_df = combined_df.append(sample_df, ignore_index=True)\n",
      "C:\\Users\\Aneesh\\AppData\\Local\\Temp\\ipykernel_14956\\3604864273.py:21: FutureWarning: The frame.append method is deprecated and will be removed from pandas in a future version. Use pandas.concat instead.\n",
      "  combined_df = combined_df.append(sample_df, ignore_index=True)\n",
      "C:\\Users\\Aneesh\\AppData\\Local\\Temp\\ipykernel_14956\\3604864273.py:21: FutureWarning: The frame.append method is deprecated and will be removed from pandas in a future version. Use pandas.concat instead.\n",
      "  combined_df = combined_df.append(sample_df, ignore_index=True)\n",
      "C:\\Users\\Aneesh\\AppData\\Local\\Temp\\ipykernel_14956\\3604864273.py:21: FutureWarning: The frame.append method is deprecated and will be removed from pandas in a future version. Use pandas.concat instead.\n",
      "  combined_df = combined_df.append(sample_df, ignore_index=True)\n",
      "C:\\Users\\Aneesh\\AppData\\Local\\Temp\\ipykernel_14956\\3604864273.py:21: FutureWarning: The frame.append method is deprecated and will be removed from pandas in a future version. Use pandas.concat instead.\n",
      "  combined_df = combined_df.append(sample_df, ignore_index=True)\n",
      "C:\\Users\\Aneesh\\AppData\\Local\\Temp\\ipykernel_14956\\3604864273.py:21: FutureWarning: The frame.append method is deprecated and will be removed from pandas in a future version. Use pandas.concat instead.\n",
      "  combined_df = combined_df.append(sample_df, ignore_index=True)\n",
      "C:\\Users\\Aneesh\\AppData\\Local\\Temp\\ipykernel_14956\\3604864273.py:21: FutureWarning: The frame.append method is deprecated and will be removed from pandas in a future version. Use pandas.concat instead.\n",
      "  combined_df = combined_df.append(sample_df, ignore_index=True)\n",
      "C:\\Users\\Aneesh\\AppData\\Local\\Temp\\ipykernel_14956\\3604864273.py:21: FutureWarning: The frame.append method is deprecated and will be removed from pandas in a future version. Use pandas.concat instead.\n",
      "  combined_df = combined_df.append(sample_df, ignore_index=True)\n",
      "C:\\Users\\Aneesh\\AppData\\Local\\Temp\\ipykernel_14956\\3604864273.py:21: FutureWarning: The frame.append method is deprecated and will be removed from pandas in a future version. Use pandas.concat instead.\n",
      "  combined_df = combined_df.append(sample_df, ignore_index=True)\n",
      "C:\\Users\\Aneesh\\AppData\\Local\\Temp\\ipykernel_14956\\3604864273.py:21: FutureWarning: The frame.append method is deprecated and will be removed from pandas in a future version. Use pandas.concat instead.\n",
      "  combined_df = combined_df.append(sample_df, ignore_index=True)\n",
      "C:\\Users\\Aneesh\\AppData\\Local\\Temp\\ipykernel_14956\\3604864273.py:21: FutureWarning: The frame.append method is deprecated and will be removed from pandas in a future version. Use pandas.concat instead.\n",
      "  combined_df = combined_df.append(sample_df, ignore_index=True)\n",
      "C:\\Users\\Aneesh\\AppData\\Local\\Temp\\ipykernel_14956\\3604864273.py:21: FutureWarning: The frame.append method is deprecated and will be removed from pandas in a future version. Use pandas.concat instead.\n",
      "  combined_df = combined_df.append(sample_df, ignore_index=True)\n",
      "C:\\Users\\Aneesh\\AppData\\Local\\Temp\\ipykernel_14956\\3604864273.py:21: FutureWarning: The frame.append method is deprecated and will be removed from pandas in a future version. Use pandas.concat instead.\n",
      "  combined_df = combined_df.append(sample_df, ignore_index=True)\n",
      "C:\\Users\\Aneesh\\AppData\\Local\\Temp\\ipykernel_14956\\3604864273.py:21: FutureWarning: The frame.append method is deprecated and will be removed from pandas in a future version. Use pandas.concat instead.\n",
      "  combined_df = combined_df.append(sample_df, ignore_index=True)\n",
      "C:\\Users\\Aneesh\\AppData\\Local\\Temp\\ipykernel_14956\\3604864273.py:21: FutureWarning: The frame.append method is deprecated and will be removed from pandas in a future version. Use pandas.concat instead.\n",
      "  combined_df = combined_df.append(sample_df, ignore_index=True)\n",
      "C:\\Users\\Aneesh\\AppData\\Local\\Temp\\ipykernel_14956\\3604864273.py:21: FutureWarning: The frame.append method is deprecated and will be removed from pandas in a future version. Use pandas.concat instead.\n",
      "  combined_df = combined_df.append(sample_df, ignore_index=True)\n",
      "C:\\Users\\Aneesh\\AppData\\Local\\Temp\\ipykernel_14956\\3604864273.py:21: FutureWarning: The frame.append method is deprecated and will be removed from pandas in a future version. Use pandas.concat instead.\n",
      "  combined_df = combined_df.append(sample_df, ignore_index=True)\n",
      "C:\\Users\\Aneesh\\AppData\\Local\\Temp\\ipykernel_14956\\3604864273.py:21: FutureWarning: The frame.append method is deprecated and will be removed from pandas in a future version. Use pandas.concat instead.\n",
      "  combined_df = combined_df.append(sample_df, ignore_index=True)\n",
      "C:\\Users\\Aneesh\\AppData\\Local\\Temp\\ipykernel_14956\\3604864273.py:21: FutureWarning: The frame.append method is deprecated and will be removed from pandas in a future version. Use pandas.concat instead.\n",
      "  combined_df = combined_df.append(sample_df, ignore_index=True)\n",
      "C:\\Users\\Aneesh\\AppData\\Local\\Temp\\ipykernel_14956\\3604864273.py:21: FutureWarning: The frame.append method is deprecated and will be removed from pandas in a future version. Use pandas.concat instead.\n",
      "  combined_df = combined_df.append(sample_df, ignore_index=True)\n",
      "C:\\Users\\Aneesh\\AppData\\Local\\Temp\\ipykernel_14956\\3604864273.py:21: FutureWarning: The frame.append method is deprecated and will be removed from pandas in a future version. Use pandas.concat instead.\n",
      "  combined_df = combined_df.append(sample_df, ignore_index=True)\n",
      "C:\\Users\\Aneesh\\AppData\\Local\\Temp\\ipykernel_14956\\3604864273.py:21: FutureWarning: The frame.append method is deprecated and will be removed from pandas in a future version. Use pandas.concat instead.\n",
      "  combined_df = combined_df.append(sample_df, ignore_index=True)\n",
      "C:\\Users\\Aneesh\\AppData\\Local\\Temp\\ipykernel_14956\\3604864273.py:16: DtypeWarning: Columns (84) have mixed types. Specify dtype option on import or set low_memory=False.\n",
      "  for chunk in pd.read_csv(file_path, chunksize=10000):\n",
      "C:\\Users\\Aneesh\\AppData\\Local\\Temp\\ipykernel_14956\\3604864273.py:21: FutureWarning: The frame.append method is deprecated and will be removed from pandas in a future version. Use pandas.concat instead.\n",
      "  combined_df = combined_df.append(sample_df, ignore_index=True)\n",
      "C:\\Users\\Aneesh\\AppData\\Local\\Temp\\ipykernel_14956\\3604864273.py:21: FutureWarning: The frame.append method is deprecated and will be removed from pandas in a future version. Use pandas.concat instead.\n",
      "  combined_df = combined_df.append(sample_df, ignore_index=True)\n",
      "C:\\Users\\Aneesh\\AppData\\Local\\Temp\\ipykernel_14956\\3604864273.py:21: FutureWarning: The frame.append method is deprecated and will be removed from pandas in a future version. Use pandas.concat instead.\n",
      "  combined_df = combined_df.append(sample_df, ignore_index=True)\n",
      "C:\\Users\\Aneesh\\AppData\\Local\\Temp\\ipykernel_14956\\3604864273.py:21: FutureWarning: The frame.append method is deprecated and will be removed from pandas in a future version. Use pandas.concat instead.\n",
      "  combined_df = combined_df.append(sample_df, ignore_index=True)\n",
      "C:\\Users\\Aneesh\\AppData\\Local\\Temp\\ipykernel_14956\\3604864273.py:21: FutureWarning: The frame.append method is deprecated and will be removed from pandas in a future version. Use pandas.concat instead.\n",
      "  combined_df = combined_df.append(sample_df, ignore_index=True)\n",
      "C:\\Users\\Aneesh\\AppData\\Local\\Temp\\ipykernel_14956\\3604864273.py:21: FutureWarning: The frame.append method is deprecated and will be removed from pandas in a future version. Use pandas.concat instead.\n",
      "  combined_df = combined_df.append(sample_df, ignore_index=True)\n",
      "C:\\Users\\Aneesh\\AppData\\Local\\Temp\\ipykernel_14956\\3604864273.py:21: FutureWarning: The frame.append method is deprecated and will be removed from pandas in a future version. Use pandas.concat instead.\n",
      "  combined_df = combined_df.append(sample_df, ignore_index=True)\n",
      "C:\\Users\\Aneesh\\AppData\\Local\\Temp\\ipykernel_14956\\3604864273.py:21: FutureWarning: The frame.append method is deprecated and will be removed from pandas in a future version. Use pandas.concat instead.\n",
      "  combined_df = combined_df.append(sample_df, ignore_index=True)\n",
      "C:\\Users\\Aneesh\\AppData\\Local\\Temp\\ipykernel_14956\\3604864273.py:21: FutureWarning: The frame.append method is deprecated and will be removed from pandas in a future version. Use pandas.concat instead.\n",
      "  combined_df = combined_df.append(sample_df, ignore_index=True)\n",
      "C:\\Users\\Aneesh\\AppData\\Local\\Temp\\ipykernel_14956\\3604864273.py:21: FutureWarning: The frame.append method is deprecated and will be removed from pandas in a future version. Use pandas.concat instead.\n",
      "  combined_df = combined_df.append(sample_df, ignore_index=True)\n",
      "C:\\Users\\Aneesh\\AppData\\Local\\Temp\\ipykernel_14956\\3604864273.py:21: FutureWarning: The frame.append method is deprecated and will be removed from pandas in a future version. Use pandas.concat instead.\n",
      "  combined_df = combined_df.append(sample_df, ignore_index=True)\n",
      "C:\\Users\\Aneesh\\AppData\\Local\\Temp\\ipykernel_14956\\3604864273.py:21: FutureWarning: The frame.append method is deprecated and will be removed from pandas in a future version. Use pandas.concat instead.\n",
      "  combined_df = combined_df.append(sample_df, ignore_index=True)\n",
      "C:\\Users\\Aneesh\\AppData\\Local\\Temp\\ipykernel_14956\\3604864273.py:21: FutureWarning: The frame.append method is deprecated and will be removed from pandas in a future version. Use pandas.concat instead.\n",
      "  combined_df = combined_df.append(sample_df, ignore_index=True)\n",
      "C:\\Users\\Aneesh\\AppData\\Local\\Temp\\ipykernel_14956\\3604864273.py:21: FutureWarning: The frame.append method is deprecated and will be removed from pandas in a future version. Use pandas.concat instead.\n",
      "  combined_df = combined_df.append(sample_df, ignore_index=True)\n",
      "C:\\Users\\Aneesh\\AppData\\Local\\Temp\\ipykernel_14956\\3604864273.py:21: FutureWarning: The frame.append method is deprecated and will be removed from pandas in a future version. Use pandas.concat instead.\n",
      "  combined_df = combined_df.append(sample_df, ignore_index=True)\n",
      "C:\\Users\\Aneesh\\AppData\\Local\\Temp\\ipykernel_14956\\3604864273.py:21: FutureWarning: The frame.append method is deprecated and will be removed from pandas in a future version. Use pandas.concat instead.\n",
      "  combined_df = combined_df.append(sample_df, ignore_index=True)\n",
      "C:\\Users\\Aneesh\\AppData\\Local\\Temp\\ipykernel_14956\\3604864273.py:21: FutureWarning: The frame.append method is deprecated and will be removed from pandas in a future version. Use pandas.concat instead.\n",
      "  combined_df = combined_df.append(sample_df, ignore_index=True)\n",
      "C:\\Users\\Aneesh\\AppData\\Local\\Temp\\ipykernel_14956\\3604864273.py:21: FutureWarning: The frame.append method is deprecated and will be removed from pandas in a future version. Use pandas.concat instead.\n",
      "  combined_df = combined_df.append(sample_df, ignore_index=True)\n",
      "C:\\Users\\Aneesh\\AppData\\Local\\Temp\\ipykernel_14956\\3604864273.py:21: FutureWarning: The frame.append method is deprecated and will be removed from pandas in a future version. Use pandas.concat instead.\n",
      "  combined_df = combined_df.append(sample_df, ignore_index=True)\n",
      "C:\\Users\\Aneesh\\AppData\\Local\\Temp\\ipykernel_14956\\3604864273.py:21: FutureWarning: The frame.append method is deprecated and will be removed from pandas in a future version. Use pandas.concat instead.\n",
      "  combined_df = combined_df.append(sample_df, ignore_index=True)\n",
      "C:\\Users\\Aneesh\\AppData\\Local\\Temp\\ipykernel_14956\\3604864273.py:21: FutureWarning: The frame.append method is deprecated and will be removed from pandas in a future version. Use pandas.concat instead.\n",
      "  combined_df = combined_df.append(sample_df, ignore_index=True)\n",
      "C:\\Users\\Aneesh\\AppData\\Local\\Temp\\ipykernel_14956\\3604864273.py:21: FutureWarning: The frame.append method is deprecated and will be removed from pandas in a future version. Use pandas.concat instead.\n",
      "  combined_df = combined_df.append(sample_df, ignore_index=True)\n",
      "C:\\Users\\Aneesh\\AppData\\Local\\Temp\\ipykernel_14956\\3604864273.py:21: FutureWarning: The frame.append method is deprecated and will be removed from pandas in a future version. Use pandas.concat instead.\n",
      "  combined_df = combined_df.append(sample_df, ignore_index=True)\n",
      "C:\\Users\\Aneesh\\AppData\\Local\\Temp\\ipykernel_14956\\3604864273.py:21: FutureWarning: The frame.append method is deprecated and will be removed from pandas in a future version. Use pandas.concat instead.\n",
      "  combined_df = combined_df.append(sample_df, ignore_index=True)\n",
      "C:\\Users\\Aneesh\\AppData\\Local\\Temp\\ipykernel_14956\\3604864273.py:21: FutureWarning: The frame.append method is deprecated and will be removed from pandas in a future version. Use pandas.concat instead.\n",
      "  combined_df = combined_df.append(sample_df, ignore_index=True)\n",
      "C:\\Users\\Aneesh\\AppData\\Local\\Temp\\ipykernel_14956\\3604864273.py:21: FutureWarning: The frame.append method is deprecated and will be removed from pandas in a future version. Use pandas.concat instead.\n",
      "  combined_df = combined_df.append(sample_df, ignore_index=True)\n",
      "C:\\Users\\Aneesh\\AppData\\Local\\Temp\\ipykernel_14956\\3604864273.py:21: FutureWarning: The frame.append method is deprecated and will be removed from pandas in a future version. Use pandas.concat instead.\n",
      "  combined_df = combined_df.append(sample_df, ignore_index=True)\n",
      "C:\\Users\\Aneesh\\AppData\\Local\\Temp\\ipykernel_14956\\3604864273.py:21: FutureWarning: The frame.append method is deprecated and will be removed from pandas in a future version. Use pandas.concat instead.\n",
      "  combined_df = combined_df.append(sample_df, ignore_index=True)\n",
      "C:\\Users\\Aneesh\\AppData\\Local\\Temp\\ipykernel_14956\\3604864273.py:21: FutureWarning: The frame.append method is deprecated and will be removed from pandas in a future version. Use pandas.concat instead.\n",
      "  combined_df = combined_df.append(sample_df, ignore_index=True)\n",
      "C:\\Users\\Aneesh\\AppData\\Local\\Temp\\ipykernel_14956\\3604864273.py:21: FutureWarning: The frame.append method is deprecated and will be removed from pandas in a future version. Use pandas.concat instead.\n",
      "  combined_df = combined_df.append(sample_df, ignore_index=True)\n",
      "C:\\Users\\Aneesh\\AppData\\Local\\Temp\\ipykernel_14956\\3604864273.py:21: FutureWarning: The frame.append method is deprecated and will be removed from pandas in a future version. Use pandas.concat instead.\n",
      "  combined_df = combined_df.append(sample_df, ignore_index=True)\n",
      "C:\\Users\\Aneesh\\AppData\\Local\\Temp\\ipykernel_14956\\3604864273.py:21: FutureWarning: The frame.append method is deprecated and will be removed from pandas in a future version. Use pandas.concat instead.\n",
      "  combined_df = combined_df.append(sample_df, ignore_index=True)\n",
      "C:\\Users\\Aneesh\\AppData\\Local\\Temp\\ipykernel_14956\\3604864273.py:21: FutureWarning: The frame.append method is deprecated and will be removed from pandas in a future version. Use pandas.concat instead.\n",
      "  combined_df = combined_df.append(sample_df, ignore_index=True)\n",
      "C:\\Users\\Aneesh\\AppData\\Local\\Temp\\ipykernel_14956\\3604864273.py:21: FutureWarning: The frame.append method is deprecated and will be removed from pandas in a future version. Use pandas.concat instead.\n",
      "  combined_df = combined_df.append(sample_df, ignore_index=True)\n",
      "C:\\Users\\Aneesh\\AppData\\Local\\Temp\\ipykernel_14956\\3604864273.py:21: FutureWarning: The frame.append method is deprecated and will be removed from pandas in a future version. Use pandas.concat instead.\n",
      "  combined_df = combined_df.append(sample_df, ignore_index=True)\n",
      "C:\\Users\\Aneesh\\AppData\\Local\\Temp\\ipykernel_14956\\3604864273.py:21: FutureWarning: The frame.append method is deprecated and will be removed from pandas in a future version. Use pandas.concat instead.\n",
      "  combined_df = combined_df.append(sample_df, ignore_index=True)\n",
      "C:\\Users\\Aneesh\\AppData\\Local\\Temp\\ipykernel_14956\\3604864273.py:21: FutureWarning: The frame.append method is deprecated and will be removed from pandas in a future version. Use pandas.concat instead.\n",
      "  combined_df = combined_df.append(sample_df, ignore_index=True)\n",
      "C:\\Users\\Aneesh\\AppData\\Local\\Temp\\ipykernel_14956\\3604864273.py:21: FutureWarning: The frame.append method is deprecated and will be removed from pandas in a future version. Use pandas.concat instead.\n",
      "  combined_df = combined_df.append(sample_df, ignore_index=True)\n",
      "C:\\Users\\Aneesh\\AppData\\Local\\Temp\\ipykernel_14956\\3604864273.py:21: FutureWarning: The frame.append method is deprecated and will be removed from pandas in a future version. Use pandas.concat instead.\n",
      "  combined_df = combined_df.append(sample_df, ignore_index=True)\n",
      "C:\\Users\\Aneesh\\AppData\\Local\\Temp\\ipykernel_14956\\3604864273.py:21: FutureWarning: The frame.append method is deprecated and will be removed from pandas in a future version. Use pandas.concat instead.\n",
      "  combined_df = combined_df.append(sample_df, ignore_index=True)\n",
      "C:\\Users\\Aneesh\\AppData\\Local\\Temp\\ipykernel_14956\\3604864273.py:21: FutureWarning: The frame.append method is deprecated and will be removed from pandas in a future version. Use pandas.concat instead.\n",
      "  combined_df = combined_df.append(sample_df, ignore_index=True)\n",
      "C:\\Users\\Aneesh\\AppData\\Local\\Temp\\ipykernel_14956\\3604864273.py:21: FutureWarning: The frame.append method is deprecated and will be removed from pandas in a future version. Use pandas.concat instead.\n",
      "  combined_df = combined_df.append(sample_df, ignore_index=True)\n",
      "C:\\Users\\Aneesh\\AppData\\Local\\Temp\\ipykernel_14956\\3604864273.py:21: FutureWarning: The frame.append method is deprecated and will be removed from pandas in a future version. Use pandas.concat instead.\n",
      "  combined_df = combined_df.append(sample_df, ignore_index=True)\n",
      "C:\\Users\\Aneesh\\AppData\\Local\\Temp\\ipykernel_14956\\3604864273.py:21: FutureWarning: The frame.append method is deprecated and will be removed from pandas in a future version. Use pandas.concat instead.\n",
      "  combined_df = combined_df.append(sample_df, ignore_index=True)\n",
      "C:\\Users\\Aneesh\\AppData\\Local\\Temp\\ipykernel_14956\\3604864273.py:21: FutureWarning: The frame.append method is deprecated and will be removed from pandas in a future version. Use pandas.concat instead.\n",
      "  combined_df = combined_df.append(sample_df, ignore_index=True)\n",
      "C:\\Users\\Aneesh\\AppData\\Local\\Temp\\ipykernel_14956\\3604864273.py:21: FutureWarning: The frame.append method is deprecated and will be removed from pandas in a future version. Use pandas.concat instead.\n",
      "  combined_df = combined_df.append(sample_df, ignore_index=True)\n",
      "C:\\Users\\Aneesh\\AppData\\Local\\Temp\\ipykernel_14956\\3604864273.py:21: FutureWarning: The frame.append method is deprecated and will be removed from pandas in a future version. Use pandas.concat instead.\n",
      "  combined_df = combined_df.append(sample_df, ignore_index=True)\n",
      "C:\\Users\\Aneesh\\AppData\\Local\\Temp\\ipykernel_14956\\3604864273.py:21: FutureWarning: The frame.append method is deprecated and will be removed from pandas in a future version. Use pandas.concat instead.\n",
      "  combined_df = combined_df.append(sample_df, ignore_index=True)\n",
      "C:\\Users\\Aneesh\\AppData\\Local\\Temp\\ipykernel_14956\\3604864273.py:21: FutureWarning: The frame.append method is deprecated and will be removed from pandas in a future version. Use pandas.concat instead.\n",
      "  combined_df = combined_df.append(sample_df, ignore_index=True)\n",
      "C:\\Users\\Aneesh\\AppData\\Local\\Temp\\ipykernel_14956\\3604864273.py:21: FutureWarning: The frame.append method is deprecated and will be removed from pandas in a future version. Use pandas.concat instead.\n",
      "  combined_df = combined_df.append(sample_df, ignore_index=True)\n",
      "C:\\Users\\Aneesh\\AppData\\Local\\Temp\\ipykernel_14956\\3604864273.py:21: FutureWarning: The frame.append method is deprecated and will be removed from pandas in a future version. Use pandas.concat instead.\n",
      "  combined_df = combined_df.append(sample_df, ignore_index=True)\n",
      "C:\\Users\\Aneesh\\AppData\\Local\\Temp\\ipykernel_14956\\3604864273.py:21: FutureWarning: The frame.append method is deprecated and will be removed from pandas in a future version. Use pandas.concat instead.\n",
      "  combined_df = combined_df.append(sample_df, ignore_index=True)\n",
      "C:\\Users\\Aneesh\\AppData\\Local\\Temp\\ipykernel_14956\\3604864273.py:21: FutureWarning: The frame.append method is deprecated and will be removed from pandas in a future version. Use pandas.concat instead.\n",
      "  combined_df = combined_df.append(sample_df, ignore_index=True)\n",
      "C:\\Users\\Aneesh\\AppData\\Local\\Temp\\ipykernel_14956\\3604864273.py:21: FutureWarning: The frame.append method is deprecated and will be removed from pandas in a future version. Use pandas.concat instead.\n",
      "  combined_df = combined_df.append(sample_df, ignore_index=True)\n",
      "C:\\Users\\Aneesh\\AppData\\Local\\Temp\\ipykernel_14956\\3604864273.py:21: FutureWarning: The frame.append method is deprecated and will be removed from pandas in a future version. Use pandas.concat instead.\n",
      "  combined_df = combined_df.append(sample_df, ignore_index=True)\n",
      "C:\\Users\\Aneesh\\AppData\\Local\\Temp\\ipykernel_14956\\3604864273.py:21: FutureWarning: The frame.append method is deprecated and will be removed from pandas in a future version. Use pandas.concat instead.\n",
      "  combined_df = combined_df.append(sample_df, ignore_index=True)\n",
      "C:\\Users\\Aneesh\\AppData\\Local\\Temp\\ipykernel_14956\\3604864273.py:21: FutureWarning: The frame.append method is deprecated and will be removed from pandas in a future version. Use pandas.concat instead.\n",
      "  combined_df = combined_df.append(sample_df, ignore_index=True)\n",
      "C:\\Users\\Aneesh\\AppData\\Local\\Temp\\ipykernel_14956\\3604864273.py:21: FutureWarning: The frame.append method is deprecated and will be removed from pandas in a future version. Use pandas.concat instead.\n",
      "  combined_df = combined_df.append(sample_df, ignore_index=True)\n",
      "C:\\Users\\Aneesh\\AppData\\Local\\Temp\\ipykernel_14956\\3604864273.py:21: FutureWarning: The frame.append method is deprecated and will be removed from pandas in a future version. Use pandas.concat instead.\n",
      "  combined_df = combined_df.append(sample_df, ignore_index=True)\n",
      "C:\\Users\\Aneesh\\AppData\\Local\\Temp\\ipykernel_14956\\3604864273.py:21: FutureWarning: The frame.append method is deprecated and will be removed from pandas in a future version. Use pandas.concat instead.\n",
      "  combined_df = combined_df.append(sample_df, ignore_index=True)\n",
      "C:\\Users\\Aneesh\\AppData\\Local\\Temp\\ipykernel_14956\\3604864273.py:21: FutureWarning: The frame.append method is deprecated and will be removed from pandas in a future version. Use pandas.concat instead.\n",
      "  combined_df = combined_df.append(sample_df, ignore_index=True)\n",
      "C:\\Users\\Aneesh\\AppData\\Local\\Temp\\ipykernel_14956\\3604864273.py:21: FutureWarning: The frame.append method is deprecated and will be removed from pandas in a future version. Use pandas.concat instead.\n",
      "  combined_df = combined_df.append(sample_df, ignore_index=True)\n",
      "C:\\Users\\Aneesh\\AppData\\Local\\Temp\\ipykernel_14956\\3604864273.py:21: FutureWarning: The frame.append method is deprecated and will be removed from pandas in a future version. Use pandas.concat instead.\n",
      "  combined_df = combined_df.append(sample_df, ignore_index=True)\n",
      "C:\\Users\\Aneesh\\AppData\\Local\\Temp\\ipykernel_14956\\3604864273.py:21: FutureWarning: The frame.append method is deprecated and will be removed from pandas in a future version. Use pandas.concat instead.\n",
      "  combined_df = combined_df.append(sample_df, ignore_index=True)\n",
      "C:\\Users\\Aneesh\\AppData\\Local\\Temp\\ipykernel_14956\\3604864273.py:21: FutureWarning: The frame.append method is deprecated and will be removed from pandas in a future version. Use pandas.concat instead.\n",
      "  combined_df = combined_df.append(sample_df, ignore_index=True)\n",
      "C:\\Users\\Aneesh\\AppData\\Local\\Temp\\ipykernel_14956\\3604864273.py:21: FutureWarning: The frame.append method is deprecated and will be removed from pandas in a future version. Use pandas.concat instead.\n",
      "  combined_df = combined_df.append(sample_df, ignore_index=True)\n",
      "C:\\Users\\Aneesh\\AppData\\Local\\Temp\\ipykernel_14956\\3604864273.py:21: FutureWarning: The frame.append method is deprecated and will be removed from pandas in a future version. Use pandas.concat instead.\n",
      "  combined_df = combined_df.append(sample_df, ignore_index=True)\n",
      "C:\\Users\\Aneesh\\AppData\\Local\\Temp\\ipykernel_14956\\3604864273.py:21: FutureWarning: The frame.append method is deprecated and will be removed from pandas in a future version. Use pandas.concat instead.\n",
      "  combined_df = combined_df.append(sample_df, ignore_index=True)\n",
      "C:\\Users\\Aneesh\\AppData\\Local\\Temp\\ipykernel_14956\\3604864273.py:21: FutureWarning: The frame.append method is deprecated and will be removed from pandas in a future version. Use pandas.concat instead.\n",
      "  combined_df = combined_df.append(sample_df, ignore_index=True)\n",
      "C:\\Users\\Aneesh\\AppData\\Local\\Temp\\ipykernel_14956\\3604864273.py:21: FutureWarning: The frame.append method is deprecated and will be removed from pandas in a future version. Use pandas.concat instead.\n",
      "  combined_df = combined_df.append(sample_df, ignore_index=True)\n",
      "C:\\Users\\Aneesh\\AppData\\Local\\Temp\\ipykernel_14956\\3604864273.py:21: FutureWarning: The frame.append method is deprecated and will be removed from pandas in a future version. Use pandas.concat instead.\n",
      "  combined_df = combined_df.append(sample_df, ignore_index=True)\n",
      "C:\\Users\\Aneesh\\AppData\\Local\\Temp\\ipykernel_14956\\3604864273.py:21: FutureWarning: The frame.append method is deprecated and will be removed from pandas in a future version. Use pandas.concat instead.\n",
      "  combined_df = combined_df.append(sample_df, ignore_index=True)\n",
      "C:\\Users\\Aneesh\\AppData\\Local\\Temp\\ipykernel_14956\\3604864273.py:21: FutureWarning: The frame.append method is deprecated and will be removed from pandas in a future version. Use pandas.concat instead.\n",
      "  combined_df = combined_df.append(sample_df, ignore_index=True)\n",
      "C:\\Users\\Aneesh\\AppData\\Local\\Temp\\ipykernel_14956\\3604864273.py:21: FutureWarning: The frame.append method is deprecated and will be removed from pandas in a future version. Use pandas.concat instead.\n",
      "  combined_df = combined_df.append(sample_df, ignore_index=True)\n",
      "C:\\Users\\Aneesh\\AppData\\Local\\Temp\\ipykernel_14956\\3604864273.py:21: FutureWarning: The frame.append method is deprecated and will be removed from pandas in a future version. Use pandas.concat instead.\n",
      "  combined_df = combined_df.append(sample_df, ignore_index=True)\n",
      "C:\\Users\\Aneesh\\AppData\\Local\\Temp\\ipykernel_14956\\3604864273.py:21: FutureWarning: The frame.append method is deprecated and will be removed from pandas in a future version. Use pandas.concat instead.\n",
      "  combined_df = combined_df.append(sample_df, ignore_index=True)\n",
      "C:\\Users\\Aneesh\\AppData\\Local\\Temp\\ipykernel_14956\\3604864273.py:21: FutureWarning: The frame.append method is deprecated and will be removed from pandas in a future version. Use pandas.concat instead.\n",
      "  combined_df = combined_df.append(sample_df, ignore_index=True)\n",
      "C:\\Users\\Aneesh\\AppData\\Local\\Temp\\ipykernel_14956\\3604864273.py:21: FutureWarning: The frame.append method is deprecated and will be removed from pandas in a future version. Use pandas.concat instead.\n",
      "  combined_df = combined_df.append(sample_df, ignore_index=True)\n",
      "C:\\Users\\Aneesh\\AppData\\Local\\Temp\\ipykernel_14956\\3604864273.py:21: FutureWarning: The frame.append method is deprecated and will be removed from pandas in a future version. Use pandas.concat instead.\n",
      "  combined_df = combined_df.append(sample_df, ignore_index=True)\n",
      "C:\\Users\\Aneesh\\AppData\\Local\\Temp\\ipykernel_14956\\3604864273.py:21: FutureWarning: The frame.append method is deprecated and will be removed from pandas in a future version. Use pandas.concat instead.\n",
      "  combined_df = combined_df.append(sample_df, ignore_index=True)\n",
      "C:\\Users\\Aneesh\\AppData\\Local\\Temp\\ipykernel_14956\\3604864273.py:21: FutureWarning: The frame.append method is deprecated and will be removed from pandas in a future version. Use pandas.concat instead.\n",
      "  combined_df = combined_df.append(sample_df, ignore_index=True)\n",
      "C:\\Users\\Aneesh\\AppData\\Local\\Temp\\ipykernel_14956\\3604864273.py:21: FutureWarning: The frame.append method is deprecated and will be removed from pandas in a future version. Use pandas.concat instead.\n",
      "  combined_df = combined_df.append(sample_df, ignore_index=True)\n",
      "C:\\Users\\Aneesh\\AppData\\Local\\Temp\\ipykernel_14956\\3604864273.py:21: FutureWarning: The frame.append method is deprecated and will be removed from pandas in a future version. Use pandas.concat instead.\n",
      "  combined_df = combined_df.append(sample_df, ignore_index=True)\n",
      "C:\\Users\\Aneesh\\AppData\\Local\\Temp\\ipykernel_14956\\3604864273.py:21: FutureWarning: The frame.append method is deprecated and will be removed from pandas in a future version. Use pandas.concat instead.\n",
      "  combined_df = combined_df.append(sample_df, ignore_index=True)\n",
      "C:\\Users\\Aneesh\\AppData\\Local\\Temp\\ipykernel_14956\\3604864273.py:21: FutureWarning: The frame.append method is deprecated and will be removed from pandas in a future version. Use pandas.concat instead.\n",
      "  combined_df = combined_df.append(sample_df, ignore_index=True)\n",
      "C:\\Users\\Aneesh\\AppData\\Local\\Temp\\ipykernel_14956\\3604864273.py:21: FutureWarning: The frame.append method is deprecated and will be removed from pandas in a future version. Use pandas.concat instead.\n",
      "  combined_df = combined_df.append(sample_df, ignore_index=True)\n",
      "C:\\Users\\Aneesh\\AppData\\Local\\Temp\\ipykernel_14956\\3604864273.py:21: FutureWarning: The frame.append method is deprecated and will be removed from pandas in a future version. Use pandas.concat instead.\n",
      "  combined_df = combined_df.append(sample_df, ignore_index=True)\n",
      "C:\\Users\\Aneesh\\AppData\\Local\\Temp\\ipykernel_14956\\3604864273.py:21: FutureWarning: The frame.append method is deprecated and will be removed from pandas in a future version. Use pandas.concat instead.\n",
      "  combined_df = combined_df.append(sample_df, ignore_index=True)\n",
      "C:\\Users\\Aneesh\\AppData\\Local\\Temp\\ipykernel_14956\\3604864273.py:21: FutureWarning: The frame.append method is deprecated and will be removed from pandas in a future version. Use pandas.concat instead.\n",
      "  combined_df = combined_df.append(sample_df, ignore_index=True)\n",
      "C:\\Users\\Aneesh\\AppData\\Local\\Temp\\ipykernel_14956\\3604864273.py:21: FutureWarning: The frame.append method is deprecated and will be removed from pandas in a future version. Use pandas.concat instead.\n",
      "  combined_df = combined_df.append(sample_df, ignore_index=True)\n",
      "C:\\Users\\Aneesh\\AppData\\Local\\Temp\\ipykernel_14956\\3604864273.py:21: FutureWarning: The frame.append method is deprecated and will be removed from pandas in a future version. Use pandas.concat instead.\n",
      "  combined_df = combined_df.append(sample_df, ignore_index=True)\n",
      "C:\\Users\\Aneesh\\AppData\\Local\\Temp\\ipykernel_14956\\3604864273.py:21: FutureWarning: The frame.append method is deprecated and will be removed from pandas in a future version. Use pandas.concat instead.\n",
      "  combined_df = combined_df.append(sample_df, ignore_index=True)\n",
      "C:\\Users\\Aneesh\\AppData\\Local\\Temp\\ipykernel_14956\\3604864273.py:21: FutureWarning: The frame.append method is deprecated and will be removed from pandas in a future version. Use pandas.concat instead.\n",
      "  combined_df = combined_df.append(sample_df, ignore_index=True)\n",
      "C:\\Users\\Aneesh\\AppData\\Local\\Temp\\ipykernel_14956\\3604864273.py:21: FutureWarning: The frame.append method is deprecated and will be removed from pandas in a future version. Use pandas.concat instead.\n",
      "  combined_df = combined_df.append(sample_df, ignore_index=True)\n",
      "C:\\Users\\Aneesh\\AppData\\Local\\Temp\\ipykernel_14956\\3604864273.py:21: FutureWarning: The frame.append method is deprecated and will be removed from pandas in a future version. Use pandas.concat instead.\n",
      "  combined_df = combined_df.append(sample_df, ignore_index=True)\n",
      "C:\\Users\\Aneesh\\AppData\\Local\\Temp\\ipykernel_14956\\3604864273.py:21: FutureWarning: The frame.append method is deprecated and will be removed from pandas in a future version. Use pandas.concat instead.\n",
      "  combined_df = combined_df.append(sample_df, ignore_index=True)\n",
      "C:\\Users\\Aneesh\\AppData\\Local\\Temp\\ipykernel_14956\\3604864273.py:21: FutureWarning: The frame.append method is deprecated and will be removed from pandas in a future version. Use pandas.concat instead.\n",
      "  combined_df = combined_df.append(sample_df, ignore_index=True)\n",
      "C:\\Users\\Aneesh\\AppData\\Local\\Temp\\ipykernel_14956\\3604864273.py:21: FutureWarning: The frame.append method is deprecated and will be removed from pandas in a future version. Use pandas.concat instead.\n",
      "  combined_df = combined_df.append(sample_df, ignore_index=True)\n",
      "C:\\Users\\Aneesh\\AppData\\Local\\Temp\\ipykernel_14956\\3604864273.py:21: FutureWarning: The frame.append method is deprecated and will be removed from pandas in a future version. Use pandas.concat instead.\n",
      "  combined_df = combined_df.append(sample_df, ignore_index=True)\n",
      "C:\\Users\\Aneesh\\AppData\\Local\\Temp\\ipykernel_14956\\3604864273.py:21: FutureWarning: The frame.append method is deprecated and will be removed from pandas in a future version. Use pandas.concat instead.\n",
      "  combined_df = combined_df.append(sample_df, ignore_index=True)\n",
      "C:\\Users\\Aneesh\\AppData\\Local\\Temp\\ipykernel_14956\\3604864273.py:21: FutureWarning: The frame.append method is deprecated and will be removed from pandas in a future version. Use pandas.concat instead.\n",
      "  combined_df = combined_df.append(sample_df, ignore_index=True)\n",
      "C:\\Users\\Aneesh\\AppData\\Local\\Temp\\ipykernel_14956\\3604864273.py:21: FutureWarning: The frame.append method is deprecated and will be removed from pandas in a future version. Use pandas.concat instead.\n",
      "  combined_df = combined_df.append(sample_df, ignore_index=True)\n",
      "C:\\Users\\Aneesh\\AppData\\Local\\Temp\\ipykernel_14956\\3604864273.py:21: FutureWarning: The frame.append method is deprecated and will be removed from pandas in a future version. Use pandas.concat instead.\n",
      "  combined_df = combined_df.append(sample_df, ignore_index=True)\n",
      "C:\\Users\\Aneesh\\AppData\\Local\\Temp\\ipykernel_14956\\3604864273.py:21: FutureWarning: The frame.append method is deprecated and will be removed from pandas in a future version. Use pandas.concat instead.\n",
      "  combined_df = combined_df.append(sample_df, ignore_index=True)\n",
      "C:\\Users\\Aneesh\\AppData\\Local\\Temp\\ipykernel_14956\\3604864273.py:21: FutureWarning: The frame.append method is deprecated and will be removed from pandas in a future version. Use pandas.concat instead.\n",
      "  combined_df = combined_df.append(sample_df, ignore_index=True)\n",
      "C:\\Users\\Aneesh\\AppData\\Local\\Temp\\ipykernel_14956\\3604864273.py:21: FutureWarning: The frame.append method is deprecated and will be removed from pandas in a future version. Use pandas.concat instead.\n",
      "  combined_df = combined_df.append(sample_df, ignore_index=True)\n",
      "C:\\Users\\Aneesh\\AppData\\Local\\Temp\\ipykernel_14956\\3604864273.py:21: FutureWarning: The frame.append method is deprecated and will be removed from pandas in a future version. Use pandas.concat instead.\n",
      "  combined_df = combined_df.append(sample_df, ignore_index=True)\n",
      "C:\\Users\\Aneesh\\AppData\\Local\\Temp\\ipykernel_14956\\3604864273.py:21: FutureWarning: The frame.append method is deprecated and will be removed from pandas in a future version. Use pandas.concat instead.\n",
      "  combined_df = combined_df.append(sample_df, ignore_index=True)\n",
      "C:\\Users\\Aneesh\\AppData\\Local\\Temp\\ipykernel_14956\\3604864273.py:21: FutureWarning: The frame.append method is deprecated and will be removed from pandas in a future version. Use pandas.concat instead.\n",
      "  combined_df = combined_df.append(sample_df, ignore_index=True)\n",
      "C:\\Users\\Aneesh\\AppData\\Local\\Temp\\ipykernel_14956\\3604864273.py:21: FutureWarning: The frame.append method is deprecated and will be removed from pandas in a future version. Use pandas.concat instead.\n",
      "  combined_df = combined_df.append(sample_df, ignore_index=True)\n",
      "C:\\Users\\Aneesh\\AppData\\Local\\Temp\\ipykernel_14956\\3604864273.py:21: FutureWarning: The frame.append method is deprecated and will be removed from pandas in a future version. Use pandas.concat instead.\n",
      "  combined_df = combined_df.append(sample_df, ignore_index=True)\n",
      "C:\\Users\\Aneesh\\AppData\\Local\\Temp\\ipykernel_14956\\3604864273.py:21: FutureWarning: The frame.append method is deprecated and will be removed from pandas in a future version. Use pandas.concat instead.\n",
      "  combined_df = combined_df.append(sample_df, ignore_index=True)\n",
      "C:\\Users\\Aneesh\\AppData\\Local\\Temp\\ipykernel_14956\\3604864273.py:21: FutureWarning: The frame.append method is deprecated and will be removed from pandas in a future version. Use pandas.concat instead.\n",
      "  combined_df = combined_df.append(sample_df, ignore_index=True)\n",
      "C:\\Users\\Aneesh\\AppData\\Local\\Temp\\ipykernel_14956\\3604864273.py:21: FutureWarning: The frame.append method is deprecated and will be removed from pandas in a future version. Use pandas.concat instead.\n",
      "  combined_df = combined_df.append(sample_df, ignore_index=True)\n",
      "C:\\Users\\Aneesh\\AppData\\Local\\Temp\\ipykernel_14956\\3604864273.py:21: FutureWarning: The frame.append method is deprecated and will be removed from pandas in a future version. Use pandas.concat instead.\n",
      "  combined_df = combined_df.append(sample_df, ignore_index=True)\n",
      "C:\\Users\\Aneesh\\AppData\\Local\\Temp\\ipykernel_14956\\3604864273.py:21: FutureWarning: The frame.append method is deprecated and will be removed from pandas in a future version. Use pandas.concat instead.\n",
      "  combined_df = combined_df.append(sample_df, ignore_index=True)\n",
      "C:\\Users\\Aneesh\\AppData\\Local\\Temp\\ipykernel_14956\\3604864273.py:21: FutureWarning: The frame.append method is deprecated and will be removed from pandas in a future version. Use pandas.concat instead.\n",
      "  combined_df = combined_df.append(sample_df, ignore_index=True)\n",
      "C:\\Users\\Aneesh\\AppData\\Local\\Temp\\ipykernel_14956\\3604864273.py:21: FutureWarning: The frame.append method is deprecated and will be removed from pandas in a future version. Use pandas.concat instead.\n",
      "  combined_df = combined_df.append(sample_df, ignore_index=True)\n",
      "C:\\Users\\Aneesh\\AppData\\Local\\Temp\\ipykernel_14956\\3604864273.py:21: FutureWarning: The frame.append method is deprecated and will be removed from pandas in a future version. Use pandas.concat instead.\n",
      "  combined_df = combined_df.append(sample_df, ignore_index=True)\n",
      "C:\\Users\\Aneesh\\AppData\\Local\\Temp\\ipykernel_14956\\3604864273.py:21: FutureWarning: The frame.append method is deprecated and will be removed from pandas in a future version. Use pandas.concat instead.\n",
      "  combined_df = combined_df.append(sample_df, ignore_index=True)\n",
      "C:\\Users\\Aneesh\\AppData\\Local\\Temp\\ipykernel_14956\\3604864273.py:21: FutureWarning: The frame.append method is deprecated and will be removed from pandas in a future version. Use pandas.concat instead.\n",
      "  combined_df = combined_df.append(sample_df, ignore_index=True)\n",
      "C:\\Users\\Aneesh\\AppData\\Local\\Temp\\ipykernel_14956\\3604864273.py:21: FutureWarning: The frame.append method is deprecated and will be removed from pandas in a future version. Use pandas.concat instead.\n",
      "  combined_df = combined_df.append(sample_df, ignore_index=True)\n",
      "C:\\Users\\Aneesh\\AppData\\Local\\Temp\\ipykernel_14956\\3604864273.py:21: FutureWarning: The frame.append method is deprecated and will be removed from pandas in a future version. Use pandas.concat instead.\n",
      "  combined_df = combined_df.append(sample_df, ignore_index=True)\n",
      "C:\\Users\\Aneesh\\AppData\\Local\\Temp\\ipykernel_14956\\3604864273.py:21: FutureWarning: The frame.append method is deprecated and will be removed from pandas in a future version. Use pandas.concat instead.\n",
      "  combined_df = combined_df.append(sample_df, ignore_index=True)\n",
      "C:\\Users\\Aneesh\\AppData\\Local\\Temp\\ipykernel_14956\\3604864273.py:21: FutureWarning: The frame.append method is deprecated and will be removed from pandas in a future version. Use pandas.concat instead.\n",
      "  combined_df = combined_df.append(sample_df, ignore_index=True)\n",
      "C:\\Users\\Aneesh\\AppData\\Local\\Temp\\ipykernel_14956\\3604864273.py:21: FutureWarning: The frame.append method is deprecated and will be removed from pandas in a future version. Use pandas.concat instead.\n",
      "  combined_df = combined_df.append(sample_df, ignore_index=True)\n",
      "C:\\Users\\Aneesh\\AppData\\Local\\Temp\\ipykernel_14956\\3604864273.py:21: FutureWarning: The frame.append method is deprecated and will be removed from pandas in a future version. Use pandas.concat instead.\n",
      "  combined_df = combined_df.append(sample_df, ignore_index=True)\n",
      "C:\\Users\\Aneesh\\AppData\\Local\\Temp\\ipykernel_14956\\3604864273.py:21: FutureWarning: The frame.append method is deprecated and will be removed from pandas in a future version. Use pandas.concat instead.\n",
      "  combined_df = combined_df.append(sample_df, ignore_index=True)\n",
      "C:\\Users\\Aneesh\\AppData\\Local\\Temp\\ipykernel_14956\\3604864273.py:21: FutureWarning: The frame.append method is deprecated and will be removed from pandas in a future version. Use pandas.concat instead.\n",
      "  combined_df = combined_df.append(sample_df, ignore_index=True)\n",
      "C:\\Users\\Aneesh\\AppData\\Local\\Temp\\ipykernel_14956\\3604864273.py:21: FutureWarning: The frame.append method is deprecated and will be removed from pandas in a future version. Use pandas.concat instead.\n",
      "  combined_df = combined_df.append(sample_df, ignore_index=True)\n",
      "C:\\Users\\Aneesh\\AppData\\Local\\Temp\\ipykernel_14956\\3604864273.py:21: FutureWarning: The frame.append method is deprecated and will be removed from pandas in a future version. Use pandas.concat instead.\n",
      "  combined_df = combined_df.append(sample_df, ignore_index=True)\n",
      "C:\\Users\\Aneesh\\AppData\\Local\\Temp\\ipykernel_14956\\3604864273.py:21: FutureWarning: The frame.append method is deprecated and will be removed from pandas in a future version. Use pandas.concat instead.\n",
      "  combined_df = combined_df.append(sample_df, ignore_index=True)\n",
      "C:\\Users\\Aneesh\\AppData\\Local\\Temp\\ipykernel_14956\\3604864273.py:21: FutureWarning: The frame.append method is deprecated and will be removed from pandas in a future version. Use pandas.concat instead.\n",
      "  combined_df = combined_df.append(sample_df, ignore_index=True)\n",
      "C:\\Users\\Aneesh\\AppData\\Local\\Temp\\ipykernel_14956\\3604864273.py:21: FutureWarning: The frame.append method is deprecated and will be removed from pandas in a future version. Use pandas.concat instead.\n",
      "  combined_df = combined_df.append(sample_df, ignore_index=True)\n",
      "C:\\Users\\Aneesh\\AppData\\Local\\Temp\\ipykernel_14956\\3604864273.py:21: FutureWarning: The frame.append method is deprecated and will be removed from pandas in a future version. Use pandas.concat instead.\n",
      "  combined_df = combined_df.append(sample_df, ignore_index=True)\n",
      "C:\\Users\\Aneesh\\AppData\\Local\\Temp\\ipykernel_14956\\3604864273.py:21: FutureWarning: The frame.append method is deprecated and will be removed from pandas in a future version. Use pandas.concat instead.\n",
      "  combined_df = combined_df.append(sample_df, ignore_index=True)\n",
      "C:\\Users\\Aneesh\\AppData\\Local\\Temp\\ipykernel_14956\\3604864273.py:21: FutureWarning: The frame.append method is deprecated and will be removed from pandas in a future version. Use pandas.concat instead.\n",
      "  combined_df = combined_df.append(sample_df, ignore_index=True)\n",
      "C:\\Users\\Aneesh\\AppData\\Local\\Temp\\ipykernel_14956\\3604864273.py:21: FutureWarning: The frame.append method is deprecated and will be removed from pandas in a future version. Use pandas.concat instead.\n",
      "  combined_df = combined_df.append(sample_df, ignore_index=True)\n",
      "C:\\Users\\Aneesh\\AppData\\Local\\Temp\\ipykernel_14956\\3604864273.py:21: FutureWarning: The frame.append method is deprecated and will be removed from pandas in a future version. Use pandas.concat instead.\n",
      "  combined_df = combined_df.append(sample_df, ignore_index=True)\n",
      "C:\\Users\\Aneesh\\AppData\\Local\\Temp\\ipykernel_14956\\3604864273.py:21: FutureWarning: The frame.append method is deprecated and will be removed from pandas in a future version. Use pandas.concat instead.\n",
      "  combined_df = combined_df.append(sample_df, ignore_index=True)\n",
      "C:\\Users\\Aneesh\\AppData\\Local\\Temp\\ipykernel_14956\\3604864273.py:21: FutureWarning: The frame.append method is deprecated and will be removed from pandas in a future version. Use pandas.concat instead.\n",
      "  combined_df = combined_df.append(sample_df, ignore_index=True)\n",
      "C:\\Users\\Aneesh\\AppData\\Local\\Temp\\ipykernel_14956\\3604864273.py:21: FutureWarning: The frame.append method is deprecated and will be removed from pandas in a future version. Use pandas.concat instead.\n",
      "  combined_df = combined_df.append(sample_df, ignore_index=True)\n",
      "C:\\Users\\Aneesh\\AppData\\Local\\Temp\\ipykernel_14956\\3604864273.py:21: FutureWarning: The frame.append method is deprecated and will be removed from pandas in a future version. Use pandas.concat instead.\n",
      "  combined_df = combined_df.append(sample_df, ignore_index=True)\n",
      "C:\\Users\\Aneesh\\AppData\\Local\\Temp\\ipykernel_14956\\3604864273.py:21: FutureWarning: The frame.append method is deprecated and will be removed from pandas in a future version. Use pandas.concat instead.\n",
      "  combined_df = combined_df.append(sample_df, ignore_index=True)\n",
      "C:\\Users\\Aneesh\\AppData\\Local\\Temp\\ipykernel_14956\\3604864273.py:21: FutureWarning: The frame.append method is deprecated and will be removed from pandas in a future version. Use pandas.concat instead.\n",
      "  combined_df = combined_df.append(sample_df, ignore_index=True)\n",
      "C:\\Users\\Aneesh\\AppData\\Local\\Temp\\ipykernel_14956\\3604864273.py:21: FutureWarning: The frame.append method is deprecated and will be removed from pandas in a future version. Use pandas.concat instead.\n",
      "  combined_df = combined_df.append(sample_df, ignore_index=True)\n",
      "C:\\Users\\Aneesh\\AppData\\Local\\Temp\\ipykernel_14956\\3604864273.py:21: FutureWarning: The frame.append method is deprecated and will be removed from pandas in a future version. Use pandas.concat instead.\n",
      "  combined_df = combined_df.append(sample_df, ignore_index=True)\n",
      "C:\\Users\\Aneesh\\AppData\\Local\\Temp\\ipykernel_14956\\3604864273.py:21: FutureWarning: The frame.append method is deprecated and will be removed from pandas in a future version. Use pandas.concat instead.\n",
      "  combined_df = combined_df.append(sample_df, ignore_index=True)\n",
      "C:\\Users\\Aneesh\\AppData\\Local\\Temp\\ipykernel_14956\\3604864273.py:21: FutureWarning: The frame.append method is deprecated and will be removed from pandas in a future version. Use pandas.concat instead.\n",
      "  combined_df = combined_df.append(sample_df, ignore_index=True)\n",
      "C:\\Users\\Aneesh\\AppData\\Local\\Temp\\ipykernel_14956\\3604864273.py:21: FutureWarning: The frame.append method is deprecated and will be removed from pandas in a future version. Use pandas.concat instead.\n",
      "  combined_df = combined_df.append(sample_df, ignore_index=True)\n",
      "C:\\Users\\Aneesh\\AppData\\Local\\Temp\\ipykernel_14956\\3604864273.py:21: FutureWarning: The frame.append method is deprecated and will be removed from pandas in a future version. Use pandas.concat instead.\n",
      "  combined_df = combined_df.append(sample_df, ignore_index=True)\n",
      "C:\\Users\\Aneesh\\AppData\\Local\\Temp\\ipykernel_14956\\3604864273.py:21: FutureWarning: The frame.append method is deprecated and will be removed from pandas in a future version. Use pandas.concat instead.\n",
      "  combined_df = combined_df.append(sample_df, ignore_index=True)\n",
      "C:\\Users\\Aneesh\\AppData\\Local\\Temp\\ipykernel_14956\\3604864273.py:21: FutureWarning: The frame.append method is deprecated and will be removed from pandas in a future version. Use pandas.concat instead.\n",
      "  combined_df = combined_df.append(sample_df, ignore_index=True)\n",
      "C:\\Users\\Aneesh\\AppData\\Local\\Temp\\ipykernel_14956\\3604864273.py:21: FutureWarning: The frame.append method is deprecated and will be removed from pandas in a future version. Use pandas.concat instead.\n",
      "  combined_df = combined_df.append(sample_df, ignore_index=True)\n",
      "C:\\Users\\Aneesh\\AppData\\Local\\Temp\\ipykernel_14956\\3604864273.py:21: FutureWarning: The frame.append method is deprecated and will be removed from pandas in a future version. Use pandas.concat instead.\n",
      "  combined_df = combined_df.append(sample_df, ignore_index=True)\n",
      "C:\\Users\\Aneesh\\AppData\\Local\\Temp\\ipykernel_14956\\3604864273.py:21: FutureWarning: The frame.append method is deprecated and will be removed from pandas in a future version. Use pandas.concat instead.\n",
      "  combined_df = combined_df.append(sample_df, ignore_index=True)\n",
      "C:\\Users\\Aneesh\\AppData\\Local\\Temp\\ipykernel_14956\\3604864273.py:21: FutureWarning: The frame.append method is deprecated and will be removed from pandas in a future version. Use pandas.concat instead.\n",
      "  combined_df = combined_df.append(sample_df, ignore_index=True)\n",
      "C:\\Users\\Aneesh\\AppData\\Local\\Temp\\ipykernel_14956\\3604864273.py:21: FutureWarning: The frame.append method is deprecated and will be removed from pandas in a future version. Use pandas.concat instead.\n",
      "  combined_df = combined_df.append(sample_df, ignore_index=True)\n",
      "C:\\Users\\Aneesh\\AppData\\Local\\Temp\\ipykernel_14956\\3604864273.py:21: FutureWarning: The frame.append method is deprecated and will be removed from pandas in a future version. Use pandas.concat instead.\n",
      "  combined_df = combined_df.append(sample_df, ignore_index=True)\n",
      "C:\\Users\\Aneesh\\AppData\\Local\\Temp\\ipykernel_14956\\3604864273.py:21: FutureWarning: The frame.append method is deprecated and will be removed from pandas in a future version. Use pandas.concat instead.\n",
      "  combined_df = combined_df.append(sample_df, ignore_index=True)\n",
      "C:\\Users\\Aneesh\\AppData\\Local\\Temp\\ipykernel_14956\\3604864273.py:21: FutureWarning: The frame.append method is deprecated and will be removed from pandas in a future version. Use pandas.concat instead.\n",
      "  combined_df = combined_df.append(sample_df, ignore_index=True)\n",
      "C:\\Users\\Aneesh\\AppData\\Local\\Temp\\ipykernel_14956\\3604864273.py:21: FutureWarning: The frame.append method is deprecated and will be removed from pandas in a future version. Use pandas.concat instead.\n",
      "  combined_df = combined_df.append(sample_df, ignore_index=True)\n",
      "C:\\Users\\Aneesh\\AppData\\Local\\Temp\\ipykernel_14956\\3604864273.py:21: FutureWarning: The frame.append method is deprecated and will be removed from pandas in a future version. Use pandas.concat instead.\n",
      "  combined_df = combined_df.append(sample_df, ignore_index=True)\n",
      "C:\\Users\\Aneesh\\AppData\\Local\\Temp\\ipykernel_14956\\3604864273.py:21: FutureWarning: The frame.append method is deprecated and will be removed from pandas in a future version. Use pandas.concat instead.\n",
      "  combined_df = combined_df.append(sample_df, ignore_index=True)\n"
     ]
    },
    {
     "ename": "ParserError",
     "evalue": "Error tokenizing data. C error: Calling read(nbytes) on source failed. Try engine='python'.",
     "output_type": "error",
     "traceback": [
      "\u001b[1;31m---------------------------------------------------------------------------\u001b[0m",
      "\u001b[1;31mParserError\u001b[0m                               Traceback (most recent call last)",
      "Cell \u001b[1;32mIn[10], line 16\u001b[0m\n\u001b[0;32m     14\u001b[0m file_path \u001b[39m=\u001b[39m os\u001b[39m.\u001b[39mpath\u001b[39m.\u001b[39mjoin(path, filename)\n\u001b[0;32m     15\u001b[0m \u001b[39m# Read the CSV file in chunks of 10,000 rows\u001b[39;00m\n\u001b[1;32m---> 16\u001b[0m \u001b[39mfor\u001b[39;00m chunk \u001b[39min\u001b[39;00m pd\u001b[39m.\u001b[39mread_csv(file_path, chunksize\u001b[39m=\u001b[39m\u001b[39m10000\u001b[39m):\n\u001b[0;32m     17\u001b[0m     \u001b[39mif\u001b[39;00m \u001b[39mlen\u001b[39m(chunk) \u001b[39m>\u001b[39m\u001b[39m=\u001b[39m \u001b[39m10000\u001b[39m:\n\u001b[0;32m     18\u001b[0m         \u001b[39m# Take a random sample of 10,000 rows from the chunk\u001b[39;00m\n\u001b[0;32m     19\u001b[0m         sample_df \u001b[39m=\u001b[39m chunk\u001b[39m.\u001b[39msample(n\u001b[39m=\u001b[39m\u001b[39m10000\u001b[39m)\n",
      "File \u001b[1;32mc:\\Users\\Aneesh\\.conda\\envs\\cyber\\lib\\site-packages\\pandas\\io\\parsers\\readers.py:1698\u001b[0m, in \u001b[0;36mTextFileReader.__next__\u001b[1;34m(self)\u001b[0m\n\u001b[0;32m   1696\u001b[0m \u001b[39mdef\u001b[39;00m \u001b[39m__next__\u001b[39m(\u001b[39mself\u001b[39m) \u001b[39m-\u001b[39m\u001b[39m>\u001b[39m DataFrame:\n\u001b[0;32m   1697\u001b[0m     \u001b[39mtry\u001b[39;00m:\n\u001b[1;32m-> 1698\u001b[0m         \u001b[39mreturn\u001b[39;00m \u001b[39mself\u001b[39;49m\u001b[39m.\u001b[39;49mget_chunk()\n\u001b[0;32m   1699\u001b[0m     \u001b[39mexcept\u001b[39;00m \u001b[39mStopIteration\u001b[39;00m:\n\u001b[0;32m   1700\u001b[0m         \u001b[39mself\u001b[39m\u001b[39m.\u001b[39mclose()\n",
      "File \u001b[1;32mc:\\Users\\Aneesh\\.conda\\envs\\cyber\\lib\\site-packages\\pandas\\io\\parsers\\readers.py:1810\u001b[0m, in \u001b[0;36mTextFileReader.get_chunk\u001b[1;34m(self, size)\u001b[0m\n\u001b[0;32m   1808\u001b[0m         \u001b[39mraise\u001b[39;00m \u001b[39mStopIteration\u001b[39;00m\n\u001b[0;32m   1809\u001b[0m     size \u001b[39m=\u001b[39m \u001b[39mmin\u001b[39m(size, \u001b[39mself\u001b[39m\u001b[39m.\u001b[39mnrows \u001b[39m-\u001b[39m \u001b[39mself\u001b[39m\u001b[39m.\u001b[39m_currow)\n\u001b[1;32m-> 1810\u001b[0m \u001b[39mreturn\u001b[39;00m \u001b[39mself\u001b[39;49m\u001b[39m.\u001b[39;49mread(nrows\u001b[39m=\u001b[39;49msize)\n",
      "File \u001b[1;32mc:\\Users\\Aneesh\\.conda\\envs\\cyber\\lib\\site-packages\\pandas\\io\\parsers\\readers.py:1778\u001b[0m, in \u001b[0;36mTextFileReader.read\u001b[1;34m(self, nrows)\u001b[0m\n\u001b[0;32m   1771\u001b[0m nrows \u001b[39m=\u001b[39m validate_integer(\u001b[39m\"\u001b[39m\u001b[39mnrows\u001b[39m\u001b[39m\"\u001b[39m, nrows)\n\u001b[0;32m   1772\u001b[0m \u001b[39mtry\u001b[39;00m:\n\u001b[0;32m   1773\u001b[0m     \u001b[39m# error: \"ParserBase\" has no attribute \"read\"\u001b[39;00m\n\u001b[0;32m   1774\u001b[0m     (\n\u001b[0;32m   1775\u001b[0m         index,\n\u001b[0;32m   1776\u001b[0m         columns,\n\u001b[0;32m   1777\u001b[0m         col_dict,\n\u001b[1;32m-> 1778\u001b[0m     ) \u001b[39m=\u001b[39m \u001b[39mself\u001b[39;49m\u001b[39m.\u001b[39;49m_engine\u001b[39m.\u001b[39;49mread(  \u001b[39m# type: ignore[attr-defined]\u001b[39;49;00m\n\u001b[0;32m   1779\u001b[0m         nrows\n\u001b[0;32m   1780\u001b[0m     )\n\u001b[0;32m   1781\u001b[0m \u001b[39mexcept\u001b[39;00m \u001b[39mException\u001b[39;00m:\n\u001b[0;32m   1782\u001b[0m     \u001b[39mself\u001b[39m\u001b[39m.\u001b[39mclose()\n",
      "File \u001b[1;32mc:\\Users\\Aneesh\\.conda\\envs\\cyber\\lib\\site-packages\\pandas\\io\\parsers\\c_parser_wrapper.py:230\u001b[0m, in \u001b[0;36mCParserWrapper.read\u001b[1;34m(self, nrows)\u001b[0m\n\u001b[0;32m    228\u001b[0m \u001b[39mtry\u001b[39;00m:\n\u001b[0;32m    229\u001b[0m     \u001b[39mif\u001b[39;00m \u001b[39mself\u001b[39m\u001b[39m.\u001b[39mlow_memory:\n\u001b[1;32m--> 230\u001b[0m         chunks \u001b[39m=\u001b[39m \u001b[39mself\u001b[39;49m\u001b[39m.\u001b[39;49m_reader\u001b[39m.\u001b[39;49mread_low_memory(nrows)\n\u001b[0;32m    231\u001b[0m         \u001b[39m# destructive to chunks\u001b[39;00m\n\u001b[0;32m    232\u001b[0m         data \u001b[39m=\u001b[39m _concatenate_chunks(chunks)\n",
      "File \u001b[1;32mc:\\Users\\Aneesh\\.conda\\envs\\cyber\\lib\\site-packages\\pandas\\_libs\\parsers.pyx:820\u001b[0m, in \u001b[0;36mpandas._libs.parsers.TextReader.read_low_memory\u001b[1;34m()\u001b[0m\n",
      "File \u001b[1;32mc:\\Users\\Aneesh\\.conda\\envs\\cyber\\lib\\site-packages\\pandas\\_libs\\parsers.pyx:866\u001b[0m, in \u001b[0;36mpandas._libs.parsers.TextReader._read_rows\u001b[1;34m()\u001b[0m\n",
      "File \u001b[1;32mc:\\Users\\Aneesh\\.conda\\envs\\cyber\\lib\\site-packages\\pandas\\_libs\\parsers.pyx:852\u001b[0m, in \u001b[0;36mpandas._libs.parsers.TextReader._tokenize_rows\u001b[1;34m()\u001b[0m\n",
      "File \u001b[1;32mc:\\Users\\Aneesh\\.conda\\envs\\cyber\\lib\\site-packages\\pandas\\_libs\\parsers.pyx:1973\u001b[0m, in \u001b[0;36mpandas._libs.parsers.raise_parser_error\u001b[1;34m()\u001b[0m\n",
      "\u001b[1;31mParserError\u001b[0m: Error tokenizing data. C error: Calling read(nbytes) on source failed. Try engine='python'."
     ]
    }
   ],
   "source": [
    "import pandas as pd\n",
    "import os\n",
    "import warnings\n",
    "warnings.filterwarnings('ignore')\n",
    "\n",
    "\n",
    "# Define the path to the directory containing the CSV files\n",
    "path = r\"D:\\Stuff\\CyberSec\\Datasets\\IDS2018_extract\"\n",
    "\n",
    "# Create an empty dataframe to store the combined samples\n",
    "combined_df = pd.DataFrame()\n",
    "\n",
    "# Loop through each CSV file in the directory\n",
    "for filename in os.listdir(path):\n",
    "    if filename.endswith('.csv'):\n",
    "        print(f\"Processing file: {filename}\")\n",
    "        file_path = os.path.join(path, filename)\n",
    "        # Read the CSV file in chunks of 10,000 rows\n",
    "        for chunk in pd.read_csv(file_path, chunksize=10000):\n",
    "            if len(chunk) >= 10000:\n",
    "                # Take a random sample of 10,000 rows from the chunk\n",
    "                sample_df = chunk.sample(n=10000)\n",
    "                # Append the sampled rows to the combined dataframe\n",
    "                combined_df = combined_df.append(sample_df, ignore_index=True)\n",
    "            else:\n",
    "                # If the chunk has fewer than 10,000 rows, append all rows to the combined dataframe\n",
    "                combined_df = combined_df.append(chunk, ignore_index=True)\n",
    "\n",
    "# Write the combined dataframe to a new CSV file\n",
    "combined_df.to_csv(r\"D:\\Stuff\\CyberSec\\Datasets\\IDS2018_extract\\sampled.csv\", index=False)\n"
   ]
  },
  {
   "cell_type": "code",
   "execution_count": 1,
   "metadata": {},
   "outputs": [
    {
     "name": "stdout",
     "output_type": "stream",
     "text": [
      "Processing file: bot.csv\n"
     ]
    },
    {
     "name": "stderr",
     "output_type": "stream",
     "text": [
      "2it [00:00,  4.50it/s]"
     ]
    },
    {
     "name": "stdout",
     "output_type": "stream",
     "text": [
      "Processing chunk 2..."
     ]
    },
    {
     "name": "stderr",
     "output_type": "stream",
     "text": [
      "3it [00:00,  4.90it/s]"
     ]
    },
    {
     "name": "stdout",
     "output_type": "stream",
     "text": [
      "Processing chunk 3..."
     ]
    },
    {
     "name": "stderr",
     "output_type": "stream",
     "text": [
      "4it [00:00,  4.39it/s]"
     ]
    },
    {
     "name": "stdout",
     "output_type": "stream",
     "text": [
      "Processing chunk 4..."
     ]
    },
    {
     "name": "stderr",
     "output_type": "stream",
     "text": [
      "5it [00:01,  4.01it/s]"
     ]
    },
    {
     "name": "stdout",
     "output_type": "stream",
     "text": [
      "Processing chunk 5..."
     ]
    },
    {
     "name": "stderr",
     "output_type": "stream",
     "text": [
      "6it [00:01,  3.94it/s]"
     ]
    },
    {
     "name": "stdout",
     "output_type": "stream",
     "text": [
      "Processing chunk 6..."
     ]
    },
    {
     "name": "stderr",
     "output_type": "stream",
     "text": [
      "7it [00:01,  3.90it/s]"
     ]
    },
    {
     "name": "stdout",
     "output_type": "stream",
     "text": [
      "Processing chunk 7..."
     ]
    },
    {
     "name": "stderr",
     "output_type": "stream",
     "text": [
      "8it [00:01,  4.17it/s]"
     ]
    },
    {
     "name": "stdout",
     "output_type": "stream",
     "text": [
      "Processing chunk 8..."
     ]
    },
    {
     "name": "stderr",
     "output_type": "stream",
     "text": [
      "9it [00:02,  4.30it/s]"
     ]
    },
    {
     "name": "stdout",
     "output_type": "stream",
     "text": [
      "Processing chunk 9..."
     ]
    },
    {
     "name": "stderr",
     "output_type": "stream",
     "text": [
      "10it [00:02,  4.03it/s]"
     ]
    },
    {
     "name": "stdout",
     "output_type": "stream",
     "text": [
      "Processing chunk 10..."
     ]
    },
    {
     "name": "stderr",
     "output_type": "stream",
     "text": [
      "11it [00:02,  3.82it/s]"
     ]
    },
    {
     "name": "stdout",
     "output_type": "stream",
     "text": [
      "Processing chunk 11..."
     ]
    },
    {
     "name": "stderr",
     "output_type": "stream",
     "text": [
      "12it [00:02,  4.02it/s]"
     ]
    },
    {
     "name": "stdout",
     "output_type": "stream",
     "text": [
      "Processing chunk 12..."
     ]
    },
    {
     "name": "stderr",
     "output_type": "stream",
     "text": [
      "13it [00:03,  3.79it/s]"
     ]
    },
    {
     "name": "stdout",
     "output_type": "stream",
     "text": [
      "Processing chunk 13..."
     ]
    },
    {
     "name": "stderr",
     "output_type": "stream",
     "text": [
      "14it [00:03,  3.76it/s]"
     ]
    },
    {
     "name": "stdout",
     "output_type": "stream",
     "text": [
      "Processing chunk 14..."
     ]
    },
    {
     "name": "stderr",
     "output_type": "stream",
     "text": [
      "15it [00:03,  3.68it/s]"
     ]
    },
    {
     "name": "stdout",
     "output_type": "stream",
     "text": [
      "Processing chunk 15..."
     ]
    },
    {
     "name": "stderr",
     "output_type": "stream",
     "text": [
      "16it [00:04,  3.35it/s]"
     ]
    },
    {
     "name": "stdout",
     "output_type": "stream",
     "text": [
      "Processing chunk 16..."
     ]
    },
    {
     "name": "stderr",
     "output_type": "stream",
     "text": [
      "17it [00:04,  3.53it/s]"
     ]
    },
    {
     "name": "stdout",
     "output_type": "stream",
     "text": [
      "Processing chunk 17..."
     ]
    },
    {
     "name": "stderr",
     "output_type": "stream",
     "text": [
      "18it [00:04,  3.45it/s]"
     ]
    },
    {
     "name": "stdout",
     "output_type": "stream",
     "text": [
      "Processing chunk 18..."
     ]
    },
    {
     "name": "stderr",
     "output_type": "stream",
     "text": [
      "19it [00:04,  3.66it/s]"
     ]
    },
    {
     "name": "stdout",
     "output_type": "stream",
     "text": [
      "Processing chunk 19..."
     ]
    },
    {
     "name": "stderr",
     "output_type": "stream",
     "text": [
      "20it [00:05,  3.81it/s]"
     ]
    },
    {
     "name": "stdout",
     "output_type": "stream",
     "text": [
      "Processing chunk 20..."
     ]
    },
    {
     "name": "stderr",
     "output_type": "stream",
     "text": [
      "21it [00:05,  3.71it/s]"
     ]
    },
    {
     "name": "stdout",
     "output_type": "stream",
     "text": [
      "Processing chunk 21..."
     ]
    },
    {
     "name": "stderr",
     "output_type": "stream",
     "text": [
      "22it [00:05,  3.83it/s]"
     ]
    },
    {
     "name": "stdout",
     "output_type": "stream",
     "text": [
      "Processing chunk 22..."
     ]
    },
    {
     "name": "stderr",
     "output_type": "stream",
     "text": [
      "23it [00:05,  3.67it/s]"
     ]
    },
    {
     "name": "stdout",
     "output_type": "stream",
     "text": [
      "Processing chunk 23..."
     ]
    },
    {
     "name": "stderr",
     "output_type": "stream",
     "text": [
      "24it [00:06,  3.75it/s]"
     ]
    },
    {
     "name": "stdout",
     "output_type": "stream",
     "text": [
      "Processing chunk 24..."
     ]
    },
    {
     "name": "stderr",
     "output_type": "stream",
     "text": [
      "25it [00:06,  3.93it/s]"
     ]
    },
    {
     "name": "stdout",
     "output_type": "stream",
     "text": [
      "Processing chunk 25..."
     ]
    },
    {
     "name": "stderr",
     "output_type": "stream",
     "text": [
      "26it [00:06,  4.02it/s]"
     ]
    },
    {
     "name": "stdout",
     "output_type": "stream",
     "text": [
      "Processing chunk 26..."
     ]
    },
    {
     "name": "stderr",
     "output_type": "stream",
     "text": [
      "27it [00:06,  4.12it/s]"
     ]
    },
    {
     "name": "stdout",
     "output_type": "stream",
     "text": [
      "Processing chunk 27..."
     ]
    },
    {
     "name": "stderr",
     "output_type": "stream",
     "text": [
      "28it [00:07,  3.93it/s]"
     ]
    },
    {
     "name": "stdout",
     "output_type": "stream",
     "text": [
      "Processing chunk 28..."
     ]
    },
    {
     "name": "stderr",
     "output_type": "stream",
     "text": [
      "29it [00:07,  3.89it/s]\n"
     ]
    },
    {
     "name": "stdout",
     "output_type": "stream",
     "text": [
      "Processing chunk 29...Processing file: bruteforce.csv\n"
     ]
    },
    {
     "name": "stderr",
     "output_type": "stream",
     "text": [
      "1it [00:00,  4.26it/s]"
     ]
    },
    {
     "name": "stdout",
     "output_type": "stream",
     "text": [
      "Processing chunk 1..."
     ]
    },
    {
     "name": "stderr",
     "output_type": "stream",
     "text": [
      "2it [00:00,  4.36it/s]"
     ]
    },
    {
     "name": "stdout",
     "output_type": "stream",
     "text": [
      "Processing chunk 2..."
     ]
    },
    {
     "name": "stderr",
     "output_type": "stream",
     "text": [
      "3it [00:00,  4.31it/s]"
     ]
    },
    {
     "name": "stdout",
     "output_type": "stream",
     "text": [
      "Processing chunk 3..."
     ]
    },
    {
     "name": "stderr",
     "output_type": "stream",
     "text": [
      "4it [00:00,  4.07it/s]"
     ]
    },
    {
     "name": "stdout",
     "output_type": "stream",
     "text": [
      "Processing chunk 4..."
     ]
    },
    {
     "name": "stderr",
     "output_type": "stream",
     "text": [
      "5it [00:01,  3.78it/s]"
     ]
    },
    {
     "name": "stdout",
     "output_type": "stream",
     "text": [
      "Processing chunk 5..."
     ]
    },
    {
     "name": "stderr",
     "output_type": "stream",
     "text": [
      "6it [00:01,  3.69it/s]"
     ]
    },
    {
     "name": "stdout",
     "output_type": "stream",
     "text": [
      "Processing chunk 6..."
     ]
    },
    {
     "name": "stderr",
     "output_type": "stream",
     "text": [
      "7it [00:01,  3.80it/s]"
     ]
    },
    {
     "name": "stdout",
     "output_type": "stream",
     "text": [
      "Processing chunk 7..."
     ]
    },
    {
     "name": "stderr",
     "output_type": "stream",
     "text": [
      "8it [00:02,  3.89it/s]"
     ]
    },
    {
     "name": "stdout",
     "output_type": "stream",
     "text": [
      "Processing chunk 8..."
     ]
    },
    {
     "name": "stderr",
     "output_type": "stream",
     "text": [
      "9it [00:02,  3.93it/s]"
     ]
    },
    {
     "name": "stdout",
     "output_type": "stream",
     "text": [
      "Processing chunk 9..."
     ]
    },
    {
     "name": "stderr",
     "output_type": "stream",
     "text": [
      "10it [00:02,  3.98it/s]"
     ]
    },
    {
     "name": "stdout",
     "output_type": "stream",
     "text": [
      "Processing chunk 10..."
     ]
    },
    {
     "name": "stderr",
     "output_type": "stream",
     "text": [
      "11it [00:02,  4.05it/s]"
     ]
    },
    {
     "name": "stdout",
     "output_type": "stream",
     "text": [
      "Processing chunk 11..."
     ]
    },
    {
     "name": "stderr",
     "output_type": "stream",
     "text": [
      "12it [00:03,  4.09it/s]"
     ]
    },
    {
     "name": "stdout",
     "output_type": "stream",
     "text": [
      "Processing chunk 12..."
     ]
    },
    {
     "name": "stderr",
     "output_type": "stream",
     "text": [
      "13it [00:03,  3.86it/s]"
     ]
    },
    {
     "name": "stdout",
     "output_type": "stream",
     "text": [
      "Processing chunk 13..."
     ]
    },
    {
     "name": "stderr",
     "output_type": "stream",
     "text": [
      "14it [00:03,  3.87it/s]"
     ]
    },
    {
     "name": "stdout",
     "output_type": "stream",
     "text": [
      "Processing chunk 14..."
     ]
    },
    {
     "name": "stderr",
     "output_type": "stream",
     "text": [
      "15it [00:03,  3.89it/s]"
     ]
    },
    {
     "name": "stdout",
     "output_type": "stream",
     "text": [
      "Processing chunk 15..."
     ]
    },
    {
     "name": "stderr",
     "output_type": "stream",
     "text": [
      "16it [00:04,  3.92it/s]"
     ]
    },
    {
     "name": "stdout",
     "output_type": "stream",
     "text": [
      "Processing chunk 16..."
     ]
    },
    {
     "name": "stderr",
     "output_type": "stream",
     "text": [
      "17it [00:04,  3.80it/s]"
     ]
    },
    {
     "name": "stdout",
     "output_type": "stream",
     "text": [
      "Processing chunk 17..."
     ]
    },
    {
     "name": "stderr",
     "output_type": "stream",
     "text": [
      "18it [00:04,  3.76it/s]"
     ]
    },
    {
     "name": "stdout",
     "output_type": "stream",
     "text": [
      "Processing chunk 18..."
     ]
    },
    {
     "name": "stderr",
     "output_type": "stream",
     "text": [
      "19it [00:04,  3.73it/s]"
     ]
    },
    {
     "name": "stdout",
     "output_type": "stream",
     "text": [
      "Processing chunk 19..."
     ]
    },
    {
     "name": "stderr",
     "output_type": "stream",
     "text": [
      "20it [00:05,  3.58it/s]"
     ]
    },
    {
     "name": "stdout",
     "output_type": "stream",
     "text": [
      "Processing chunk 20..."
     ]
    },
    {
     "name": "stderr",
     "output_type": "stream",
     "text": [
      "21it [00:05,  3.63it/s]"
     ]
    },
    {
     "name": "stdout",
     "output_type": "stream",
     "text": [
      "Processing chunk 21..."
     ]
    },
    {
     "name": "stderr",
     "output_type": "stream",
     "text": [
      "22it [00:05,  3.63it/s]"
     ]
    },
    {
     "name": "stdout",
     "output_type": "stream",
     "text": [
      "Processing chunk 22..."
     ]
    },
    {
     "name": "stderr",
     "output_type": "stream",
     "text": [
      "23it [00:06,  3.20it/s]"
     ]
    },
    {
     "name": "stdout",
     "output_type": "stream",
     "text": [
      "Processing chunk 23..."
     ]
    },
    {
     "name": "stderr",
     "output_type": "stream",
     "text": [
      "24it [00:06,  3.15it/s]"
     ]
    },
    {
     "name": "stdout",
     "output_type": "stream",
     "text": [
      "Processing chunk 24..."
     ]
    },
    {
     "name": "stderr",
     "output_type": "stream",
     "text": [
      "25it [00:06,  3.07it/s]"
     ]
    },
    {
     "name": "stdout",
     "output_type": "stream",
     "text": [
      "Processing chunk 25..."
     ]
    },
    {
     "name": "stderr",
     "output_type": "stream",
     "text": [
      "26it [00:07,  3.08it/s]"
     ]
    },
    {
     "name": "stdout",
     "output_type": "stream",
     "text": [
      "Processing chunk 26..."
     ]
    },
    {
     "name": "stderr",
     "output_type": "stream",
     "text": [
      "27it [00:07,  2.93it/s]"
     ]
    },
    {
     "name": "stdout",
     "output_type": "stream",
     "text": [
      "Processing chunk 27..."
     ]
    },
    {
     "name": "stderr",
     "output_type": "stream",
     "text": [
      "28it [00:07,  2.93it/s]"
     ]
    },
    {
     "name": "stdout",
     "output_type": "stream",
     "text": [
      "Processing chunk 28..."
     ]
    },
    {
     "name": "stderr",
     "output_type": "stream",
     "text": [
      "29it [00:08,  2.91it/s]"
     ]
    },
    {
     "name": "stdout",
     "output_type": "stream",
     "text": [
      "Processing chunk 29..."
     ]
    },
    {
     "name": "stderr",
     "output_type": "stream",
     "text": [
      "30it [00:08,  2.92it/s]"
     ]
    },
    {
     "name": "stdout",
     "output_type": "stream",
     "text": [
      "Processing chunk 30..."
     ]
    },
    {
     "name": "stderr",
     "output_type": "stream",
     "text": [
      "31it [00:08,  3.06it/s]"
     ]
    },
    {
     "name": "stdout",
     "output_type": "stream",
     "text": [
      "Processing chunk 31..."
     ]
    },
    {
     "name": "stderr",
     "output_type": "stream",
     "text": [
      "32it [00:09,  3.18it/s]"
     ]
    },
    {
     "name": "stdout",
     "output_type": "stream",
     "text": [
      "Processing chunk 32..."
     ]
    },
    {
     "name": "stderr",
     "output_type": "stream",
     "text": [
      "33it [00:09,  3.00it/s]"
     ]
    },
    {
     "name": "stdout",
     "output_type": "stream",
     "text": [
      "Processing chunk 33..."
     ]
    },
    {
     "name": "stderr",
     "output_type": "stream",
     "text": [
      "34it [00:09,  2.78it/s]"
     ]
    },
    {
     "name": "stdout",
     "output_type": "stream",
     "text": [
      "Processing chunk 34..."
     ]
    },
    {
     "name": "stderr",
     "output_type": "stream",
     "text": [
      "35it [00:10,  2.89it/s]"
     ]
    },
    {
     "name": "stdout",
     "output_type": "stream",
     "text": [
      "Processing chunk 35..."
     ]
    },
    {
     "name": "stderr",
     "output_type": "stream",
     "text": [
      "36it [00:10,  2.94it/s]"
     ]
    },
    {
     "name": "stdout",
     "output_type": "stream",
     "text": [
      "Processing chunk 36..."
     ]
    },
    {
     "name": "stderr",
     "output_type": "stream",
     "text": [
      "37it [00:10,  3.02it/s]"
     ]
    },
    {
     "name": "stdout",
     "output_type": "stream",
     "text": [
      "Processing chunk 37..."
     ]
    },
    {
     "name": "stderr",
     "output_type": "stream",
     "text": [
      "38it [00:11,  3.13it/s]"
     ]
    },
    {
     "name": "stdout",
     "output_type": "stream",
     "text": [
      "Processing chunk 38..."
     ]
    },
    {
     "name": "stderr",
     "output_type": "stream",
     "text": [
      "39it [00:11,  3.41it/s]\n"
     ]
    },
    {
     "name": "stdout",
     "output_type": "stream",
     "text": [
      "Processing chunk 39...Processing file: ddos2.csv\n"
     ]
    },
    {
     "name": "stderr",
     "output_type": "stream",
     "text": [
      "1it [00:00,  1.62it/s]"
     ]
    },
    {
     "name": "stdout",
     "output_type": "stream",
     "text": [
      "Processing chunk 1..."
     ]
    },
    {
     "name": "stderr",
     "output_type": "stream",
     "text": [
      "2it [00:01,  1.71it/s]"
     ]
    },
    {
     "name": "stdout",
     "output_type": "stream",
     "text": [
      "Processing chunk 2..."
     ]
    },
    {
     "name": "stderr",
     "output_type": "stream",
     "text": [
      "3it [00:01,  1.90it/s]"
     ]
    },
    {
     "name": "stdout",
     "output_type": "stream",
     "text": [
      "Processing chunk 3..."
     ]
    },
    {
     "name": "stderr",
     "output_type": "stream",
     "text": [
      "4it [00:02,  1.92it/s]"
     ]
    },
    {
     "name": "stdout",
     "output_type": "stream",
     "text": [
      "Processing chunk 4..."
     ]
    },
    {
     "name": "stderr",
     "output_type": "stream",
     "text": [
      "5it [00:02,  1.98it/s]"
     ]
    },
    {
     "name": "stdout",
     "output_type": "stream",
     "text": [
      "Processing chunk 5..."
     ]
    },
    {
     "name": "stderr",
     "output_type": "stream",
     "text": [
      "6it [00:03,  1.97it/s]"
     ]
    },
    {
     "name": "stdout",
     "output_type": "stream",
     "text": [
      "Processing chunk 6..."
     ]
    },
    {
     "name": "stderr",
     "output_type": "stream",
     "text": [
      "7it [00:03,  2.00it/s]"
     ]
    },
    {
     "name": "stdout",
     "output_type": "stream",
     "text": [
      "Processing chunk 7..."
     ]
    },
    {
     "name": "stderr",
     "output_type": "stream",
     "text": [
      "8it [00:04,  1.95it/s]"
     ]
    },
    {
     "name": "stdout",
     "output_type": "stream",
     "text": [
      "Processing chunk 8..."
     ]
    },
    {
     "name": "stderr",
     "output_type": "stream",
     "text": [
      "9it [00:04,  2.00it/s]"
     ]
    },
    {
     "name": "stdout",
     "output_type": "stream",
     "text": [
      "Processing chunk 9..."
     ]
    },
    {
     "name": "stderr",
     "output_type": "stream",
     "text": [
      "10it [00:05,  1.99it/s]"
     ]
    },
    {
     "name": "stdout",
     "output_type": "stream",
     "text": [
      "Processing chunk 10..."
     ]
    },
    {
     "name": "stderr",
     "output_type": "stream",
     "text": [
      "11it [00:05,  1.99it/s]"
     ]
    },
    {
     "name": "stdout",
     "output_type": "stream",
     "text": [
      "Processing chunk 11..."
     ]
    },
    {
     "name": "stderr",
     "output_type": "stream",
     "text": [
      "12it [00:06,  1.97it/s]"
     ]
    },
    {
     "name": "stdout",
     "output_type": "stream",
     "text": [
      "Processing chunk 12..."
     ]
    },
    {
     "name": "stderr",
     "output_type": "stream",
     "text": [
      "13it [00:06,  1.98it/s]"
     ]
    },
    {
     "name": "stdout",
     "output_type": "stream",
     "text": [
      "Processing chunk 13..."
     ]
    },
    {
     "name": "stderr",
     "output_type": "stream",
     "text": [
      "14it [00:07,  1.96it/s]"
     ]
    },
    {
     "name": "stdout",
     "output_type": "stream",
     "text": [
      "Processing chunk 14..."
     ]
    },
    {
     "name": "stderr",
     "output_type": "stream",
     "text": [
      "15it [00:07,  1.99it/s]"
     ]
    },
    {
     "name": "stdout",
     "output_type": "stream",
     "text": [
      "Processing chunk 15..."
     ]
    },
    {
     "name": "stderr",
     "output_type": "stream",
     "text": [
      "16it [00:08,  1.95it/s]"
     ]
    },
    {
     "name": "stdout",
     "output_type": "stream",
     "text": [
      "Processing chunk 16..."
     ]
    },
    {
     "name": "stderr",
     "output_type": "stream",
     "text": [
      "17it [00:08,  1.96it/s]"
     ]
    },
    {
     "name": "stdout",
     "output_type": "stream",
     "text": [
      "Processing chunk 17..."
     ]
    },
    {
     "name": "stderr",
     "output_type": "stream",
     "text": [
      "18it [00:09,  1.92it/s]"
     ]
    },
    {
     "name": "stdout",
     "output_type": "stream",
     "text": [
      "Processing chunk 18..."
     ]
    },
    {
     "name": "stderr",
     "output_type": "stream",
     "text": [
      "19it [00:09,  1.92it/s]"
     ]
    },
    {
     "name": "stdout",
     "output_type": "stream",
     "text": [
      "Processing chunk 19..."
     ]
    },
    {
     "name": "stderr",
     "output_type": "stream",
     "text": [
      "20it [00:10,  1.90it/s]"
     ]
    },
    {
     "name": "stdout",
     "output_type": "stream",
     "text": [
      "Processing chunk 20..."
     ]
    },
    {
     "name": "stderr",
     "output_type": "stream",
     "text": [
      "21it [00:10,  1.89it/s]"
     ]
    },
    {
     "name": "stdout",
     "output_type": "stream",
     "text": [
      "Processing chunk 21..."
     ]
    },
    {
     "name": "stderr",
     "output_type": "stream",
     "text": [
      "22it [00:11,  1.76it/s]"
     ]
    },
    {
     "name": "stdout",
     "output_type": "stream",
     "text": [
      "Processing chunk 22..."
     ]
    },
    {
     "name": "stderr",
     "output_type": "stream",
     "text": [
      "23it [00:12,  1.74it/s]"
     ]
    },
    {
     "name": "stdout",
     "output_type": "stream",
     "text": [
      "Processing chunk 23..."
     ]
    },
    {
     "name": "stderr",
     "output_type": "stream",
     "text": [
      "24it [00:12,  1.67it/s]"
     ]
    },
    {
     "name": "stdout",
     "output_type": "stream",
     "text": [
      "Processing chunk 24..."
     ]
    },
    {
     "name": "stderr",
     "output_type": "stream",
     "text": [
      "25it [00:13,  1.63it/s]"
     ]
    },
    {
     "name": "stdout",
     "output_type": "stream",
     "text": [
      "Processing chunk 25..."
     ]
    },
    {
     "name": "stderr",
     "output_type": "stream",
     "text": [
      "26it [00:13,  1.71it/s]"
     ]
    },
    {
     "name": "stdout",
     "output_type": "stream",
     "text": [
      "Processing chunk 26..."
     ]
    },
    {
     "name": "stderr",
     "output_type": "stream",
     "text": [
      "27it [00:14,  1.68it/s]"
     ]
    },
    {
     "name": "stdout",
     "output_type": "stream",
     "text": [
      "Processing chunk 27..."
     ]
    },
    {
     "name": "stderr",
     "output_type": "stream",
     "text": [
      "28it [00:15,  1.73it/s]"
     ]
    },
    {
     "name": "stdout",
     "output_type": "stream",
     "text": [
      "Processing chunk 28..."
     ]
    },
    {
     "name": "stderr",
     "output_type": "stream",
     "text": [
      "29it [00:15,  1.68it/s]"
     ]
    },
    {
     "name": "stdout",
     "output_type": "stream",
     "text": [
      "Processing chunk 29..."
     ]
    },
    {
     "name": "stderr",
     "output_type": "stream",
     "text": [
      "30it [00:16,  1.71it/s]"
     ]
    },
    {
     "name": "stdout",
     "output_type": "stream",
     "text": [
      "Processing chunk 30..."
     ]
    },
    {
     "name": "stderr",
     "output_type": "stream",
     "text": [
      "31it [00:16,  1.74it/s]"
     ]
    },
    {
     "name": "stdout",
     "output_type": "stream",
     "text": [
      "Processing chunk 31..."
     ]
    },
    {
     "name": "stderr",
     "output_type": "stream",
     "text": [
      "32it [00:17,  1.76it/s]"
     ]
    },
    {
     "name": "stdout",
     "output_type": "stream",
     "text": [
      "Processing chunk 32..."
     ]
    },
    {
     "name": "stderr",
     "output_type": "stream",
     "text": [
      "33it [00:17,  1.77it/s]"
     ]
    },
    {
     "name": "stdout",
     "output_type": "stream",
     "text": [
      "Processing chunk 33..."
     ]
    },
    {
     "name": "stderr",
     "output_type": "stream",
     "text": [
      "34it [00:18,  1.76it/s]"
     ]
    },
    {
     "name": "stdout",
     "output_type": "stream",
     "text": [
      "Processing chunk 34..."
     ]
    },
    {
     "name": "stderr",
     "output_type": "stream",
     "text": [
      "35it [00:19,  1.79it/s]"
     ]
    },
    {
     "name": "stdout",
     "output_type": "stream",
     "text": [
      "Processing chunk 35..."
     ]
    },
    {
     "name": "stderr",
     "output_type": "stream",
     "text": [
      "36it [00:19,  1.72it/s]"
     ]
    },
    {
     "name": "stdout",
     "output_type": "stream",
     "text": [
      "Processing chunk 36..."
     ]
    },
    {
     "name": "stderr",
     "output_type": "stream",
     "text": [
      "37it [00:20,  1.73it/s]"
     ]
    },
    {
     "name": "stdout",
     "output_type": "stream",
     "text": [
      "Processing chunk 37..."
     ]
    },
    {
     "name": "stderr",
     "output_type": "stream",
     "text": [
      "38it [00:20,  1.67it/s]"
     ]
    },
    {
     "name": "stdout",
     "output_type": "stream",
     "text": [
      "Processing chunk 38..."
     ]
    },
    {
     "name": "stderr",
     "output_type": "stream",
     "text": [
      "39it [00:21,  1.69it/s]"
     ]
    },
    {
     "name": "stdout",
     "output_type": "stream",
     "text": [
      "Processing chunk 39..."
     ]
    },
    {
     "name": "stderr",
     "output_type": "stream",
     "text": [
      "40it [00:22,  1.69it/s]"
     ]
    },
    {
     "name": "stdout",
     "output_type": "stream",
     "text": [
      "Processing chunk 40..."
     ]
    },
    {
     "name": "stderr",
     "output_type": "stream",
     "text": [
      "41it [00:22,  1.66it/s]"
     ]
    },
    {
     "name": "stdout",
     "output_type": "stream",
     "text": [
      "Processing chunk 41..."
     ]
    },
    {
     "name": "stderr",
     "output_type": "stream",
     "text": [
      "42it [00:23,  1.68it/s]"
     ]
    },
    {
     "name": "stdout",
     "output_type": "stream",
     "text": [
      "Processing chunk 42..."
     ]
    },
    {
     "name": "stderr",
     "output_type": "stream",
     "text": [
      "43it [00:23,  1.60it/s]"
     ]
    },
    {
     "name": "stdout",
     "output_type": "stream",
     "text": [
      "Processing chunk 43..."
     ]
    },
    {
     "name": "stderr",
     "output_type": "stream",
     "text": [
      "44it [00:24,  1.54it/s]"
     ]
    },
    {
     "name": "stdout",
     "output_type": "stream",
     "text": [
      "Processing chunk 44..."
     ]
    },
    {
     "name": "stderr",
     "output_type": "stream",
     "text": [
      "45it [00:25,  1.58it/s]"
     ]
    },
    {
     "name": "stdout",
     "output_type": "stream",
     "text": [
      "Processing chunk 45..."
     ]
    },
    {
     "name": "stderr",
     "output_type": "stream",
     "text": [
      "46it [00:25,  1.54it/s]"
     ]
    },
    {
     "name": "stdout",
     "output_type": "stream",
     "text": [
      "Processing chunk 46..."
     ]
    },
    {
     "name": "stderr",
     "output_type": "stream",
     "text": [
      "47it [00:26,  1.59it/s]"
     ]
    },
    {
     "name": "stdout",
     "output_type": "stream",
     "text": [
      "Processing chunk 47..."
     ]
    },
    {
     "name": "stderr",
     "output_type": "stream",
     "text": [
      "48it [00:27,  1.58it/s]"
     ]
    },
    {
     "name": "stdout",
     "output_type": "stream",
     "text": [
      "Processing chunk 48..."
     ]
    },
    {
     "name": "stderr",
     "output_type": "stream",
     "text": [
      "49it [00:27,  1.57it/s]"
     ]
    },
    {
     "name": "stdout",
     "output_type": "stream",
     "text": [
      "Processing chunk 49..."
     ]
    },
    {
     "name": "stderr",
     "output_type": "stream",
     "text": [
      "50it [00:28,  1.60it/s]"
     ]
    },
    {
     "name": "stdout",
     "output_type": "stream",
     "text": [
      "Processing chunk 50..."
     ]
    },
    {
     "name": "stderr",
     "output_type": "stream",
     "text": [
      "51it [00:29,  1.54it/s]"
     ]
    },
    {
     "name": "stdout",
     "output_type": "stream",
     "text": [
      "Processing chunk 51..."
     ]
    },
    {
     "name": "stderr",
     "output_type": "stream",
     "text": [
      "52it [00:29,  1.55it/s]"
     ]
    },
    {
     "name": "stdout",
     "output_type": "stream",
     "text": [
      "Processing chunk 52..."
     ]
    },
    {
     "name": "stderr",
     "output_type": "stream",
     "text": [
      "53it [00:30,  1.57it/s]"
     ]
    },
    {
     "name": "stdout",
     "output_type": "stream",
     "text": [
      "Processing chunk 53..."
     ]
    },
    {
     "name": "stderr",
     "output_type": "stream",
     "text": [
      "54it [00:31,  1.54it/s]"
     ]
    },
    {
     "name": "stdout",
     "output_type": "stream",
     "text": [
      "Processing chunk 54..."
     ]
    },
    {
     "name": "stderr",
     "output_type": "stream",
     "text": [
      "55it [00:31,  1.57it/s]"
     ]
    },
    {
     "name": "stdout",
     "output_type": "stream",
     "text": [
      "Processing chunk 55..."
     ]
    },
    {
     "name": "stderr",
     "output_type": "stream",
     "text": [
      "56it [00:32,  1.56it/s]"
     ]
    },
    {
     "name": "stdout",
     "output_type": "stream",
     "text": [
      "Processing chunk 56..."
     ]
    },
    {
     "name": "stderr",
     "output_type": "stream",
     "text": [
      "57it [00:33,  1.53it/s]"
     ]
    },
    {
     "name": "stdout",
     "output_type": "stream",
     "text": [
      "Processing chunk 57..."
     ]
    },
    {
     "name": "stderr",
     "output_type": "stream",
     "text": [
      "58it [00:33,  1.56it/s]"
     ]
    },
    {
     "name": "stdout",
     "output_type": "stream",
     "text": [
      "Processing chunk 58..."
     ]
    },
    {
     "name": "stderr",
     "output_type": "stream",
     "text": [
      "59it [00:34,  1.48it/s]"
     ]
    },
    {
     "name": "stdout",
     "output_type": "stream",
     "text": [
      "Processing chunk 59..."
     ]
    },
    {
     "name": "stderr",
     "output_type": "stream",
     "text": [
      "60it [00:35,  1.46it/s]"
     ]
    },
    {
     "name": "stdout",
     "output_type": "stream",
     "text": [
      "Processing chunk 60..."
     ]
    },
    {
     "name": "stderr",
     "output_type": "stream",
     "text": [
      "61it [00:35,  1.49it/s]"
     ]
    },
    {
     "name": "stdout",
     "output_type": "stream",
     "text": [
      "Processing chunk 61..."
     ]
    },
    {
     "name": "stderr",
     "output_type": "stream",
     "text": [
      "62it [00:36,  1.46it/s]"
     ]
    },
    {
     "name": "stdout",
     "output_type": "stream",
     "text": [
      "Processing chunk 62..."
     ]
    },
    {
     "name": "stderr",
     "output_type": "stream",
     "text": [
      "63it [00:37,  1.42it/s]"
     ]
    },
    {
     "name": "stdout",
     "output_type": "stream",
     "text": [
      "Processing chunk 63..."
     ]
    },
    {
     "name": "stderr",
     "output_type": "stream",
     "text": [
      "64it [00:37,  1.45it/s]"
     ]
    },
    {
     "name": "stdout",
     "output_type": "stream",
     "text": [
      "Processing chunk 64..."
     ]
    },
    {
     "name": "stderr",
     "output_type": "stream",
     "text": [
      "65it [00:38,  1.47it/s]"
     ]
    },
    {
     "name": "stdout",
     "output_type": "stream",
     "text": [
      "Processing chunk 65..."
     ]
    },
    {
     "name": "stderr",
     "output_type": "stream",
     "text": [
      "66it [00:39,  1.45it/s]"
     ]
    },
    {
     "name": "stdout",
     "output_type": "stream",
     "text": [
      "Processing chunk 66..."
     ]
    },
    {
     "name": "stderr",
     "output_type": "stream",
     "text": [
      "67it [00:39,  1.46it/s]"
     ]
    },
    {
     "name": "stdout",
     "output_type": "stream",
     "text": [
      "Processing chunk 67..."
     ]
    },
    {
     "name": "stderr",
     "output_type": "stream",
     "text": [
      "68it [00:40,  1.46it/s]"
     ]
    },
    {
     "name": "stdout",
     "output_type": "stream",
     "text": [
      "Processing chunk 68..."
     ]
    },
    {
     "name": "stderr",
     "output_type": "stream",
     "text": [
      "69it [00:41,  1.41it/s]"
     ]
    },
    {
     "name": "stdout",
     "output_type": "stream",
     "text": [
      "Processing chunk 69..."
     ]
    },
    {
     "name": "stderr",
     "output_type": "stream",
     "text": [
      "70it [00:42,  1.40it/s]"
     ]
    },
    {
     "name": "stdout",
     "output_type": "stream",
     "text": [
      "Processing chunk 70..."
     ]
    },
    {
     "name": "stderr",
     "output_type": "stream",
     "text": [
      "71it [00:42,  1.40it/s]"
     ]
    },
    {
     "name": "stdout",
     "output_type": "stream",
     "text": [
      "Processing chunk 71..."
     ]
    },
    {
     "name": "stderr",
     "output_type": "stream",
     "text": [
      "72it [00:43,  1.40it/s]"
     ]
    },
    {
     "name": "stdout",
     "output_type": "stream",
     "text": [
      "Processing chunk 72..."
     ]
    },
    {
     "name": "stderr",
     "output_type": "stream",
     "text": [
      "73it [00:44,  1.39it/s]"
     ]
    },
    {
     "name": "stdout",
     "output_type": "stream",
     "text": [
      "Processing chunk 73..."
     ]
    },
    {
     "name": "stderr",
     "output_type": "stream",
     "text": [
      "74it [00:44,  1.42it/s]"
     ]
    },
    {
     "name": "stdout",
     "output_type": "stream",
     "text": [
      "Processing chunk 74..."
     ]
    },
    {
     "name": "stderr",
     "output_type": "stream",
     "text": [
      "75it [00:45,  1.38it/s]"
     ]
    },
    {
     "name": "stdout",
     "output_type": "stream",
     "text": [
      "Processing chunk 75..."
     ]
    },
    {
     "name": "stderr",
     "output_type": "stream",
     "text": [
      "76it [00:46,  1.38it/s]"
     ]
    },
    {
     "name": "stdout",
     "output_type": "stream",
     "text": [
      "Processing chunk 76..."
     ]
    },
    {
     "name": "stderr",
     "output_type": "stream",
     "text": [
      "77it [00:47,  1.40it/s]"
     ]
    },
    {
     "name": "stdout",
     "output_type": "stream",
     "text": [
      "Processing chunk 77..."
     ]
    },
    {
     "name": "stderr",
     "output_type": "stream",
     "text": [
      "78it [00:47,  1.41it/s]"
     ]
    },
    {
     "name": "stdout",
     "output_type": "stream",
     "text": [
      "Processing chunk 78..."
     ]
    },
    {
     "name": "stderr",
     "output_type": "stream",
     "text": [
      "79it [00:48,  1.38it/s]"
     ]
    },
    {
     "name": "stdout",
     "output_type": "stream",
     "text": [
      "Processing chunk 79..."
     ]
    },
    {
     "name": "stderr",
     "output_type": "stream",
     "text": [
      "80it [00:49,  1.36it/s]"
     ]
    },
    {
     "name": "stdout",
     "output_type": "stream",
     "text": [
      "Processing chunk 80..."
     ]
    },
    {
     "name": "stderr",
     "output_type": "stream",
     "text": [
      "81it [00:50,  1.37it/s]"
     ]
    },
    {
     "name": "stdout",
     "output_type": "stream",
     "text": [
      "Processing chunk 81..."
     ]
    },
    {
     "name": "stderr",
     "output_type": "stream",
     "text": [
      "82it [00:50,  1.32it/s]"
     ]
    },
    {
     "name": "stdout",
     "output_type": "stream",
     "text": [
      "Processing chunk 82..."
     ]
    },
    {
     "name": "stderr",
     "output_type": "stream",
     "text": [
      "83it [00:51,  1.35it/s]"
     ]
    },
    {
     "name": "stdout",
     "output_type": "stream",
     "text": [
      "Processing chunk 83..."
     ]
    },
    {
     "name": "stderr",
     "output_type": "stream",
     "text": [
      "84it [00:52,  1.32it/s]"
     ]
    },
    {
     "name": "stdout",
     "output_type": "stream",
     "text": [
      "Processing chunk 84..."
     ]
    },
    {
     "name": "stderr",
     "output_type": "stream",
     "text": [
      "85it [00:53,  1.32it/s]"
     ]
    },
    {
     "name": "stdout",
     "output_type": "stream",
     "text": [
      "Processing chunk 85..."
     ]
    },
    {
     "name": "stderr",
     "output_type": "stream",
     "text": [
      "86it [00:53,  1.33it/s]"
     ]
    },
    {
     "name": "stdout",
     "output_type": "stream",
     "text": [
      "Processing chunk 86..."
     ]
    },
    {
     "name": "stderr",
     "output_type": "stream",
     "text": [
      "87it [00:54,  1.31it/s]"
     ]
    },
    {
     "name": "stdout",
     "output_type": "stream",
     "text": [
      "Processing chunk 87..."
     ]
    },
    {
     "name": "stderr",
     "output_type": "stream",
     "text": [
      "88it [00:55,  1.31it/s]"
     ]
    },
    {
     "name": "stdout",
     "output_type": "stream",
     "text": [
      "Processing chunk 88..."
     ]
    },
    {
     "name": "stderr",
     "output_type": "stream",
     "text": [
      "89it [00:56,  1.33it/s]"
     ]
    },
    {
     "name": "stdout",
     "output_type": "stream",
     "text": [
      "Processing chunk 89..."
     ]
    },
    {
     "name": "stderr",
     "output_type": "stream",
     "text": [
      "90it [00:56,  1.29it/s]"
     ]
    },
    {
     "name": "stdout",
     "output_type": "stream",
     "text": [
      "Processing chunk 90..."
     ]
    },
    {
     "name": "stderr",
     "output_type": "stream",
     "text": [
      "91it [00:57,  1.27it/s]"
     ]
    },
    {
     "name": "stdout",
     "output_type": "stream",
     "text": [
      "Processing chunk 91..."
     ]
    },
    {
     "name": "stderr",
     "output_type": "stream",
     "text": [
      "92it [00:58,  1.29it/s]"
     ]
    },
    {
     "name": "stdout",
     "output_type": "stream",
     "text": [
      "Processing chunk 92..."
     ]
    },
    {
     "name": "stderr",
     "output_type": "stream",
     "text": [
      "93it [00:59,  1.25it/s]"
     ]
    },
    {
     "name": "stdout",
     "output_type": "stream",
     "text": [
      "Processing chunk 93..."
     ]
    },
    {
     "name": "stderr",
     "output_type": "stream",
     "text": [
      "94it [01:00,  1.29it/s]"
     ]
    },
    {
     "name": "stdout",
     "output_type": "stream",
     "text": [
      "Processing chunk 94..."
     ]
    },
    {
     "name": "stderr",
     "output_type": "stream",
     "text": [
      "95it [01:00,  1.26it/s]"
     ]
    },
    {
     "name": "stdout",
     "output_type": "stream",
     "text": [
      "Processing chunk 95..."
     ]
    },
    {
     "name": "stderr",
     "output_type": "stream",
     "text": [
      "96it [01:01,  1.25it/s]"
     ]
    },
    {
     "name": "stdout",
     "output_type": "stream",
     "text": [
      "Processing chunk 96..."
     ]
    },
    {
     "name": "stderr",
     "output_type": "stream",
     "text": [
      "97it [01:02,  1.25it/s]"
     ]
    },
    {
     "name": "stdout",
     "output_type": "stream",
     "text": [
      "Processing chunk 97..."
     ]
    },
    {
     "name": "stderr",
     "output_type": "stream",
     "text": [
      "98it [01:03,  1.24it/s]"
     ]
    },
    {
     "name": "stdout",
     "output_type": "stream",
     "text": [
      "Processing chunk 98..."
     ]
    },
    {
     "name": "stderr",
     "output_type": "stream",
     "text": [
      "99it [01:04,  1.26it/s]"
     ]
    },
    {
     "name": "stdout",
     "output_type": "stream",
     "text": [
      "Processing chunk 99..."
     ]
    },
    {
     "name": "stderr",
     "output_type": "stream",
     "text": [
      "100it [01:04,  1.23it/s]"
     ]
    },
    {
     "name": "stdout",
     "output_type": "stream",
     "text": [
      "Processing chunk 100..."
     ]
    },
    {
     "name": "stderr",
     "output_type": "stream",
     "text": [
      "101it [01:05,  1.23it/s]"
     ]
    },
    {
     "name": "stdout",
     "output_type": "stream",
     "text": [
      "Processing chunk 101..."
     ]
    },
    {
     "name": "stderr",
     "output_type": "stream",
     "text": [
      "102it [01:06,  1.22it/s]"
     ]
    },
    {
     "name": "stdout",
     "output_type": "stream",
     "text": [
      "Processing chunk 102..."
     ]
    },
    {
     "name": "stderr",
     "output_type": "stream",
     "text": [
      "103it [01:07,  1.21it/s]"
     ]
    },
    {
     "name": "stdout",
     "output_type": "stream",
     "text": [
      "Processing chunk 103..."
     ]
    },
    {
     "name": "stderr",
     "output_type": "stream",
     "text": [
      "104it [01:08,  1.24it/s]"
     ]
    },
    {
     "name": "stdout",
     "output_type": "stream",
     "text": [
      "Processing chunk 104..."
     ]
    },
    {
     "name": "stderr",
     "output_type": "stream",
     "text": [
      "105it [01:09,  1.52it/s]"
     ]
    },
    {
     "name": "stdout",
     "output_type": "stream",
     "text": [
      "Processing chunk 105...Processing file: dos.csv\n"
     ]
    },
    {
     "name": "stderr",
     "output_type": "stream",
     "text": [
      "\n",
      "1it [00:00,  1.12it/s]"
     ]
    },
    {
     "name": "stdout",
     "output_type": "stream",
     "text": [
      "Processing chunk 1..."
     ]
    },
    {
     "name": "stderr",
     "output_type": "stream",
     "text": [
      "2it [00:01,  1.14it/s]"
     ]
    },
    {
     "name": "stdout",
     "output_type": "stream",
     "text": [
      "Processing chunk 2..."
     ]
    },
    {
     "name": "stderr",
     "output_type": "stream",
     "text": [
      "3it [00:02,  1.16it/s]"
     ]
    },
    {
     "name": "stdout",
     "output_type": "stream",
     "text": [
      "Processing chunk 3..."
     ]
    },
    {
     "name": "stderr",
     "output_type": "stream",
     "text": [
      "4it [00:03,  1.15it/s]"
     ]
    },
    {
     "name": "stdout",
     "output_type": "stream",
     "text": [
      "Processing chunk 4..."
     ]
    },
    {
     "name": "stderr",
     "output_type": "stream",
     "text": [
      "5it [00:04,  1.13it/s]"
     ]
    },
    {
     "name": "stdout",
     "output_type": "stream",
     "text": [
      "Processing chunk 5..."
     ]
    },
    {
     "name": "stderr",
     "output_type": "stream",
     "text": [
      "6it [00:05,  1.12it/s]"
     ]
    },
    {
     "name": "stdout",
     "output_type": "stream",
     "text": [
      "Processing chunk 6..."
     ]
    },
    {
     "name": "stderr",
     "output_type": "stream",
     "text": [
      "7it [00:06,  1.16it/s]"
     ]
    },
    {
     "name": "stdout",
     "output_type": "stream",
     "text": [
      "Processing chunk 7..."
     ]
    },
    {
     "name": "stderr",
     "output_type": "stream",
     "text": [
      "8it [00:07,  1.14it/s]"
     ]
    },
    {
     "name": "stdout",
     "output_type": "stream",
     "text": [
      "Processing chunk 8..."
     ]
    },
    {
     "name": "stderr",
     "output_type": "stream",
     "text": [
      "9it [00:07,  1.15it/s]"
     ]
    },
    {
     "name": "stdout",
     "output_type": "stream",
     "text": [
      "Processing chunk 9..."
     ]
    },
    {
     "name": "stderr",
     "output_type": "stream",
     "text": [
      "10it [00:08,  1.16it/s]"
     ]
    },
    {
     "name": "stdout",
     "output_type": "stream",
     "text": [
      "Processing chunk 10..."
     ]
    },
    {
     "name": "stderr",
     "output_type": "stream",
     "text": [
      "11it [00:09,  1.16it/s]"
     ]
    },
    {
     "name": "stdout",
     "output_type": "stream",
     "text": [
      "Processing chunk 11..."
     ]
    },
    {
     "name": "stderr",
     "output_type": "stream",
     "text": [
      "12it [00:10,  1.16it/s]"
     ]
    },
    {
     "name": "stdout",
     "output_type": "stream",
     "text": [
      "Processing chunk 12..."
     ]
    },
    {
     "name": "stderr",
     "output_type": "stream",
     "text": [
      "13it [00:11,  1.15it/s]"
     ]
    },
    {
     "name": "stdout",
     "output_type": "stream",
     "text": [
      "Processing chunk 13..."
     ]
    },
    {
     "name": "stderr",
     "output_type": "stream",
     "text": [
      "14it [00:12,  1.17it/s]"
     ]
    },
    {
     "name": "stdout",
     "output_type": "stream",
     "text": [
      "Processing chunk 14..."
     ]
    },
    {
     "name": "stderr",
     "output_type": "stream",
     "text": [
      "15it [00:13,  1.16it/s]"
     ]
    },
    {
     "name": "stdout",
     "output_type": "stream",
     "text": [
      "Processing chunk 15..."
     ]
    },
    {
     "name": "stderr",
     "output_type": "stream",
     "text": [
      "16it [00:13,  1.14it/s]"
     ]
    },
    {
     "name": "stdout",
     "output_type": "stream",
     "text": [
      "Processing chunk 16..."
     ]
    },
    {
     "name": "stderr",
     "output_type": "stream",
     "text": [
      "17it [00:14,  1.10it/s]"
     ]
    },
    {
     "name": "stdout",
     "output_type": "stream",
     "text": [
      "Processing chunk 17..."
     ]
    },
    {
     "name": "stderr",
     "output_type": "stream",
     "text": [
      "18it [00:15,  1.09it/s]"
     ]
    },
    {
     "name": "stdout",
     "output_type": "stream",
     "text": [
      "Processing chunk 18..."
     ]
    },
    {
     "name": "stderr",
     "output_type": "stream",
     "text": [
      "19it [00:16,  1.10it/s]"
     ]
    },
    {
     "name": "stdout",
     "output_type": "stream",
     "text": [
      "Processing chunk 19..."
     ]
    },
    {
     "name": "stderr",
     "output_type": "stream",
     "text": [
      "20it [00:17,  1.11it/s]"
     ]
    },
    {
     "name": "stdout",
     "output_type": "stream",
     "text": [
      "Processing chunk 20..."
     ]
    },
    {
     "name": "stderr",
     "output_type": "stream",
     "text": [
      "21it [00:18,  1.09it/s]"
     ]
    },
    {
     "name": "stdout",
     "output_type": "stream",
     "text": [
      "Processing chunk 21..."
     ]
    },
    {
     "name": "stderr",
     "output_type": "stream",
     "text": [
      "22it [00:19,  1.08it/s]"
     ]
    },
    {
     "name": "stdout",
     "output_type": "stream",
     "text": [
      "Processing chunk 22..."
     ]
    },
    {
     "name": "stderr",
     "output_type": "stream",
     "text": [
      "23it [00:20,  1.04it/s]"
     ]
    },
    {
     "name": "stdout",
     "output_type": "stream",
     "text": [
      "Processing chunk 23..."
     ]
    },
    {
     "name": "stderr",
     "output_type": "stream",
     "text": [
      "24it [00:21,  1.01it/s]"
     ]
    },
    {
     "name": "stdout",
     "output_type": "stream",
     "text": [
      "Processing chunk 24..."
     ]
    },
    {
     "name": "stderr",
     "output_type": "stream",
     "text": [
      "25it [00:22,  1.02s/it]"
     ]
    },
    {
     "name": "stdout",
     "output_type": "stream",
     "text": [
      "Processing chunk 25..."
     ]
    },
    {
     "name": "stderr",
     "output_type": "stream",
     "text": [
      "26it [00:23,  1.04s/it]"
     ]
    },
    {
     "name": "stdout",
     "output_type": "stream",
     "text": [
      "Processing chunk 26..."
     ]
    },
    {
     "name": "stderr",
     "output_type": "stream",
     "text": [
      "27it [00:24,  1.03s/it]"
     ]
    },
    {
     "name": "stdout",
     "output_type": "stream",
     "text": [
      "Processing chunk 27..."
     ]
    },
    {
     "name": "stderr",
     "output_type": "stream",
     "text": [
      "28it [00:25,  1.00it/s]"
     ]
    },
    {
     "name": "stdout",
     "output_type": "stream",
     "text": [
      "Processing chunk 28..."
     ]
    },
    {
     "name": "stderr",
     "output_type": "stream",
     "text": [
      "29it [00:26,  1.04s/it]"
     ]
    },
    {
     "name": "stdout",
     "output_type": "stream",
     "text": [
      "Processing chunk 29..."
     ]
    },
    {
     "name": "stderr",
     "output_type": "stream",
     "text": [
      "30it [00:27,  1.02s/it]"
     ]
    },
    {
     "name": "stdout",
     "output_type": "stream",
     "text": [
      "Processing chunk 30..."
     ]
    },
    {
     "name": "stderr",
     "output_type": "stream",
     "text": [
      "31it [00:28,  1.00it/s]"
     ]
    },
    {
     "name": "stdout",
     "output_type": "stream",
     "text": [
      "Processing chunk 31..."
     ]
    },
    {
     "name": "stderr",
     "output_type": "stream",
     "text": [
      "32it [00:29,  1.01s/it]"
     ]
    },
    {
     "name": "stdout",
     "output_type": "stream",
     "text": [
      "Processing chunk 32..."
     ]
    },
    {
     "name": "stderr",
     "output_type": "stream",
     "text": [
      "33it [00:30,  1.03s/it]"
     ]
    },
    {
     "name": "stdout",
     "output_type": "stream",
     "text": [
      "Processing chunk 33..."
     ]
    },
    {
     "name": "stderr",
     "output_type": "stream",
     "text": [
      "34it [00:31,  1.02s/it]"
     ]
    },
    {
     "name": "stdout",
     "output_type": "stream",
     "text": [
      "Processing chunk 34..."
     ]
    },
    {
     "name": "stderr",
     "output_type": "stream",
     "text": [
      "35it [00:32,  1.01s/it]"
     ]
    },
    {
     "name": "stdout",
     "output_type": "stream",
     "text": [
      "Processing chunk 35..."
     ]
    },
    {
     "name": "stderr",
     "output_type": "stream",
     "text": [
      "36it [00:33,  1.02s/it]"
     ]
    },
    {
     "name": "stdout",
     "output_type": "stream",
     "text": [
      "Processing chunk 36..."
     ]
    },
    {
     "name": "stderr",
     "output_type": "stream",
     "text": [
      "37it [00:34,  1.03s/it]"
     ]
    },
    {
     "name": "stdout",
     "output_type": "stream",
     "text": [
      "Processing chunk 37..."
     ]
    },
    {
     "name": "stderr",
     "output_type": "stream",
     "text": [
      "38it [00:35,  1.02s/it]"
     ]
    },
    {
     "name": "stdout",
     "output_type": "stream",
     "text": [
      "Processing chunk 38..."
     ]
    },
    {
     "name": "stderr",
     "output_type": "stream",
     "text": [
      "39it [00:36,  1.01s/it]"
     ]
    },
    {
     "name": "stdout",
     "output_type": "stream",
     "text": [
      "Processing chunk 39..."
     ]
    },
    {
     "name": "stderr",
     "output_type": "stream",
     "text": [
      "40it [00:37,  1.01s/it]"
     ]
    },
    {
     "name": "stdout",
     "output_type": "stream",
     "text": [
      "Processing chunk 40..."
     ]
    },
    {
     "name": "stderr",
     "output_type": "stream",
     "text": [
      "41it [00:38,  1.00s/it]"
     ]
    },
    {
     "name": "stdout",
     "output_type": "stream",
     "text": [
      "Processing chunk 41..."
     ]
    },
    {
     "name": "stderr",
     "output_type": "stream",
     "text": [
      "42it [00:39,  1.00it/s]"
     ]
    },
    {
     "name": "stdout",
     "output_type": "stream",
     "text": [
      "Processing chunk 42..."
     ]
    },
    {
     "name": "stderr",
     "output_type": "stream",
     "text": [
      "43it [00:40,  1.01it/s]"
     ]
    },
    {
     "name": "stdout",
     "output_type": "stream",
     "text": [
      "Processing chunk 43..."
     ]
    },
    {
     "name": "stderr",
     "output_type": "stream",
     "text": [
      "44it [00:41,  1.01it/s]"
     ]
    },
    {
     "name": "stdout",
     "output_type": "stream",
     "text": [
      "Processing chunk 44..."
     ]
    },
    {
     "name": "stderr",
     "output_type": "stream",
     "text": [
      "45it [00:42,  1.01it/s]"
     ]
    },
    {
     "name": "stdout",
     "output_type": "stream",
     "text": [
      "Processing chunk 45..."
     ]
    },
    {
     "name": "stderr",
     "output_type": "stream",
     "text": [
      "46it [00:43,  1.01it/s]"
     ]
    },
    {
     "name": "stdout",
     "output_type": "stream",
     "text": [
      "Processing chunk 46..."
     ]
    },
    {
     "name": "stderr",
     "output_type": "stream",
     "text": [
      "47it [00:44,  1.01it/s]"
     ]
    },
    {
     "name": "stdout",
     "output_type": "stream",
     "text": [
      "Processing chunk 47..."
     ]
    },
    {
     "name": "stderr",
     "output_type": "stream",
     "text": [
      "48it [00:45,  1.00s/it]"
     ]
    },
    {
     "name": "stdout",
     "output_type": "stream",
     "text": [
      "Processing chunk 48..."
     ]
    },
    {
     "name": "stderr",
     "output_type": "stream",
     "text": [
      "49it [00:47,  1.02s/it]"
     ]
    },
    {
     "name": "stdout",
     "output_type": "stream",
     "text": [
      "Processing chunk 49..."
     ]
    },
    {
     "name": "stderr",
     "output_type": "stream",
     "text": [
      "50it [00:48,  1.02s/it]"
     ]
    },
    {
     "name": "stdout",
     "output_type": "stream",
     "text": [
      "Processing chunk 50..."
     ]
    },
    {
     "name": "stderr",
     "output_type": "stream",
     "text": [
      "51it [00:48,  1.01s/it]"
     ]
    },
    {
     "name": "stdout",
     "output_type": "stream",
     "text": [
      "Processing chunk 51..."
     ]
    },
    {
     "name": "stderr",
     "output_type": "stream",
     "text": [
      "52it [00:50,  1.03s/it]"
     ]
    },
    {
     "name": "stdout",
     "output_type": "stream",
     "text": [
      "Processing chunk 52..."
     ]
    },
    {
     "name": "stderr",
     "output_type": "stream",
     "text": [
      "53it [00:51,  1.01s/it]"
     ]
    },
    {
     "name": "stdout",
     "output_type": "stream",
     "text": [
      "Processing chunk 53..."
     ]
    },
    {
     "name": "stderr",
     "output_type": "stream",
     "text": [
      "54it [00:52,  1.01s/it]"
     ]
    },
    {
     "name": "stdout",
     "output_type": "stream",
     "text": [
      "Processing chunk 54..."
     ]
    },
    {
     "name": "stderr",
     "output_type": "stream",
     "text": [
      "55it [00:53,  1.01s/it]"
     ]
    },
    {
     "name": "stdout",
     "output_type": "stream",
     "text": [
      "Processing chunk 55..."
     ]
    },
    {
     "name": "stderr",
     "output_type": "stream",
     "text": [
      "56it [00:54,  1.01s/it]"
     ]
    },
    {
     "name": "stdout",
     "output_type": "stream",
     "text": [
      "Processing chunk 56..."
     ]
    },
    {
     "name": "stderr",
     "output_type": "stream",
     "text": [
      "57it [00:55,  1.02s/it]"
     ]
    },
    {
     "name": "stdout",
     "output_type": "stream",
     "text": [
      "Processing chunk 57..."
     ]
    },
    {
     "name": "stderr",
     "output_type": "stream",
     "text": [
      "58it [00:56,  1.02s/it]"
     ]
    },
    {
     "name": "stdout",
     "output_type": "stream",
     "text": [
      "Processing chunk 58..."
     ]
    },
    {
     "name": "stderr",
     "output_type": "stream",
     "text": [
      "59it [00:57,  1.03s/it]"
     ]
    },
    {
     "name": "stdout",
     "output_type": "stream",
     "text": [
      "Processing chunk 59..."
     ]
    },
    {
     "name": "stderr",
     "output_type": "stream",
     "text": [
      "60it [00:58,  1.07s/it]"
     ]
    },
    {
     "name": "stdout",
     "output_type": "stream",
     "text": [
      "Processing chunk 60..."
     ]
    },
    {
     "name": "stderr",
     "output_type": "stream",
     "text": [
      "61it [01:01,  1.73s/it]"
     ]
    },
    {
     "name": "stdout",
     "output_type": "stream",
     "text": [
      "Processing chunk 61..."
     ]
    },
    {
     "name": "stderr",
     "output_type": "stream",
     "text": [
      "62it [01:03,  1.90s/it]"
     ]
    },
    {
     "name": "stdout",
     "output_type": "stream",
     "text": [
      "Processing chunk 62..."
     ]
    },
    {
     "name": "stderr",
     "output_type": "stream",
     "text": [
      "63it [01:06,  2.03s/it]"
     ]
    },
    {
     "name": "stdout",
     "output_type": "stream",
     "text": [
      "Processing chunk 63..."
     ]
    },
    {
     "name": "stderr",
     "output_type": "stream",
     "text": [
      "64it [01:08,  2.09s/it]"
     ]
    },
    {
     "name": "stdout",
     "output_type": "stream",
     "text": [
      "Processing chunk 64..."
     ]
    },
    {
     "name": "stderr",
     "output_type": "stream",
     "text": [
      "65it [01:10,  2.10s/it]"
     ]
    },
    {
     "name": "stdout",
     "output_type": "stream",
     "text": [
      "Processing chunk 65..."
     ]
    },
    {
     "name": "stderr",
     "output_type": "stream",
     "text": [
      "66it [01:12,  1.10s/it]\n"
     ]
    },
    {
     "name": "stdout",
     "output_type": "stream",
     "text": [
      "Processing chunk 66...Processing file: infilteration.csv\n"
     ]
    },
    {
     "name": "stderr",
     "output_type": "stream",
     "text": [
      "1it [00:02,  2.27s/it]"
     ]
    },
    {
     "name": "stdout",
     "output_type": "stream",
     "text": [
      "Processing chunk 1..."
     ]
    },
    {
     "name": "stderr",
     "output_type": "stream",
     "text": [
      "2it [00:04,  2.24s/it]"
     ]
    },
    {
     "name": "stdout",
     "output_type": "stream",
     "text": [
      "Processing chunk 2..."
     ]
    },
    {
     "name": "stderr",
     "output_type": "stream",
     "text": [
      "3it [00:06,  2.21s/it]"
     ]
    },
    {
     "name": "stdout",
     "output_type": "stream",
     "text": [
      "Processing chunk 3..."
     ]
    },
    {
     "name": "stderr",
     "output_type": "stream",
     "text": [
      "4it [00:09,  2.30s/it]"
     ]
    },
    {
     "name": "stdout",
     "output_type": "stream",
     "text": [
      "Processing chunk 4..."
     ]
    },
    {
     "name": "stderr",
     "output_type": "stream",
     "text": [
      "5it [00:11,  2.40s/it]"
     ]
    },
    {
     "name": "stdout",
     "output_type": "stream",
     "text": [
      "Processing chunk 5..."
     ]
    },
    {
     "name": "stderr",
     "output_type": "stream",
     "text": [
      "6it [00:14,  2.38s/it]"
     ]
    },
    {
     "name": "stdout",
     "output_type": "stream",
     "text": [
      "Processing chunk 6..."
     ]
    },
    {
     "name": "stderr",
     "output_type": "stream",
     "text": [
      "7it [00:16,  2.34s/it]"
     ]
    },
    {
     "name": "stdout",
     "output_type": "stream",
     "text": [
      "Processing chunk 7..."
     ]
    },
    {
     "name": "stderr",
     "output_type": "stream",
     "text": [
      "8it [00:18,  2.30s/it]"
     ]
    },
    {
     "name": "stdout",
     "output_type": "stream",
     "text": [
      "Processing chunk 8..."
     ]
    },
    {
     "name": "stderr",
     "output_type": "stream",
     "text": [
      "9it [00:20,  2.28s/it]"
     ]
    },
    {
     "name": "stdout",
     "output_type": "stream",
     "text": [
      "Processing chunk 9..."
     ]
    },
    {
     "name": "stderr",
     "output_type": "stream",
     "text": [
      "10it [00:22,  2.28s/it]"
     ]
    },
    {
     "name": "stdout",
     "output_type": "stream",
     "text": [
      "Processing chunk 10..."
     ]
    },
    {
     "name": "stderr",
     "output_type": "stream",
     "text": [
      "11it [00:25,  2.36s/it]"
     ]
    },
    {
     "name": "stdout",
     "output_type": "stream",
     "text": [
      "Processing chunk 11..."
     ]
    },
    {
     "name": "stderr",
     "output_type": "stream",
     "text": [
      "12it [00:27,  2.36s/it]"
     ]
    },
    {
     "name": "stdout",
     "output_type": "stream",
     "text": [
      "Processing chunk 12..."
     ]
    },
    {
     "name": "stderr",
     "output_type": "stream",
     "text": [
      "13it [00:30,  2.37s/it]"
     ]
    },
    {
     "name": "stdout",
     "output_type": "stream",
     "text": [
      "Processing chunk 13..."
     ]
    },
    {
     "name": "stderr",
     "output_type": "stream",
     "text": [
      "14it [00:32,  2.42s/it]"
     ]
    },
    {
     "name": "stdout",
     "output_type": "stream",
     "text": [
      "Processing chunk 14..."
     ]
    },
    {
     "name": "stderr",
     "output_type": "stream",
     "text": [
      "15it [00:35,  2.45s/it]"
     ]
    },
    {
     "name": "stdout",
     "output_type": "stream",
     "text": [
      "Processing chunk 15..."
     ]
    },
    {
     "name": "stderr",
     "output_type": "stream",
     "text": [
      "16it [00:38,  2.53s/it]"
     ]
    },
    {
     "name": "stdout",
     "output_type": "stream",
     "text": [
      "Processing chunk 16..."
     ]
    },
    {
     "name": "stderr",
     "output_type": "stream",
     "text": [
      "17it [00:40,  2.38s/it]"
     ]
    },
    {
     "name": "stdout",
     "output_type": "stream",
     "text": [
      "Processing chunk 17..."
     ]
    },
    {
     "name": "stderr",
     "output_type": "stream",
     "text": [
      "\n"
     ]
    }
   ],
   "source": [
    "import pandas as pd\n",
    "import os\n",
    "import warnings\n",
    "from tqdm import tqdm\n",
    "import time\n",
    "\n",
    "warnings.filterwarnings('ignore')\n",
    "\n",
    "# Define the path to the directory containing the CSV files\n",
    "path = r\"D:\\Stuff\\CyberSec\\Datasets\\IDS2018_extract\\temp\"\n",
    "\n",
    "# Create an empty dataframe to store the combined samples\n",
    "combined_df = pd.DataFrame()\n",
    "\n",
    "# Loop through each CSV file in the directory\n",
    "for filename in os.listdir(path):\n",
    "    if filename.endswith('.csv'):\n",
    "        print(f\"Processing file: {filename}\")\n",
    "        file_path = os.path.join(path, filename)\n",
    "        # Read the CSV file in chunks of 10,000 rows\n",
    "        for i, chunk in tqdm(enumerate(pd.read_csv(file_path, chunksize=10000))):\n",
    "            if len(chunk) >= 10000:\n",
    "                # Take a random sample of 10,000 rows from the chunk\n",
    "                sample_df = chunk.sample(n=10000)\n",
    "                # Append the sampled rows to the combined dataframe\n",
    "                combined_df = combined_df.append(sample_df, ignore_index=True)\n",
    "            else:\n",
    "                # If the chunk has fewer than 10,000 rows, append all rows to the combined dataframe\n",
    "                combined_df = combined_df.append(chunk, ignore_index=True)\n",
    "\n",
    "            # Clear the output after each iteration\n",
    "            time.sleep(0.1)\n",
    "            print(f\"\\rProcessing chunk {i+1}...\", end='')\n",
    "\n",
    "# Write the combined dataframe to a new CSV file\n",
    "combined_df.to_csv(r\"D:\\Stuff\\CyberSec\\Datasets\\IDS2018_extract\\sampled.csv\", index=False)\n"
   ]
  },
  {
   "cell_type": "code",
   "execution_count": 3,
   "metadata": {},
   "outputs": [],
   "source": [
    "import os\n",
    "import pandas as pd\n",
    "import random\n",
    "\n",
    "# Path to the directory containing the CSV files\n",
    "csv_dir = r\"D:\\Stuff\\CyberSec\\Datasets\\IDS2018_extract\"\n",
    "\n",
    "# Get a list of all CSV files in the directory\n",
    "csv_files = [os.path.join(csv_dir, f) for f in os.listdir(csv_dir) if f.endswith('.csv')]\n",
    "\n",
    "# Create an empty dataframe to store the samples\n",
    "sample_df = pd.DataFrame()\n",
    "\n",
    "# Loop over each CSV file\n",
    "for file in csv_files:\n",
    "    # Read in the CSV file and take a random sample of n rows\n",
    "    df = pd.read_csv(file).sample(frac=0.01)\n",
    "    \n",
    "    # Add the sampled rows to the sample dataframe\n",
    "    if sample_df.empty:\n",
    "        sample_df = df\n",
    "    else:\n",
    "        sample_df = pd.concat([sample_df, df], ignore_index=True)\n",
    "\n",
    "# Write the combined sample dataframe to a CSV file\n",
    "sample_df.to_csv(r\"D:\\Stuff\\CyberSec\\Datasets\\IDS2018_extract\\sampled.csv\", index=False)\n"
   ]
  }
 ],
 "metadata": {
  "kernelspec": {
   "display_name": "cyber",
   "language": "python",
   "name": "python3"
  },
  "language_info": {
   "codemirror_mode": {
    "name": "ipython",
    "version": 3
   },
   "file_extension": ".py",
   "mimetype": "text/x-python",
   "name": "python",
   "nbconvert_exporter": "python",
   "pygments_lexer": "ipython3",
   "version": "3.10.9"
  },
  "orig_nbformat": 4
 },
 "nbformat": 4,
 "nbformat_minor": 2
}
