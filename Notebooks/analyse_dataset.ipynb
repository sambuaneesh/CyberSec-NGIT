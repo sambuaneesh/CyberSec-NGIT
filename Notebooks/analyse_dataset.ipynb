{
 "cells": [
  {
   "cell_type": "code",
   "execution_count": 1,
   "metadata": {},
   "outputs": [
    {
     "name": "stdout",
     "output_type": "stream",
     "text": [
      "['Benign', 'Brute Force -Web', 'Brute Force -XSS', 'SQL Injection']\n"
     ]
    }
   ],
   "source": [
    "import pandas as pd\n",
    "\n",
    "# Load the dataset into a Pandas DataFrame\n",
    "df = pd.read_csv(r\"D:\\Stuff\\CyberSec\\Datasets\\IDS2018\\02-23-2018.csv\")\n",
    "\n",
    "# Access the label column and get unique values\n",
    "label_values = df.iloc[:, -1].unique()\n",
    "\n",
    "# Sort the unique values alphabetically\n",
    "label_values = sorted(label_values)\n",
    "\n",
    "# Print the unique label values\n",
    "print(label_values)\n"
   ]
  },
  {
   "cell_type": "code",
   "execution_count": 3,
   "metadata": {},
   "outputs": [
    {
     "name": "stdout",
     "output_type": "stream",
     "text": [
      "Benign    72.706673\n",
      "Bot       27.293327\n",
      "Name: Label, dtype: float64\n"
     ]
    }
   ],
   "source": [
    "import pandas as pd\n",
    "\n",
    "# Load the dataset into a Pandas DataFrame\n",
    "df = pd.read_csv(r\"D:\\Stuff\\CyberSec\\Datasets\\IDS2018\\03-02-2018.csv\")\n",
    "\n",
    "# Calculate the percentage of each label in the dataset\n",
    "label_percentages = df.iloc[:, -1].value_counts() / df.shape[0] * 100\n",
    "\n",
    "# Print the label percentages\n",
    "print(label_percentages)\n"
   ]
  },
  {
   "cell_type": "code",
   "execution_count": null,
   "metadata": {},
   "outputs": [],
   "source": [
    "import pandas as pd\n",
    "\n",
    "# Load the dataset into a Pandas DataFrame\n",
    "df = pd.read_csv(r\"D:\\Stuff\\CyberSec\\Datasets\\IDS2018\\02-14-2018.csv\")\n",
    "\n",
    "# Replace old labels with new ones\n",
    "df['new_label'] = df['old_label'].replace({'label1': 'new_label1', 'label2': 'new_label2'})\n",
    "\n",
    "# Export the updated dataset to a new CSV file\n",
    "df.to_csv('new_dataset.csv', index=False)\n"
   ]
  },
  {
   "cell_type": "code",
   "execution_count": 6,
   "metadata": {},
   "outputs": [],
   "source": [
    "import pandas as pd\n",
    "\n",
    "# Load the dataset into a Pandas DataFrame\n",
    "df = pd.read_csv(r\"D:\\Stuff\\CyberSec\\Datasets\\IDS2018\\02-14-2018.csv\")\n",
    "\n",
    "# Combine all labels except \"Benign\" into a single label \"Bruteforce\"\n",
    "df.iloc[:, -1] = df.iloc[:, -1].apply(lambda x: 'Bruteforce' if x != 'Benign' else x)\n",
    "\n",
    "# Export the updated dataset to a new CSV file\n",
    "# df[df['new_label'] != 'Benign'].to_csv('new_dataset.csv', index=False)\n",
    "df[df['new_label'] != 'Benign'].sample(n=10000).to_csv('random_dataset.csv', index=False)\n",
    "\n",
    "# Export a random sample of 1000 rows to a new CSV file\n",
    "# df[df['new_label'] != 'Benign'].sample(n=10000).to_csv('random_sample.csv', index=False)\n"
   ]
  },
  {
   "cell_type": "code",
   "execution_count": 8,
   "metadata": {},
   "outputs": [],
   "source": [
    "import pandas as pd\n",
    "\n",
    "# Load the dataset into a Pandas DataFrame\n",
    "df = pd.read_csv(r\"D:\\Stuff\\CyberSec\\Datasets\\IDS2018\\02-14-2018.csv\")\n",
    "\n",
    "# Replace all labels except \"Benign\" with \"Bruteforce\"\n",
    "df.iloc[:, -1] = df.iloc[:, -1].apply(lambda x: 'Bruteforce' if x != 'Benign' else x)\n",
    "\n",
    "# Filter the dataset to exclude \"Benign\" samples\n",
    "df_filtered = df[df.iloc[:, -1] != 'Benign']\n",
    "\n",
    "# Export the updated dataset to a new CSV file, overwriting the original dataset\n",
    "df_filtered.to_csv('your_dataset.csv', index=False)\n",
    "\n",
    "\n",
    "# import pandas as pd\n",
    "\n",
    "# # Load the dataset into a Pandas DataFrame\n",
    "# df = pd.read_csv(r\"D:\\Stuff\\CyberSec\\Datasets\\IDS2018\\02-14-2018.csv\")\n",
    "\n",
    "# # Replace all labels except \"Benign\" with \"Bruteforce\"\n",
    "# df.iloc[:, -1] = df.iloc[:, -1].apply(lambda x: 'Bruteforce' if x != 'Benign' else x)\n",
    "\n",
    "# # Filter the dataset to exclude \"Benign\" samples\n",
    "# df_filtered = df[df.iloc[:, -1] != 'Benign']\n",
    "\n",
    "# # Randomly sample 1000 rows from the filtered DataFrame\n",
    "# df_sampled = df_filtered.sample(n=1000, random_state=42)\n",
    "\n",
    "# # Export the sampled dataset to a new CSV file\n",
    "# df_sampled.to_csv('random_sample.csv', index=False)\n"
   ]
  }
 ],
 "metadata": {
  "kernelspec": {
   "display_name": "cyber",
   "language": "python",
   "name": "python3"
  },
  "language_info": {
   "codemirror_mode": {
    "name": "ipython",
    "version": 3
   },
   "file_extension": ".py",
   "mimetype": "text/x-python",
   "name": "python",
   "nbconvert_exporter": "python",
   "pygments_lexer": "ipython3",
   "version": "3.10.9"
  },
  "orig_nbformat": 4
 },
 "nbformat": 4,
 "nbformat_minor": 2
}
