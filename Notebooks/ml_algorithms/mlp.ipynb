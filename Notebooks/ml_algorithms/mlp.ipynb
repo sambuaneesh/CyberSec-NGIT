{
 "cells": [
  {
   "cell_type": "markdown",
   "id": "b052177e",
   "metadata": {},
   "source": [
    "## Importing All The Necessary Stuff"
   ]
  },
  {
   "cell_type": "code",
   "execution_count": null,
   "id": "995c239a",
   "metadata": {},
   "outputs": [],
   "source": [
    "import pandas as pd\n",
    "from sklearn.neural_network import MLPClassifier\n",
    "from sklearn.model_selection import train_test_split\n",
    "from sklearn.metrics import accuracy_score"
   ]
  },
  {
   "cell_type": "markdown",
   "id": "34d08244",
   "metadata": {},
   "source": [
    "## Loading The Data to prepare a Model"
   ]
  },
  {
   "cell_type": "code",
   "execution_count": null,
   "id": "8a0bf074",
   "metadata": {},
   "outputs": [],
   "source": [
    "# Load the data from CSV file\n",
    "# df = pd.read_csv(r\"D:\\Stuff\\CyberSec\\archive\\03-02-2018.csv\")\n",
    "df = pd.read_csv(r\"D:\\Stuff\\CyberSec\\MachineLearningCSV\\MachineLearningCVE\\Wednesday-workingHours.pcap_ISCX.csv\")\n",
    "\n",
    "# Remove any rows with missing values\n",
    "# df = df.dropna()\n",
    "\n",
    "# Drop columns where all values are 0\n",
    "# df = df.loc[:, (df != 0).any(axis=0)]\n",
    "\n",
    "columns = list(df.columns)"
   ]
  },
  {
   "cell_type": "markdown",
   "id": "fde9390b",
   "metadata": {},
   "source": [
    "### Display the Imported Model"
   ]
  },
  {
   "cell_type": "code",
   "execution_count": null,
   "id": "14db7062",
   "metadata": {},
   "outputs": [],
   "source": [
    "# display the dataframe\n",
    "df.head()"
   ]
  },
  {
   "cell_type": "markdown",
   "id": "7dc6be8d",
   "metadata": {},
   "source": [
    "### Printing all the Features available in our Model"
   ]
  },
  {
   "cell_type": "code",
   "execution_count": null,
   "id": "82200578",
   "metadata": {},
   "outputs": [],
   "source": [
    "# Print column names with their respective column numbers\n",
    "for i, col_name in enumerate(df.columns):\n",
    "    print(f\"Feature {i+1}:\\t\\\"{col_name}\\\"\")"
   ]
  },
  {
   "cell_type": "markdown",
   "id": "ea77b137",
   "metadata": {},
   "source": [
    "## Preparing the Classification model using Decision Tree Classifier"
   ]
  },
  {
   "cell_type": "markdown",
   "id": "93897eee",
   "metadata": {},
   "source": [
    "### Training and Obtaining accuracy for a **`range`** of features **`individually`**"
   ]
  },
  {
   "cell_type": "code",
   "execution_count": null,
   "id": "9ed8fa60",
   "metadata": {
    "scrolled": false
   },
   "outputs": [],
   "source": [
    "# to display individual features with a given range\n",
    "startC = 1\n",
    "endC = 10\n",
    "for start_col in range(startC-1, endC, 1):\n",
    "    end_col = start_col + 1\n",
    "    try:\n",
    "        X = df.iloc[:, start_col:end_col].values\n",
    "        y = df.iloc[:, -1].values\n",
    "\n",
    "        # Split the data into training and testing sets\n",
    "        X_train, X_test, y_train, y_test = train_test_split(\n",
    "            X, y, test_size=0.2, random_state=42)\n",
    "\n",
    "        # Train the decision tree classifier\n",
    "        clf = MLPClassifier(hidden_layer_sizes=(100, 50), max_iter=300, alpha=0.0001,\n",
    "                    solver='adam', random_state=42, tol=0.0001)\n",
    "        clf.fit(X_train, y_train)\n",
    "\n",
    "        # Test the classifier\n",
    "        accuracy = clf.score(X_test, y_test)\n",
    "        print(f\"Accuracy for column '{columns[end_col-1]}' : {accuracy}\")\n",
    "    except:\n",
    "        print(f\"'{columns[end_col-1]}' isn't a feature column\")\n"
   ]
  },
  {
   "cell_type": "markdown",
   "id": "826ca7e7",
   "metadata": {},
   "source": [
    "### Training and Obtaining accuracy for a **`group`** of features **`together`**"
   ]
  },
  {
   "cell_type": "code",
   "execution_count": null,
   "id": "8eae2423",
   "metadata": {
    "scrolled": true
   },
   "outputs": [],
   "source": [
    "# Select the 6th column as the feature and the last column as the label\n",
    "# example:\n",
    "# from 4th col to 16th col\n",
    "bCol = 4\n",
    "eCol = 10\n",
    "X = df.iloc[:, bCol-1:eCol].values\n",
    "# X = df.iloc[:, 3:4].values\n",
    "y = df.iloc[:, -1].values\n",
    "\n",
    "# Split the data into training and testing sets\n",
    "X_train, X_test, y_train, y_test = train_test_split(\n",
    "    X, y, test_size=0.2, random_state=42)\n",
    "\n",
    "# Train the decision tree classifier\n",
    "clf = MLPClassifier(hidden_layer_sizes=(100, 50), max_iter=300, alpha=0.0001,\n",
    "                    solver='adam', random_state=42, tol=0.0001)\n",
    "clf.fit(X_train, y_train)\n",
    "\n",
    "# Test the classifier\n",
    "accuracy = clf.score(X_test, y_test)\n",
    "\n",
    "selected_cols = df.iloc[:,bCol-1:eCol]\n",
    "\n",
    "print(\"Accuracy for the following features combined\",selected_cols.columns.tolist(),\"is: \",accuracy)\n"
   ]
  },
  {
   "cell_type": "markdown",
   "id": "0a12a370",
   "metadata": {},
   "source": [
    "### Obtaining **`group`** accuracy with **`Feature names`** as Input"
   ]
  },
  {
   "cell_type": "code",
   "execution_count": null,
   "id": "cdea3cbb",
   "metadata": {},
   "outputs": [],
   "source": [
    "# specify column names to select\n",
    "selected_cols = ['Fwd Pkts/s','Bwd Pkts/s']\n",
    "\n",
    "# select columns by name using loc\n",
    "X = df.loc[:, selected_cols].values\n",
    "y = df.iloc[:, -1].values\n",
    "\n",
    "# Split the data into training and testing sets\n",
    "X_train, X_test, y_train, y_test = train_test_split(\n",
    "    X, y, test_size=0.2, random_state=42)\n",
    "\n",
    "# Train the decision tree classifier\n",
    "clf = MLPClassifier(hidden_layer_sizes=(100, 50), max_iter=300, alpha=0.0001,\n",
    "                    solver='adam', random_state=42, tol=0.0001)\n",
    "clf.fit(X_train, y_train)\n",
    "\n",
    "# Test the classifier\n",
    "accuracy = clf.score(X_test, y_test)\n",
    "\n",
    "\n",
    "print(\"Accuracy for the following features combined\",selected_cols,\"is: \",accuracy)\n"
   ]
  },
  {
   "cell_type": "markdown",
   "id": "c7870765",
   "metadata": {},
   "source": [
    "### Obtaining **`individual`** accuracy with **`Feature names`** as Input"
   ]
  },
  {
   "cell_type": "code",
   "execution_count": null,
   "id": "c51c3879",
   "metadata": {},
   "outputs": [],
   "source": [
    "# Define the list of column names to iterate over\n",
    "col_names = ['Fwd Pkts/s','Bwd Pkts/s']\n",
    "\n",
    "for col_name in col_names:\n",
    "    try:\n",
    "        X = df[[col_name]].values\n",
    "        y = df.iloc[:, -1].values\n",
    "\n",
    "        # Split the data into training and testing sets\n",
    "        X_train, X_test, y_train, y_test = train_test_split(\n",
    "            X, y, test_size=0.2, random_state=42)\n",
    "\n",
    "        # Train the decision tree classifier\n",
    "        clf = MLPClassifier(hidden_layer_sizes=(100, 50), max_iter=300, alpha=0.0001,\n",
    "                    solver='adam', random_state=42, tol=0.0001)\n",
    "        clf.fit(X_train, y_train)\n",
    "\n",
    "        # Test the classifier\n",
    "        accuracy = clf.score(X_test, y_test)\n",
    "        print(f\"Accuracy for column '{col_name}' : {accuracy}\")\n",
    "    except:\n",
    "        print(f\"'{col_name}' isn't a feature column\")\n"
   ]
  },
  {
   "cell_type": "markdown",
   "id": "bf47ae3d",
   "metadata": {},
   "source": [
    "### Obtaining **`individual`** accuracy with **`Feature numbers`** as Input"
   ]
  },
  {
   "cell_type": "code",
   "execution_count": null,
   "id": "4c4e0220",
   "metadata": {},
   "outputs": [],
   "source": [
    "cols = [1,2,3,4,9,13,17,22,27,31,32,33,34,35,36,41,67,68,71,75] # Example list of column indices to test\n",
    "for start_col in cols:\n",
    "    start_col-=1\n",
    "    end_col = start_col + 1\n",
    "    try:\n",
    "        X = df.iloc[:, start_col:end_col].values\n",
    "        y = df.iloc[:, -1].values\n",
    "\n",
    "        # Split the data into training and testing sets\n",
    "        X_train, X_test, y_train, y_test = train_test_split(\n",
    "            X, y, test_size=0.2, random_state=42)\n",
    "\n",
    "        # Train the decision tree classifier\n",
    "        clf = MLPClassifier(hidden_layer_sizes=(100, 50), max_iter=300, alpha=0.0001,\n",
    "                    solver='adam', random_state=42, tol=0.0001)\n",
    "        clf.fit(X_train, y_train)\n",
    "\n",
    "        # Test the classifier\n",
    "        accuracy = clf.score(X_test, y_test)\n",
    "        print(f\"Accuracy for column '{columns[end_col-1]}' : {accuracy}\")\n",
    "    except:\n",
    "        print(f\"'{columns[end_col-1]}' isn't a feature column\")\n"
   ]
  },
  {
   "cell_type": "markdown",
   "id": "9e676636",
   "metadata": {},
   "source": [
    "### Obtaining **`group`** accuracy with **`Feature numbers`** as Input"
   ]
  },
  {
   "cell_type": "code",
   "execution_count": null,
   "id": "2a6e7063",
   "metadata": {},
   "outputs": [],
   "source": [
    "# specify column indexes to select\n",
    "selected_cols_idx = [1,2,3,4,9,13,17,22,27,31,32,33,34,35,36,41,67,68,71,75]\n",
    "\n",
    "selected_cols_idx = [x - 1 for x in selected_cols_idx]\n",
    "\n",
    "# select columns by index using iloc\n",
    "X = df.iloc[:, selected_cols_idx].values\n",
    "y = df.iloc[:, -1].values\n",
    "\n",
    "# Split the data into training and testing sets\n",
    "X_train, X_test, y_train, y_test = train_test_split(\n",
    "    X, y, test_size=0.2, random_state=42)\n",
    "\n",
    "# Train the decision tree classifier\n",
    "clf = MLPClassifier(hidden_layer_sizes=(100, 50), max_iter=300, alpha=0.0001,\n",
    "                    solver='adam', random_state=42, tol=0.0001)\n",
    "clf.fit(X_train, y_train)\n",
    "\n",
    "# Test the classifier\n",
    "accuracy = clf.score(X_test, y_test)\n",
    "\n",
    "# Get the names of the selected columns\n",
    "selected_cols = list(df.columns[selected_cols_idx])\n",
    "\n",
    "print(\"Accuracy for the following features combined\", selected_cols, \"is:\", accuracy)\n"
   ]
  }
 ],
 "metadata": {
  "kernelspec": {
   "display_name": "Python 3 (ipykernel)",
   "language": "python",
   "name": "python3"
  },
  "language_info": {
   "codemirror_mode": {
    "name": "ipython",
    "version": 3
   },
   "file_extension": ".py",
   "mimetype": "text/x-python",
   "name": "python",
   "nbconvert_exporter": "python",
   "pygments_lexer": "ipython3",
   "version": "3.10.9"
  }
 },
 "nbformat": 4,
 "nbformat_minor": 5
}
