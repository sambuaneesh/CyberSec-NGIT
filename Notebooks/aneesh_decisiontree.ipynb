{
 "cells": [
  {
   "cell_type": "markdown",
   "id": "b052177e",
   "metadata": {},
   "source": [
    "## Importing All The Necessary Stuff"
   ]
  },
  {
   "cell_type": "code",
   "execution_count": 1,
   "id": "995c239a",
   "metadata": {},
   "outputs": [],
   "source": [
    "import pandas as pd\n",
    "from sklearn.tree import DecisionTreeClassifier\n",
    "from sklearn.model_selection import train_test_split\n",
    "from sklearn.metrics import accuracy_score"
   ]
  },
  {
   "cell_type": "markdown",
   "id": "34d08244",
   "metadata": {},
   "source": [
    "## Loading The Data to prepare a Model"
   ]
  },
  {
   "cell_type": "code",
   "execution_count": 32,
   "id": "8a0bf074",
   "metadata": {},
   "outputs": [],
   "source": [
    "# Load the data from CSV file\n",
    "# df = pd.read_csv(r\"D:\\Stuff\\CyberSec\\archive\\03-02-2018.csv\")\n",
    "df = pd.read_csv(r\"D:\\Stuff\\CyberSec\\MachineLearningCSV\\MachineLearningCVE\\Wednesday-workingHours.pcap_ISCX.csv\")\n",
    "\n",
    "# Remove any rows with missing values\n",
    "# df = df.dropna()\n",
    "\n",
    "# Drop columns where all values are 0\n",
    "# df = df.loc[:, (df != 0).any(axis=0)]\n",
    "\n",
    "columns = list(df.columns)"
   ]
  },
  {
   "cell_type": "markdown",
   "id": "fde9390b",
   "metadata": {},
   "source": [
    "### Display the Imported Model"
   ]
  },
  {
   "cell_type": "code",
   "execution_count": 33,
   "id": "14db7062",
   "metadata": {},
   "outputs": [
    {
     "data": {
      "text/html": [
       "<div>\n",
       "<style scoped>\n",
       "    .dataframe tbody tr th:only-of-type {\n",
       "        vertical-align: middle;\n",
       "    }\n",
       "\n",
       "    .dataframe tbody tr th {\n",
       "        vertical-align: top;\n",
       "    }\n",
       "\n",
       "    .dataframe thead th {\n",
       "        text-align: right;\n",
       "    }\n",
       "</style>\n",
       "<table border=\"1\" class=\"dataframe\">\n",
       "  <thead>\n",
       "    <tr style=\"text-align: right;\">\n",
       "      <th></th>\n",
       "      <th>Destination Port</th>\n",
       "      <th>Flow Duration</th>\n",
       "      <th>Total Fwd Packets</th>\n",
       "      <th>Total Backward Packets</th>\n",
       "      <th>Total Length of Fwd Packets</th>\n",
       "      <th>Total Length of Bwd Packets</th>\n",
       "      <th>Fwd Packet Length Max</th>\n",
       "      <th>Fwd Packet Length Min</th>\n",
       "      <th>Fwd Packet Length Mean</th>\n",
       "      <th>Fwd Packet Length Std</th>\n",
       "      <th>...</th>\n",
       "      <th>min_seg_size_forward</th>\n",
       "      <th>Active Mean</th>\n",
       "      <th>Active Std</th>\n",
       "      <th>Active Max</th>\n",
       "      <th>Active Min</th>\n",
       "      <th>Idle Mean</th>\n",
       "      <th>Idle Std</th>\n",
       "      <th>Idle Max</th>\n",
       "      <th>Idle Min</th>\n",
       "      <th>Label</th>\n",
       "    </tr>\n",
       "  </thead>\n",
       "  <tbody>\n",
       "    <tr>\n",
       "      <th>0</th>\n",
       "      <td>80</td>\n",
       "      <td>38308</td>\n",
       "      <td>1</td>\n",
       "      <td>1</td>\n",
       "      <td>6</td>\n",
       "      <td>6</td>\n",
       "      <td>6</td>\n",
       "      <td>6</td>\n",
       "      <td>6.000000</td>\n",
       "      <td>0.000000</td>\n",
       "      <td>...</td>\n",
       "      <td>20</td>\n",
       "      <td>0.0</td>\n",
       "      <td>0.0</td>\n",
       "      <td>0</td>\n",
       "      <td>0</td>\n",
       "      <td>0.0</td>\n",
       "      <td>0.0</td>\n",
       "      <td>0</td>\n",
       "      <td>0</td>\n",
       "      <td>BENIGN</td>\n",
       "    </tr>\n",
       "    <tr>\n",
       "      <th>1</th>\n",
       "      <td>389</td>\n",
       "      <td>479</td>\n",
       "      <td>11</td>\n",
       "      <td>5</td>\n",
       "      <td>172</td>\n",
       "      <td>326</td>\n",
       "      <td>79</td>\n",
       "      <td>0</td>\n",
       "      <td>15.636364</td>\n",
       "      <td>31.449238</td>\n",
       "      <td>...</td>\n",
       "      <td>32</td>\n",
       "      <td>0.0</td>\n",
       "      <td>0.0</td>\n",
       "      <td>0</td>\n",
       "      <td>0</td>\n",
       "      <td>0.0</td>\n",
       "      <td>0.0</td>\n",
       "      <td>0</td>\n",
       "      <td>0</td>\n",
       "      <td>BENIGN</td>\n",
       "    </tr>\n",
       "    <tr>\n",
       "      <th>2</th>\n",
       "      <td>88</td>\n",
       "      <td>1095</td>\n",
       "      <td>10</td>\n",
       "      <td>6</td>\n",
       "      <td>3150</td>\n",
       "      <td>3150</td>\n",
       "      <td>1575</td>\n",
       "      <td>0</td>\n",
       "      <td>315.000000</td>\n",
       "      <td>632.561635</td>\n",
       "      <td>...</td>\n",
       "      <td>32</td>\n",
       "      <td>0.0</td>\n",
       "      <td>0.0</td>\n",
       "      <td>0</td>\n",
       "      <td>0</td>\n",
       "      <td>0.0</td>\n",
       "      <td>0.0</td>\n",
       "      <td>0</td>\n",
       "      <td>0</td>\n",
       "      <td>BENIGN</td>\n",
       "    </tr>\n",
       "    <tr>\n",
       "      <th>3</th>\n",
       "      <td>389</td>\n",
       "      <td>15206</td>\n",
       "      <td>17</td>\n",
       "      <td>12</td>\n",
       "      <td>3452</td>\n",
       "      <td>6660</td>\n",
       "      <td>1313</td>\n",
       "      <td>0</td>\n",
       "      <td>203.058823</td>\n",
       "      <td>425.778474</td>\n",
       "      <td>...</td>\n",
       "      <td>32</td>\n",
       "      <td>0.0</td>\n",
       "      <td>0.0</td>\n",
       "      <td>0</td>\n",
       "      <td>0</td>\n",
       "      <td>0.0</td>\n",
       "      <td>0.0</td>\n",
       "      <td>0</td>\n",
       "      <td>0</td>\n",
       "      <td>BENIGN</td>\n",
       "    </tr>\n",
       "    <tr>\n",
       "      <th>4</th>\n",
       "      <td>88</td>\n",
       "      <td>1092</td>\n",
       "      <td>9</td>\n",
       "      <td>6</td>\n",
       "      <td>3150</td>\n",
       "      <td>3152</td>\n",
       "      <td>1575</td>\n",
       "      <td>0</td>\n",
       "      <td>350.000000</td>\n",
       "      <td>694.509719</td>\n",
       "      <td>...</td>\n",
       "      <td>32</td>\n",
       "      <td>0.0</td>\n",
       "      <td>0.0</td>\n",
       "      <td>0</td>\n",
       "      <td>0</td>\n",
       "      <td>0.0</td>\n",
       "      <td>0.0</td>\n",
       "      <td>0</td>\n",
       "      <td>0</td>\n",
       "      <td>BENIGN</td>\n",
       "    </tr>\n",
       "  </tbody>\n",
       "</table>\n",
       "<p>5 rows × 79 columns</p>\n",
       "</div>"
      ],
      "text/plain": [
       "    Destination Port   Flow Duration   Total Fwd Packets  \\\n",
       "0                 80           38308                   1   \n",
       "1                389             479                  11   \n",
       "2                 88            1095                  10   \n",
       "3                389           15206                  17   \n",
       "4                 88            1092                   9   \n",
       "\n",
       "    Total Backward Packets  Total Length of Fwd Packets  \\\n",
       "0                        1                            6   \n",
       "1                        5                          172   \n",
       "2                        6                         3150   \n",
       "3                       12                         3452   \n",
       "4                        6                         3150   \n",
       "\n",
       "    Total Length of Bwd Packets   Fwd Packet Length Max  \\\n",
       "0                             6                       6   \n",
       "1                           326                      79   \n",
       "2                          3150                    1575   \n",
       "3                          6660                    1313   \n",
       "4                          3152                    1575   \n",
       "\n",
       "    Fwd Packet Length Min   Fwd Packet Length Mean   Fwd Packet Length Std  \\\n",
       "0                       6                 6.000000                0.000000   \n",
       "1                       0                15.636364               31.449238   \n",
       "2                       0               315.000000              632.561635   \n",
       "3                       0               203.058823              425.778474   \n",
       "4                       0               350.000000              694.509719   \n",
       "\n",
       "   ...   min_seg_size_forward  Active Mean   Active Std   Active Max  \\\n",
       "0  ...                     20          0.0          0.0            0   \n",
       "1  ...                     32          0.0          0.0            0   \n",
       "2  ...                     32          0.0          0.0            0   \n",
       "3  ...                     32          0.0          0.0            0   \n",
       "4  ...                     32          0.0          0.0            0   \n",
       "\n",
       "    Active Min  Idle Mean   Idle Std   Idle Max   Idle Min   Label  \n",
       "0            0        0.0        0.0          0          0  BENIGN  \n",
       "1            0        0.0        0.0          0          0  BENIGN  \n",
       "2            0        0.0        0.0          0          0  BENIGN  \n",
       "3            0        0.0        0.0          0          0  BENIGN  \n",
       "4            0        0.0        0.0          0          0  BENIGN  \n",
       "\n",
       "[5 rows x 79 columns]"
      ]
     },
     "execution_count": 33,
     "metadata": {},
     "output_type": "execute_result"
    }
   ],
   "source": [
    "# display the dataframe\n",
    "df.head()"
   ]
  },
  {
   "cell_type": "markdown",
   "id": "7dc6be8d",
   "metadata": {},
   "source": [
    "### Printing all the Features available in our Model"
   ]
  },
  {
   "cell_type": "code",
   "execution_count": 4,
   "id": "82200578",
   "metadata": {},
   "outputs": [
    {
     "name": "stdout",
     "output_type": "stream",
     "text": [
      "Feature 1:\t\" Destination Port\"\n",
      "Feature 2:\t\" Flow Duration\"\n",
      "Feature 3:\t\" Total Fwd Packets\"\n",
      "Feature 4:\t\" Total Backward Packets\"\n",
      "Feature 5:\t\"Total Length of Fwd Packets\"\n",
      "Feature 6:\t\" Total Length of Bwd Packets\"\n",
      "Feature 7:\t\" Fwd Packet Length Max\"\n",
      "Feature 8:\t\" Fwd Packet Length Min\"\n",
      "Feature 9:\t\" Fwd Packet Length Mean\"\n",
      "Feature 10:\t\" Fwd Packet Length Std\"\n",
      "Feature 11:\t\"Bwd Packet Length Max\"\n",
      "Feature 12:\t\" Bwd Packet Length Min\"\n",
      "Feature 13:\t\" Bwd Packet Length Mean\"\n",
      "Feature 14:\t\" Bwd Packet Length Std\"\n",
      "Feature 15:\t\"Flow Bytes/s\"\n",
      "Feature 16:\t\" Flow Packets/s\"\n",
      "Feature 17:\t\" Flow IAT Mean\"\n",
      "Feature 18:\t\" Flow IAT Std\"\n",
      "Feature 19:\t\" Flow IAT Max\"\n",
      "Feature 20:\t\" Flow IAT Min\"\n",
      "Feature 21:\t\"Fwd IAT Total\"\n",
      "Feature 22:\t\" Fwd IAT Mean\"\n",
      "Feature 23:\t\" Fwd IAT Std\"\n",
      "Feature 24:\t\" Fwd IAT Max\"\n",
      "Feature 25:\t\" Fwd IAT Min\"\n",
      "Feature 26:\t\"Bwd IAT Total\"\n",
      "Feature 27:\t\" Bwd IAT Mean\"\n",
      "Feature 28:\t\" Bwd IAT Std\"\n",
      "Feature 29:\t\" Bwd IAT Max\"\n",
      "Feature 30:\t\" Bwd IAT Min\"\n",
      "Feature 31:\t\"Fwd PSH Flags\"\n",
      "Feature 32:\t\" Bwd PSH Flags\"\n",
      "Feature 33:\t\" Fwd URG Flags\"\n",
      "Feature 34:\t\" Bwd URG Flags\"\n",
      "Feature 35:\t\" Fwd Header Length\"\n",
      "Feature 36:\t\" Bwd Header Length\"\n",
      "Feature 37:\t\"Fwd Packets/s\"\n",
      "Feature 38:\t\" Bwd Packets/s\"\n",
      "Feature 39:\t\" Min Packet Length\"\n",
      "Feature 40:\t\" Max Packet Length\"\n",
      "Feature 41:\t\" Packet Length Mean\"\n",
      "Feature 42:\t\" Packet Length Std\"\n",
      "Feature 43:\t\" Packet Length Variance\"\n",
      "Feature 44:\t\"FIN Flag Count\"\n",
      "Feature 45:\t\" SYN Flag Count\"\n",
      "Feature 46:\t\" RST Flag Count\"\n",
      "Feature 47:\t\" PSH Flag Count\"\n",
      "Feature 48:\t\" ACK Flag Count\"\n",
      "Feature 49:\t\" URG Flag Count\"\n",
      "Feature 50:\t\" CWE Flag Count\"\n",
      "Feature 51:\t\" ECE Flag Count\"\n",
      "Feature 52:\t\" Down/Up Ratio\"\n",
      "Feature 53:\t\" Average Packet Size\"\n",
      "Feature 54:\t\" Avg Fwd Segment Size\"\n",
      "Feature 55:\t\" Avg Bwd Segment Size\"\n",
      "Feature 56:\t\" Fwd Header Length.1\"\n",
      "Feature 57:\t\"Fwd Avg Bytes/Bulk\"\n",
      "Feature 58:\t\" Fwd Avg Packets/Bulk\"\n",
      "Feature 59:\t\" Fwd Avg Bulk Rate\"\n",
      "Feature 60:\t\" Bwd Avg Bytes/Bulk\"\n",
      "Feature 61:\t\" Bwd Avg Packets/Bulk\"\n",
      "Feature 62:\t\"Bwd Avg Bulk Rate\"\n",
      "Feature 63:\t\"Subflow Fwd Packets\"\n",
      "Feature 64:\t\" Subflow Fwd Bytes\"\n",
      "Feature 65:\t\" Subflow Bwd Packets\"\n",
      "Feature 66:\t\" Subflow Bwd Bytes\"\n",
      "Feature 67:\t\"Init_Win_bytes_forward\"\n",
      "Feature 68:\t\" Init_Win_bytes_backward\"\n",
      "Feature 69:\t\" act_data_pkt_fwd\"\n",
      "Feature 70:\t\" min_seg_size_forward\"\n",
      "Feature 71:\t\"Active Mean\"\n",
      "Feature 72:\t\" Active Std\"\n",
      "Feature 73:\t\" Active Max\"\n",
      "Feature 74:\t\" Active Min\"\n",
      "Feature 75:\t\"Idle Mean\"\n",
      "Feature 76:\t\" Idle Std\"\n",
      "Feature 77:\t\" Idle Max\"\n",
      "Feature 78:\t\" Idle Min\"\n",
      "Feature 79:\t\" Label\"\n"
     ]
    }
   ],
   "source": [
    "# Print column names with their respective column numbers\n",
    "for i, col_name in enumerate(df.columns):\n",
    "    print(f\"Feature {i+1}:\\t\\\"{col_name}\\\"\")"
   ]
  },
  {
   "cell_type": "markdown",
   "id": "ea77b137",
   "metadata": {},
   "source": [
    "## Preparing the Classification model using Decision Tree Classifier"
   ]
  },
  {
   "cell_type": "markdown",
   "id": "93897eee",
   "metadata": {},
   "source": [
    "### Training and Obtaining accuracy for a **`range`** of features **`individually`**"
   ]
  },
  {
   "cell_type": "code",
   "execution_count": 5,
   "id": "9ed8fa60",
   "metadata": {
    "scrolled": false
   },
   "outputs": [
    {
     "name": "stdout",
     "output_type": "stream",
     "text": [
      "Accuracy for column 'Dst Port' : 0.9956549587961989\n",
      "Accuracy for column 'Protocol' : 0.7262337240205732\n",
      "'Timestamp' isn't a feature column\n",
      "Accuracy for column 'Flow Duration' : 0.9491596718991989\n",
      "Accuracy for column 'Tot Fwd Pkts' : 0.7796026844611001\n",
      "Accuracy for column 'Tot Bwd Pkts' : 0.8112177587426627\n",
      "Accuracy for column 'TotLen Fwd Pkts' : 0.861603984627445\n",
      "Accuracy for column 'TotLen Bwd Pkts' : 0.8618429857937707\n",
      "Accuracy for column 'Fwd Pkt Len Max' : 0.8614319037876905\n",
      "Accuracy for column 'Fwd Pkt Len Min' : 0.7262337240205732\n"
     ]
    }
   ],
   "source": [
    "# to display individual features with a given range\n",
    "startC = 1\n",
    "endC = 10\n",
    "for start_col in range(startC-1, endC, 1):\n",
    "    end_col = start_col + 1\n",
    "    try:\n",
    "        X = df.iloc[:, start_col:end_col].values\n",
    "        y = df.iloc[:, -1].values\n",
    "\n",
    "        # Split the data into training and testing sets\n",
    "        X_train, X_test, y_train, y_test = train_test_split(\n",
    "            X, y, test_size=0.2, random_state=42)\n",
    "\n",
    "        # Train the decision tree classifier\n",
    "        clf = DecisionTreeClassifier()\n",
    "        clf.fit(X_train, y_train)\n",
    "\n",
    "        # Test the classifier\n",
    "        accuracy = clf.score(X_test, y_test)\n",
    "        print(f\"Accuracy for column '{columns[end_col-1]}' : {accuracy}\")\n",
    "    except:\n",
    "        print(f\"'{columns[end_col-1]}' isn't a feature column\")\n"
   ]
  },
  {
   "cell_type": "markdown",
   "id": "826ca7e7",
   "metadata": {},
   "source": [
    "### Training and Obtaining accuracy for a **`group`** of features **`together`**"
   ]
  },
  {
   "cell_type": "code",
   "execution_count": 6,
   "id": "8eae2423",
   "metadata": {
    "scrolled": true
   },
   "outputs": [
    {
     "name": "stdout",
     "output_type": "stream",
     "text": [
      "Accuracy for the following features combined ['Flow Duration', 'Tot Fwd Pkts', 'Tot Bwd Pkts', 'TotLen Fwd Pkts', 'TotLen Bwd Pkts', 'Fwd Pkt Len Max', 'Fwd Pkt Len Min'] is:  0.9985468729087398\n"
     ]
    }
   ],
   "source": [
    "# Select the 6th column as the feature and the last column as the label\n",
    "# example:\n",
    "# from 4th col to 16th col\n",
    "bCol = 4\n",
    "eCol = 10\n",
    "X = df.iloc[:, bCol-1:eCol].values\n",
    "# X = df.iloc[:, 3:4].values\n",
    "y = df.iloc[:, -1].values\n",
    "\n",
    "# Split the data into training and testing sets\n",
    "X_train, X_test, y_train, y_test = train_test_split(\n",
    "    X, y, test_size=0.2, random_state=42)\n",
    "\n",
    "# Train the decision tree classifier\n",
    "clf = DecisionTreeClassifier()\n",
    "clf.fit(X_train, y_train)\n",
    "\n",
    "# Test the classifier\n",
    "accuracy = clf.score(X_test, y_test)\n",
    "\n",
    "selected_cols = df.iloc[:,bCol-1:eCol]\n",
    "\n",
    "print(\"Accuracy for the following features combined\",selected_cols.columns.tolist(),\"is: \",accuracy)\n"
   ]
  },
  {
   "cell_type": "markdown",
   "id": "0a12a370",
   "metadata": {},
   "source": [
    "### Obtaining **`group`** accuracy with **`Feature names`** as Input"
   ]
  },
  {
   "cell_type": "code",
   "execution_count": 7,
   "id": "cdea3cbb",
   "metadata": {},
   "outputs": [
    {
     "name": "stdout",
     "output_type": "stream",
     "text": [
      "Accuracy for the following features combined ['Fwd Pkts/s', 'Bwd Pkts/s'] is:  0.994632033804325\n"
     ]
    }
   ],
   "source": [
    "# specify column names to select\n",
    "selected_cols = ['Fwd Pkts/s','Bwd Pkts/s']\n",
    "\n",
    "# select columns by name using loc\n",
    "X = df.loc[:, selected_cols].values\n",
    "y = df.iloc[:, -1].values\n",
    "\n",
    "# Split the data into training and testing sets\n",
    "X_train, X_test, y_train, y_test = train_test_split(\n",
    "    X, y, test_size=0.2, random_state=42)\n",
    "\n",
    "# Train the decision tree classifier\n",
    "clf = DecisionTreeClassifier()\n",
    "clf.fit(X_train, y_train)\n",
    "\n",
    "# Test the classifier\n",
    "accuracy = clf.score(X_test, y_test)\n",
    "\n",
    "\n",
    "print(\"Accuracy for the following features combined\",selected_cols,\"is: \",accuracy)\n"
   ]
  },
  {
   "cell_type": "markdown",
   "id": "c7870765",
   "metadata": {},
   "source": [
    "### Obtaining **`individual`** accuracy with **`Feature names`** as Input"
   ]
  },
  {
   "cell_type": "code",
   "execution_count": 8,
   "id": "c51c3879",
   "metadata": {},
   "outputs": [
    {
     "name": "stdout",
     "output_type": "stream",
     "text": [
      "Accuracy for column 'Fwd Pkts/s' : 0.9521997667348616\n",
      "Accuracy for column 'Bwd Pkts/s' : 0.848635781342613\n"
     ]
    }
   ],
   "source": [
    "# Define the list of column names to iterate over\n",
    "col_names = ['Fwd Pkts/s','Bwd Pkts/s']\n",
    "\n",
    "for col_name in col_names:\n",
    "    try:\n",
    "        X = df[[col_name]].values\n",
    "        y = df.iloc[:, -1].values\n",
    "\n",
    "        # Split the data into training and testing sets\n",
    "        X_train, X_test, y_train, y_test = train_test_split(\n",
    "            X, y, test_size=0.2, random_state=42)\n",
    "\n",
    "        # Train the decision tree classifier\n",
    "        clf = DecisionTreeClassifier()\n",
    "        clf.fit(X_train, y_train)\n",
    "\n",
    "        # Test the classifier\n",
    "        accuracy = clf.score(X_test, y_test)\n",
    "        print(f\"Accuracy for column '{col_name}' : {accuracy}\")\n",
    "    except:\n",
    "        print(f\"'{col_name}' isn't a feature column\")\n"
   ]
  },
  {
   "cell_type": "markdown",
   "id": "bf47ae3d",
   "metadata": {},
   "source": [
    "### Obtaining **`individual`** accuracy with **`Feature numbers`** as Input"
   ]
  },
  {
   "cell_type": "code",
   "execution_count": 34,
   "id": "4c4e0220",
   "metadata": {},
   "outputs": [
    {
     "name": "stdout",
     "output_type": "stream",
     "text": [
      "Accuracy for column ' Destination Port' : 0.8998202698118246\n",
      "Accuracy for column ' Flow Duration' : 0.8749972932200576\n",
      "Accuracy for column ' Total Fwd Packets' : 0.7744133505604839\n",
      "Accuracy for column ' Total Backward Packets' : 0.8173609256465595\n",
      "Accuracy for column ' Fwd Packet Length Mean' : 0.8329447600349356\n",
      "Accuracy for column ' Bwd Packet Length Mean' : 0.8739290174027905\n",
      "Accuracy for column ' Flow IAT Mean' : 0.8701250893237381\n",
      "Accuracy for column ' Fwd IAT Mean' : 0.8706520091525253\n",
      "Accuracy for column ' Bwd IAT Mean' : 0.7988321146808526\n",
      "Accuracy for column 'Fwd PSH Flags' : 0.6364181000570228\n",
      "Accuracy for column ' Bwd PSH Flags' : 0.6364181000570228\n",
      "Accuracy for column ' Fwd URG Flags' : 0.6364181000570228\n",
      "Accuracy for column ' Bwd URG Flags' : 0.6364181000570228\n",
      "Accuracy for column ' Fwd Header Length' : 0.8167618250193084\n",
      "Accuracy for column ' Bwd Header Length' : 0.8509610873315481\n",
      "Accuracy for column ' Packet Length Mean' : 0.9005926043553893\n",
      "Accuracy for column 'Init_Win_bytes_forward' : 0.9383792523512895\n",
      "Accuracy for column ' Init_Win_bytes_backward' : 0.8721389336008835\n",
      "Accuracy for column 'Active Mean' : 0.8347637161562281\n",
      "Accuracy for column 'Idle Mean' : 0.8387336600717478\n"
     ]
    }
   ],
   "source": [
    "cols = [1,2,3,4,9,13,17,22,27,31,32,33,34,35,36,41,67,68,71,75] # Example list of column indices to test\n",
    "for start_col in cols:\n",
    "    start_col-=1\n",
    "    end_col = start_col + 1\n",
    "    try:\n",
    "        X = df.iloc[:, start_col:end_col].values\n",
    "        y = df.iloc[:, -1].values\n",
    "\n",
    "        # Split the data into training and testing sets\n",
    "        X_train, X_test, y_train, y_test = train_test_split(\n",
    "            X, y, test_size=0.2, random_state=42)\n",
    "\n",
    "        # Train the decision tree classifier\n",
    "        clf = DecisionTreeClassifier()\n",
    "        clf.fit(X_train, y_train)\n",
    "\n",
    "        # Test the classifier\n",
    "        accuracy = clf.score(X_test, y_test)\n",
    "        print(f\"Accuracy for column '{columns[end_col-1]}' : {accuracy}\")\n",
    "    except:\n",
    "        print(f\"'{columns[end_col-1]}' isn't a feature column\")\n"
   ]
  },
  {
   "cell_type": "markdown",
   "id": "9e676636",
   "metadata": {},
   "source": [
    "### Obtaining **`group`** accuracy with **`Feature numbers`** as Input"
   ]
  },
  {
   "cell_type": "code",
   "execution_count": 35,
   "id": "2a6e7063",
   "metadata": {},
   "outputs": [
    {
     "name": "stdout",
     "output_type": "stream",
     "text": [
      "Accuracy for the following features combined [' Destination Port', ' Flow Duration', ' Total Fwd Packets', ' Total Backward Packets', ' Fwd Packet Length Mean', ' Bwd Packet Length Mean', ' Flow IAT Mean', ' Fwd IAT Mean', ' Bwd IAT Mean', 'Fwd PSH Flags', ' Bwd PSH Flags', ' Fwd URG Flags', ' Bwd URG Flags', ' Fwd Header Length', ' Bwd Header Length', ' Packet Length Mean', 'Init_Win_bytes_forward', ' Init_Win_bytes_backward', 'Active Mean', 'Idle Mean'] is: 0.9995091705704449\n"
     ]
    }
   ],
   "source": [
    "# specify column indexes to select\n",
    "selected_cols_idx = [1,2,3,4,9,13,17,22,27,31,32,33,34,35,36,41,67,68,71,75]\n",
    "\n",
    "selected_cols_idx = [x - 1 for x in selected_cols_idx]\n",
    "\n",
    "# select columns by index using iloc\n",
    "X = df.iloc[:, selected_cols_idx].values\n",
    "y = df.iloc[:, -1].values\n",
    "\n",
    "# Split the data into training and testing sets\n",
    "X_train, X_test, y_train, y_test = train_test_split(\n",
    "    X, y, test_size=0.2, random_state=42)\n",
    "\n",
    "# Train the decision tree classifier\n",
    "clf = DecisionTreeClassifier()\n",
    "clf.fit(X_train, y_train)\n",
    "\n",
    "# Test the classifier\n",
    "accuracy = clf.score(X_test, y_test)\n",
    "\n",
    "# Get the names of the selected columns\n",
    "selected_cols = list(df.columns[selected_cols_idx])\n",
    "\n",
    "print(\"Accuracy for the following features combined\", selected_cols, \"is:\", accuracy)\n"
   ]
  }
 ],
 "metadata": {
  "kernelspec": {
   "display_name": "Python 3 (ipykernel)",
   "language": "python",
   "name": "python3"
  },
  "language_info": {
   "codemirror_mode": {
    "name": "ipython",
    "version": 3
   },
   "file_extension": ".py",
   "mimetype": "text/x-python",
   "name": "python",
   "nbconvert_exporter": "python",
   "pygments_lexer": "ipython3",
   "version": "3.10.9"
  }
 },
 "nbformat": 4,
 "nbformat_minor": 5
}
