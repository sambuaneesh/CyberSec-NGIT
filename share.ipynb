{
 "cells": [
  {
   "cell_type": "code",
   "execution_count": null,
   "metadata": {},
   "outputs": [],
   "source": [
    "import pandas as pd\n",
    "\n",
    "# Load the dataset into a Pandas DataFrame\n",
    "df = pd.read_csv(r\"path\")\n",
    "\n",
    "# Calculate the percentage of each label in the dataset\n",
    "label_percentages = df.iloc[:, -1].value_counts() / df.shape[0] * 100\n",
    "\n",
    "# Print the label percentages\n",
    "print(label_percentages)\n"
   ]
  },
  {
   "cell_type": "code",
   "execution_count": null,
   "metadata": {},
   "outputs": [],
   "source": [
    "import pandas as pd\n",
    "\n",
    "# Load the dataset into a Pandas DataFrame\n",
    "df = pd.read_csv(r\"D:\\Stuff\\CyberSec\\Datasets\\IDS2018\\02-14-2018.csv\")\n",
    "\n",
    "# Replace all labels except \"Benign\" with \"Bruteforce\"\n",
    "df.iloc[:, -1] = df.iloc[:, -1].apply(lambda x: 'Bruteforce' if x != 'Benign' else x)\n",
    "\n",
    "# Filter the dataset to exclude \"Benign\" samples\n",
    "df_filtered = df[df.iloc[:, -1] != 'Benign']\n",
    "\n",
    "# Export the updated dataset to a new CSV file, overwriting the original dataset\n",
    "df_filtered.to_csv('your_name.csv', index=False)\n"
   ]
  }
 ],
 "metadata": {
  "language_info": {
   "name": "python"
  },
  "orig_nbformat": 4
 },
 "nbformat": 4,
 "nbformat_minor": 2
}
